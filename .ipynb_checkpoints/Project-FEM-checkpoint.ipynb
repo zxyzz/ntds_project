{
 "cells": [
  {
   "cell_type": "code",
   "execution_count": 7,
   "metadata": {},
   "outputs": [],
   "source": [
    "# cell used to import important library of the notebook\n",
    "import numpy as np\n",
    "import sys\n",
    "from scipy import sparse\n",
    "from scipy.spatial.distance import pdist, squareform\n",
    "import matplotlib.pyplot as plt\n",
    "from mpl_toolkits.mplot3d import Axes3D\n",
    "import pandas as pd\n",
    "import networkx as nx\n",
    "from sklearn.preprocessing import StandardScaler\n",
    "from utils import * # contains all helper functions used in the project\n",
    "import scipy as sci\n",
    "from sklearn.cluster import KMeans\n",
    "import sklearn.metrics as sm"
   ]
  },
  {
   "cell_type": "markdown",
   "metadata": {},
   "source": [
    "# I. Load, clean, study and prepare the data for graph creation\n",
    "## I.1 Data cleaning & preperation\n",
    "**Preparing IRS data**"
   ]
  },
  {
   "cell_type": "code",
   "execution_count": 8,
   "metadata": {},
   "outputs": [],
   "source": [
    "#load the data\n",
    "df_migrations = pd.read_csv(\"./NTDS_Data/countyinflow1516.csv\" )\n",
    "# create the combined fips county number of destination\n",
    "df_migrations['statefips_str'] = df_migrations['y2_statefips'].apply(lambda x : str(x).zfill(2))\n",
    "df_migrations['countyfips_str'] = df_migrations['y2_countyfips'].apply(lambda x : str(x).zfill(3))\n",
    "df_migrations['combined_fips-destination'] = df_migrations['statefips_str'].apply(lambda x: x.lstrip('0')) + df_migrations['countyfips_str']\n",
    "\n",
    "# create the combined fips county number of source\n",
    "df_migrations['statefips_str1'] = df_migrations['y1_statefips'].apply(lambda x : str(x).zfill(2))\n",
    "df_migrations['countyfips_str1'] = df_migrations['y1_countyfips'].apply(lambda x : str(x).zfill(3))\n",
    "df_migrations['combined_fips-source'] = df_migrations['statefips_str1'].apply(lambda x: x.lstrip('0')) + df_migrations['countyfips_str1']\n",
    "\n",
    "\n",
    "# Cleaning the data to have only source and origin counties and unemployment rate as a new column\n",
    "df_migrations = df_migrations[df_migrations['y1_statefips']<=56]\n",
    "df_migrations[\"Unemployment rate\"] = df_migrations[\"n1\"]/(df_migrations[\"n2\"] +df_migrations[\"n1\"] )\n",
    "\n",
    "# drop useless information \n",
    "df_migrations = df_migrations.drop(columns=[\"y1_countyname\",\"y2_statefips\", \"y2_countyfips\", \"y1_statefips\", \"y1_countyfips\", \"y1_state\", \"statefips_str\", \"countyfips_str\",\"statefips_str1\", \"countyfips_str1\"])\n",
    "\n",
    "# remove nodes where data is undefined undefined data by zero\n",
    "df_migrations = df_migrations[df_migrations['n1'] != -1]\n",
    "\n",
    "# convert combined fips to int64\n",
    "df_migrations['combined_fips-destination'] = df_migrations['combined_fips-destination'].astype('int64')\n",
    "df_migrations['combined_fips-source'] = df_migrations['combined_fips-source'].astype('int64')\n",
    "\n",
    "#extracting the combined fips destination and combined fips source for graph in form of numpy arrays\n",
    "df_graph= df_migrations.drop(columns=[\"n1\",\"n2\",\"agi\",\"Unemployment rate\"])\n",
    "\n",
    "# extracting all the combinations that have happened in the US between county\n",
    "dest_source = df_graph.to_numpy()\n",
    "\n",
    "# reset index starting from 0 (because rows were dropped)\n",
    "df_migrations = df_migrations.reset_index()\n",
    "df_migrations = df_migrations.drop(columns=['index'])"
   ]
  },
  {
   "cell_type": "markdown",
   "metadata": {},
   "source": [
    "**From the IRS dataset create adjency matrix**  \n",
    "In this adjency matrix, the nodes are the counties and the edges are :\n",
    "- `A_total[i, j]` := total number of people who migrated from county i to county j\n",
    "- `A_returns[i, j]` := number of people who migrated from i to j and payed taxes \n",
    "- `A_exempt[i, j]` := number of people who migrated from county i to county j and did not payed taxes\n"
   ]
  },
  {
   "cell_type": "code",
   "execution_count": 9,
   "metadata": {},
   "outputs": [],
   "source": [
    "nodes_index = np.unique(dest_source)\n",
    "num_nodes = nodes_index.shape[0]\n",
    "A_total = np.zeros((num_nodes, num_nodes))\n",
    "A_returns = np.zeros((num_nodes, num_nodes))\n",
    "A_exemptions = np.zeros((num_nodes, num_nodes))\n",
    "count = 0\n",
    "for dest, source in dest_source : \n",
    "    i = np.where(nodes_index == dest)\n",
    "    j = np.where(nodes_index == source)\n",
    "    total = df_migrations[\"n1\"][count] + df_migrations[\"n2\"][count]\n",
    "    \n",
    "    A_total[j[0], i[0]] = df_migrations[\"n1\"][count] + df_migrations[\"n2\"][count]\n",
    "    A_returns[j[0], i[0]] = df_migrations[\"n1\"][count]/total\n",
    "    A_exemptions[j[0], i[0]] = df_migrations[\"n2\"][count]/total\n",
    "    count += 1"
   ]
  },
  {
   "cell_type": "markdown",
   "metadata": {},
   "source": [
    "**Preparing the presidential result by county dataset**   \n",
    "The main idea in this cell is to prepare the presidential result by county dataset. To each county a label is given : $+1$ if the county has a majority of Republican and $-1$ if the county has a majority of Democrat"
   ]
  },
  {
   "cell_type": "code",
   "execution_count": 10,
   "metadata": {},
   "outputs": [],
   "source": [
    "df_presidential_result = pd.read_csv(\"./NTDS_Data/2016_US_County_Level_Presidential_Results.csv\" )\n",
    "df_presidential_result = df_presidential_result.drop(columns=[\"Unnamed: 0\",\"votes_dem\", \"votes_gop\", \"total_votes\", \"diff\", \"per_point_diff\", \"state_abbr\", \"county_name\"])\n",
    "\n",
    "#Sorting according to the fips code to be consistent with the migration data by IRS\n",
    "df_presidential_result = df_presidential_result.sort_values(by=['combined_fips'])\n",
    "\n",
    "#Adding a new column of the winners with -1 corresponding to democrat and 1 to republican\n",
    "\n",
    "df_presidential_result[\"Winner\"] =  np.where((df_presidential_result['per_dem'] > df_presidential_result['per_gop']), -1, 1)\n",
    "\n",
    "df_presidential_result = df_presidential_result.drop(columns=[\"per_dem\",\"per_gop\"])\n",
    "\n",
    "# Redindex some FIPS due to difference between FIPS\n",
    "test = nodes_index - df_presidential_result[\"combined_fips\"].values\n",
    "df_presidential_result[\"combined_fips\"] = df_presidential_result[\"combined_fips\"] + test"
   ]
  },
  {
   "cell_type": "markdown",
   "metadata": {},
   "source": [
    "## I.2 Study the datasets at hand \n",
    "First we study the proportion of people paying taxes and not paying taxes for each migration flow. An histogram of these migration is plotted.  \n",
    "As one can see, on average, $35$% of the people in a migration flow are paying taxes (and conversly $65$% are exempt from paying taxes).   \n",
    "At most, $50$% of the people in a migration flow will pay taxes. Hence, it is intersting to note that most people who migrate are not exempt from paying taxes. \n",
    "In subsequent part of this notebook, we will try to see if we can use these proportions to predict if a county is either voting Republican or Democrat. "
   ]
  },
  {
   "cell_type": "code",
   "execution_count": 11,
   "metadata": {},
   "outputs": [],
   "source": [
    "# <returns, exempt>\n",
    "node_pct = np.zeros((df_migrations.shape[0], 2))\n",
    "for i in range (0, df_migrations.shape[0]) : \n",
    "    total = df_migrations['n1'][i] + df_migrations['n2'][i]\n",
    "    node_pct[i, 0] = df_migrations['n1'][i] / total\n",
    "    node_pct[i, 1] = df_migrations['n2'][i] / total\n",
    "df_node_pct = pd.DataFrame(node_pct, columns=[\"pct_return\", \"pct_exempt\"])"
   ]
  },
  {
   "cell_type": "code",
   "execution_count": 12,
   "metadata": {},
   "outputs": [
    {
     "name": "stderr",
     "output_type": "stream",
     "text": [
      "C:\\Users\\fatimzzahra moujrid\\.conda\\envs\\test\\lib\\site-packages\\ipykernel_launcher.py:1: MatplotlibDeprecationWarning: \n",
      "The 'normed' kwarg was deprecated in Matplotlib 2.1 and will be removed in 3.1. Use 'density' instead.\n",
      "  \"\"\"Entry point for launching an IPython kernel.\n"
     ]
    },
    {
     "data": {
      "image/png": "[encoded data removed]",
      "text/plain": [
       "<Figure size 432x288 with 1 Axes>"
      ]
     },
     "metadata": {
      "needs_background": "light"
     },
     "output_type": "display_data"
    }
   ],
   "source": [
    "plt.hist(df_node_pct[\"pct_return\"].values, normed=False, bins=30)\n",
    "plt.title('Distribution of the proportion of migration where people are paying taxes')\n",
    "plt.ylabel('Number of migration');\n",
    "plt.xlabel('Pct. of people paying tax and migrating');"
   ]
  },
  {
   "cell_type": "code",
   "execution_count": 13,
   "metadata": {},
   "outputs": [
    {
     "name": "stderr",
     "output_type": "stream",
     "text": [
      "C:\\Users\\fatimzzahra moujrid\\.conda\\envs\\test\\lib\\site-packages\\ipykernel_launcher.py:1: MatplotlibDeprecationWarning: \n",
      "The 'normed' kwarg was deprecated in Matplotlib 2.1 and will be removed in 3.1. Use 'density' instead.\n",
      "  \"\"\"Entry point for launching an IPython kernel.\n"
     ]
    },
    {
     "data": {
      "image/png": "[encoded data removed]",
      "text/plain": [
       "<Figure size 432x288 with 1 Axes>"
      ]
     },
     "metadata": {
      "needs_background": "light"
     },
     "output_type": "display_data"
    }
   ],
   "source": [
    "plt.hist(df_node_pct[\"pct_exempt\"].values, normed=False, bins=30)\n",
    "plt.title('Distribution of the proportion of migration where people are not paying taxes')\n",
    "plt.ylabel('Number of migration');\n",
    "plt.xlabel('Pct. of people not paying tax and migrating');"
   ]
  },
  {
   "cell_type": "markdown",
   "metadata": {},
   "source": [
    "One wants to also consider the proportion of Republican and Democrat counties in the US. Before doing the actual computation, a bit of historic background on the US electoral system is required. \n",
    "Historically, most of the states in the US are Republican. Hence, if one draws a simple geographic map of the US, he would color most states in red (the color of the Rebublican). However, if then one scales the size each state with the number of inhabitants in each county, then the proportion of blue and red on the map would be more or less equal, with coastal states (states that are on the Atlantic or Pacific coast) in blue, and the inner states red (Republican). \n",
    "Our computations verify this historical proportions : more than $84$% of the counties are Republican. "
   ]
  },
  {
   "cell_type": "code",
   "execution_count": 14,
   "metadata": {},
   "outputs": [
    {
     "name": "stdout",
     "output_type": "stream",
     "text": [
      "Pct. of counties Republican :  0.8449538363578478  // Pct. of counties Democrat :  0.15504616364215218\n"
     ]
    }
   ],
   "source": [
    "num_republicans = df_presidential_result[df_presidential_result['Winner'] == 1].shape[0]\n",
    "num_democrats = df_presidential_result[df_presidential_result['Winner'] == -1].shape[0]\n",
    "pct_republican = df_presidential_result[df_presidential_result['Winner'] == 1].shape[0] / df_presidential_result.shape[0]\n",
    "pct_democrat = df_presidential_result[df_presidential_result['Winner'] == -1].shape[0] / df_presidential_result.shape[0]\n",
    "print(\"Pct. of counties Republican : \", pct_republican, \" // Pct. of counties Democrat : \", pct_democrat)"
   ]
  },
  {
   "cell_type": "markdown",
   "metadata": {},
   "source": [
    "# II. Creation of simple graph following structure of migration & first attempt to predict county type\n",
    "## II.1 Creation of simple graph\n",
    "The first graphs that will be studied in this notebook are simple to understand as they follow the structure of a migration : if there is a migration between county i and j, then an edge is set between these to counties. \n",
    "Before moving on, it is intersting to note that in this section, we are creating graph that are suppose to show a correlation between a type of migration and a voting pattern in a county. \n",
    "When we refer to \"type of migration\", we mean what kind of proportion is there between people paying taxes and not paying taxes in a specific migration flow. For exemple, we say that a migration flow has a high proportion of people paying taxes if more then $40$% of the people in the migration flow are paying taxes. The idea is to correlate this migration to a specific voting pattern in the destination county. \n",
    "To achieve this task we will be creating 2 types of graph : \n",
    "- `graph_nonRGB_returns` : in these graph there is a migration between two counties if (1) there is an actual migration between county i and j and (2) if the migration flow as a proportion of people paying taxes greater then a **specified threshold**. \n",
    "- `graph_nonRGB_exempt`: same type of graph as before, but now we are studying the proportions of exempted people in a migration flow\n",
    "\n",
    "In subsequent cells, we code mainly two methods : one for creating `graph_nonRGB_return` graphs and one for creating `graph_nonRGB_exempt` \n",
    "\n",
    "**Note :** we refer to graph created in this section as \"nonRGB\" as in later section we will be using RGB graphs. One can read this notation as being a raw graph built on migration without any kind of similarity extrapolation. "
   ]
  },
  {
   "cell_type": "code",
   "execution_count": 15,
   "metadata": {},
   "outputs": [],
   "source": [
    "def create_adjency_nonRGB_returns(threshold_returns, plot_adj_returns=False) : \n",
    "    \"\"\"\n",
    "    Create the adjency matrix for a graph where there is an edge between two county if migration flow \n",
    "    between two county has a proportion of people paying taxes greater than threshold_returns\n",
    "    \"\"\"\n",
    "    adjacency_nonRGB_returns = A_returns.copy()\n",
    "    adjacency_nonRGB_returns[adjacency_nonRGB_returns >= threshold_returns] = 1\n",
    "    adjacency_nonRGB_returns[adjacency_nonRGB_returns < threshold_returns] = 0\n",
    "\n",
    "    if plot_adj_returns : \n",
    "        plt.spy(adjacency_nonRGB_returns)\n",
    "        plt.show()\n",
    "        \n",
    "    return adjacency_nonRGB_returns\n",
    "\n",
    "def create_graph_nonRGB_returns(threshold_returns, plot_adj_returns=False) :\n",
    "    \"\"\"\n",
    "    Create a graph where there is an edge between two county if migration flow \n",
    "    between two county has a proportion of people paying taxes greater than threshold_returns\n",
    "    The attribute plot_adj_returns can is a boolean used if one wants to plot the adjency matrix of the graph\n",
    "    \"\"\"\n",
    "    i = np.where(nodes_index == dest)\n",
    "    graph_nonRGB_returns = nx.from_numpy_array(create_adjency_nonRGB_returns(threshold_returns, plot_adj_returns))\n",
    "    nodes = np.zeros((nodes_index.shape[0], 2))\n",
    "    for fips, result in df_presidential_result.values :\n",
    "        i = np.where(nodes_index == fips)\n",
    "        index = i[0][0]\n",
    "        nodes[index, 0] = index\n",
    "        nodes[index, 1] = result\n",
    "   \n",
    "    node = pd.DataFrame(nodes, columns=[\"id\", \"result\"])\n",
    "    node_props = node.to_dict()\n",
    "    for key in node_props:\n",
    "        nx.set_node_attributes(graph_nonRGB_returns, node_props[key], key)\n",
    "\n",
    "    nx.write_gexf(graph_nonRGB_returns, 'graph_nonRGB_returns_35.gexf')\n",
    "    return graph_nonRGB_returns\n",
    "\n",
    "def create_graph_nonRGB_returns_features(threshold_returns, plot_adj_returns=False): \n",
    "    i = np.where(nodes_index == dest)\n",
    "    graph_nonRGB_returns = nx.from_numpy_array(create_adjency_nonRGB_returns(threshold_returns, plot_adj_returns))\n",
    "    nodes = np.zeros((nodes_index.shape[0], 4))\n",
    "    for fips, result in df_presidential_result.values :\n",
    "        i = np.where(nodes_index == fips)\n",
    "        index = i[0][0]\n",
    "        nodes[index, 0] = index\n",
    "        nodes[index, 1] = result\n",
    "   \n",
    "    for j in range (0, df_migrations.shape[0]): \n",
    "        fips = df_migrations['combined_fips-destination'][j]\n",
    "        i = np.where(nodes_index == fips)\n",
    "        index = i[0][0]\n",
    "        nodes[index, 2] = df_migrations['agi'][j]\n",
    "        nodes[index, 3] = df_migrations['Unemployment rate'][j]\n",
    "    \n",
    "    node = pd.DataFrame(nodes, columns=[\"id\", \"result\", \"agi\", \"unemployment_rate\"])\n",
    "    node_props = node.to_dict()\n",
    "    for key in node_props:\n",
    "        nx.set_node_attributes(graph_nonRGB_returns, node_props[key], key)\n",
    "\n",
    "    nx.write_gexf(graph_nonRGB_returns, 'graph_nonRGB_returns_35.gexf')\n",
    "    return graph_nonRGB_returns, node"
   ]
  },
  {
   "cell_type": "code",
   "execution_count": 16,
   "metadata": {},
   "outputs": [],
   "source": [
    "# construct graph for flows with more then 45% returns \n",
    "# create adjacency matrix for flows with more then 45% returns \n",
    "def create_adjency_nonRGB_exempt(thershold_exempt, plot_adj_exempt = False ) : \n",
    "    \"\"\"\n",
    "    Create the adjency matrix for a graph where there is an edge between two county if migration flow \n",
    "    between two county has a proportion of people not paying taxes greater than thershold_exempt\n",
    "    \"\"\"\n",
    "    adjacency_nonRGB_exempt = A_exemptions.copy()\n",
    "    adjacency_nonRGB_exempt[adjacency_nonRGB_exempt >= thershold_exempt] = 1\n",
    "    adjacency_nonRGB_exempt[adjacency_nonRGB_exempt < thershold_exempt] = 0\n",
    "    \n",
    "    if plot_adj_exempt : \n",
    "        plt.spy(adjacency_nonRGB_exempt)\n",
    "        plt.show()\n",
    "        \n",
    "    return adjacency_nonRGB_exempt\n",
    "\n",
    "def create_graph_nonRGB_exempt(threshold_exempt, plot_adj_exempt = False) : \n",
    "    \"\"\"\n",
    "    Create a graph where there is an edge between two county if migration flow \n",
    "    between two county has a proportion of people not paying taxes greater than threshold_exempt\n",
    "    The attribute plot_adj_exempt can is a boolean used if one wants to plot the adjency matrix of the graph\n",
    "    \"\"\"\n",
    "    i = np.where(nodes_index == dest)\n",
    "    graph_nonRGB_exempt = nx.from_numpy_array(create_adjency_nonRGB_exempt(threshold_exempt, plot_adj_exempt))\n",
    "    nodes = np.zeros((nodes_index.shape[0], 2))\n",
    "    for fips, result in df_presidential_result.values :\n",
    "        i = np.where(nodes_index == fips)\n",
    "        index = i[0][0]\n",
    "        nodes[index, 0] = index\n",
    "        nodes[index, 1] = result\n",
    "        \n",
    "    node = pd.DataFrame(nodes, columns=[\"id\", \"result\"])\n",
    "    node_props = node.to_dict()\n",
    "    for key in node_props:\n",
    "        nx.set_node_attributes(graph_nonRGB_exempt, node_props[key], key)\n",
    "\n",
    "    nx.write_gexf(graph_nonRGB_exempt, 'graph_nonRGB_exempt.gexf')\n",
    "    return graph_nonRGB_exempt\n",
    "\n",
    "def create_graph_nonRGB_exempt_features(threshold_exempt, plot_adj_exempt = False) :  \n",
    "    i = np.where(nodes_index == dest)\n",
    "    graph_nonRGB_exempt = nx.from_numpy_array(create_adjency_nonRGB_exempt(threshold_exempt, plot_adj_exempt))\n",
    "    nodes = np.zeros((nodes_index.shape[0], 4))\n",
    "    for fips, result in df_presidential_result.values :\n",
    "        i = np.where(nodes_index == fips)\n",
    "        index = i[0][0]\n",
    "        nodes[index, 0] = index\n",
    "        nodes[index, 1] = result\n",
    "    \n",
    "    for j in range (0, df_migrations.shape[0]): \n",
    "        fips = df_migrations['combined_fips-destination'][j]\n",
    "        i = np.where(nodes_index == fips)\n",
    "        index = i[0][0]\n",
    "        nodes[index, 2] = df_migrations['agi'][j]\n",
    "        nodes[index, 3] = df_migrations['Unemployment rate'][j]\n",
    "        \n",
    "    node = pd.DataFrame(nodes, columns=[\"id\", \"result\", \"agi\", \"unemployment_rate\"])\n",
    "    node_props = node.to_dict()\n",
    "    for key in node_props:\n",
    "        nx.set_node_attributes(graph_nonRGB_exempt, node_props[key], key)\n",
    "\n",
    "    nx.write_gexf(graph_nonRGB_exempt, 'graph_nonRGB_exempt.gexf')\n",
    "    return graph_nonRGB_exempt, node\n"
   ]
  },
  {
   "cell_type": "markdown",
   "metadata": {},
   "source": [
    "## II.2 First attempt at predicting election results\n",
    "With the graph built in the previous section, we want to see if there is some sort of pattern between a particular structure of the graph and the voting pattern in the county. \n",
    "### II.2.1 First observations using Gephi\n",
    "The first hypothesis that could be stated are the following : \n",
    "1. **Hypothesis 1** : a migration flow with a more than 35% people paying taxes will have as destination a republican county. One could think that people paying taxes would like to move to Republican county were taxes such as the proprety tax are lower. \n",
    "2. **Hypothesis 2** : a migration flow with a more than 70% people not paying taxes will have as destination a democrat county. One could think that people with the lowest income would move to county were charity is more developed (we are not considering helps from the state, which is the same whatever the state).\n",
    "\n",
    "To validate or reject these two hypotethis, we are building two graph. The first one considers only the migration flows between counties were more then $38$% of the migrants are paying taxes. The second graph considers only the migration flow between counties where more then $70$% of the migrants are paying taxes. \n",
    "If hypothesis 1 is correct, then one observing the first graph on $Gephi$, most of the connection will be toward Republican counties. On the other hand, if hypothesis 2 is correct, then most migration will have as destination a Democrat county. "
   ]
  },
  {
   "cell_type": "code",
   "execution_count": 17,
   "metadata": {},
   "outputs": [
    {
     "data": {
      "text/plain": [
       "<networkx.classes.graph.Graph at 0x21139ef8508>"
      ]
     },
     "execution_count": 17,
     "metadata": {},
     "output_type": "execute_result"
    }
   ],
   "source": [
    "create_graph_nonRGB_exempt(0.7)\n",
    "create_graph_nonRGB_returns(0.35)"
   ]
  },
  {
   "cell_type": "markdown",
   "metadata": {},
   "source": [
    "Result of the observation on $Gephi$ : \n",
    "- *observation on exemption graph* : the exemption graph (i.e graph with edges between nodes where migration is caractersied by more then $70$% of migratiants not paying taxes) doesn't have the structre expected. Edges are going from Democrat to Republican, and to Democrat from Republican in an equal fashion. So hypothesis 2 cannot be validate.\n",
    "- *observation on return graph* : the return graph (i.e graph with edges between nodes where migration  is caractersised by more then $35$% of migrants paying taxes) doesn't have the expected strcuture. Most of the migration is concentrated between democrat nodes. It appears that migration caracterised by a high rate of people paying taxes is concentrated between Democrat counties.\n",
    "\n",
    "So as a conclusion, both hypothesis 1 and 2 are rejected. However, it appears that from the return graph if one studies the degree of the node, one could be able to tell if its a Democrat or Republican county. \n",
    "### II.2.2 Prediction based on degree of county (i.e node of the graph)\n",
    "The aforementioned observation tells us that by studying the degree of a node, we might be able to predict the label (i.e Republican or Democrat) of that node. We will now verify this asumption. \n",
    "\n",
    "The driving force behind our first prediction algorithm is quiet simple : we believe that we can split the nodes into two categories. The first category being nodes with high degree and the second category being nodes with low degree. These two catagory will then mapped to reciprocally Democrat and Republican.  \n",
    "However, the problem remains on finding the correct threshold to construct our graph (remember that our graph are constrcuted using a threshold on the proportion of migratants payin taxes or not paying taxes) and what should be the degree that defines the limit between the two aformentionned category. This limit is from now on reffered as the \"cut\".    \n",
    "This problem of finding the best possible tuple of hyper-parameters is a cross-validation problem. Hence, the subsequent cell implment a cross validation to find the best possible cut and threshold for this problem anc computes the accuracy of predicting graph in such a way. "
   ]
  },
  {
   "cell_type": "code",
   "execution_count": 18,
   "metadata": {},
   "outputs": [],
   "source": [
    "def get_degree_attribute (G) :\n",
    "    degree_attr = [(G.degree(n), G.nodes[n]['result']) for n in G.nodes()]\n",
    "    return np.array(degree_attr)\n",
    "\n",
    "def get_degree_party (degree_attr) : \n",
    "    democrats = []\n",
    "    republicans = []\n",
    "    for tuple_ in degree_attr : \n",
    "        if tuple_[1] == -1 : \n",
    "            democrats.append(tuple_[0])\n",
    "        else : \n",
    "            republicans.append(tuple_[0])\n",
    "    return democrats, republicans \n",
    "\n",
    "def compute_accuracy(d, r, best_cut) : \n",
    "    pct_dem_predicted_correctly = d[d > best_cut].shape[0]/d.shape[0]\n",
    "    pct_rep_predicted_correctly = r[r > best_cut].shape[0]/r.shape[0] \n",
    "    accuracy = (num_democrats*pct_dem_predicted_correctly + num_republicans*(1 - pct_rep_predicted_correctly))/(num_democrats + num_republicans)\n",
    "    return accuracy\n",
    "    \n",
    "def cross_validation_returns (threshold_range_min, threshold_range_max, step=0.01, print_best=False) : \n",
    "    thresholds = np.arange(start=threshold_range_min, stop=threshold_range_max, step=step)\n",
    "    max_global = 0\n",
    "    best_cut = 0\n",
    "    best_threshold = 0\n",
    "    for threshold in thresholds : \n",
    "        graph_nonRGB_returns = create_graph_nonRGB_returns(threshold)\n",
    "        degree_attr = get_degree_attribute(graph_nonRGB_returns)\n",
    "        d, r = get_degree_party(degree_attr)\n",
    "        d = np.array(d)\n",
    "        r = np.array(r)\n",
    "        \n",
    "        d_qt025 = np.quantile(d, 0.25)\n",
    "        d_qt075 = np.quantile(d, 0.75)\n",
    "        cuts = np.arange(d_qt025, d_qt075, 1)\n",
    "        max_local = 0\n",
    "        cut_local = 0\n",
    "        for cut in cuts : \n",
    "            temp = np.abs(d[d > cut].shape[0]/d.shape[0] - r[r > cut].shape[0]/r.shape[0])\n",
    "            if temp > max_local : \n",
    "                max_local = temp\n",
    "                cut_local = cut\n",
    "        \n",
    "        if max_local > max_global : \n",
    "            max_global = max_local\n",
    "            best_threshold = threshold\n",
    "            best_cut = cut_local\n",
    "        \n",
    "    if print_best : \n",
    "        graph_nonRGB_returns = create_graph_nonRGB_returns(best_threshold)\n",
    "        degree_attr = get_degree_attribute(graph_nonRGB_returns)\n",
    "        d, r = get_degree_party(degree_attr)\n",
    "        d = np.array(d)\n",
    "        r = np.array(r)\n",
    "        print(d[d > best_cut].shape[0]/d.shape[0])\n",
    "        print(r[r > best_cut].shape[0]/r.shape[0])   \n",
    "        plt.hist(d, density=True, bins= 100)\n",
    "        plt.show()\n",
    "        plt.hist(r, density=True, bins= 100)\n",
    "        plt.show()\n",
    "        accuracy = compute_accuracy(d, r, best_cut)\n",
    "    return best_cut, best_threshold, accuracy"
   ]
  },
  {
   "cell_type": "code",
   "execution_count": 19,
   "metadata": {},
   "outputs": [
    {
     "name": "stdout",
     "output_type": "stream",
     "text": [
      "0.5174537987679672\n",
      "0.08251695553880935\n"
     ]
    },
    {
     "data": {
      "image/png": "[encoded data removed]",
      "text/plain": [
       "<Figure size 432x288 with 1 Axes>"
      ]
     },
     "metadata": {
      "needs_background": "light"
     },
     "output_type": "display_data"
    },
    {
     "data": {
      "image/png": "[encoded data removed]",
      "text/plain": [
       "<Figure size 432x288 with 1 Axes>"
      ]
     },
     "metadata": {
      "needs_background": "light"
     },
     "output_type": "display_data"
    },
    {
     "name": "stdout",
     "output_type": "stream",
     "text": [
      "The best cut is :  6.0 and the best threshold is :  0.38000000000000006\n",
      "W/ overall accuracy :  0.8554600445717925\n"
     ]
    }
   ],
   "source": [
    "best_cut_brute, best_threshold_brute, accuracy_brute = cross_validation_returns(0.3, 0.6, print_best=True)\n",
    "print(\"The best cut is : \", best_cut_brute, \"and the best threshold is : \", best_threshold_brute)\n",
    "print(\"W/ overall accuracy : \", accuracy_brute)"
   ]
  },
  {
   "cell_type": "markdown",
   "metadata": {},
   "source": [
    "The graphs above show that by constructing a graph with migration caractersized by more then $38$% of people paying taxes we can split the nodes of the graph into two categories : the Republican being the nodes with a degree less than 6 and the Democrat being nodes with a degree more than 6. By doing so, we will rightfully caractersied half of the Democrats and $92$% of the Republicans giving an overall accuracy of $85$%. This is not great, as one could simply say that all counties are Republican and get an overall $81$% of accuracy.   \n",
    "\n",
    "**Note :** we refer as this method as cross-validation, but we are not splitting the data to create a validation set and a proper training set, hence talking about cross-validation here might be an over-statement. However, the term still encapsulate the idea that we are trying to find the best possible tuple (cut, threshold) for this prediction. \n",
    "### II.2.3 Prediction based on degree neighboring nodes of county \n",
    "The previous technique based on predicting the label of a node based on its absolute degree proved to perform poorly. And the reason was that half of the Democrat nodes are wrongfully predicted. Hence, we try a new technique : predicint the label of a node, based on the average degree of its neighboors.     \n",
    "The problem with the previous prediction algorithm was that to have a clear cut between two nodes, we had to put a high threshold between counties. A high threshold meant that most of the Republican nodes were having edge-free, but also a high proportion of Democrat nodes were edge-free and hence wrongfully classifed. To solve this problem, we use the fact that we can study the neighboring nodes and reduce the threshold. Hence, eventhough more Republican nodes will have conneciton, we believe that still making the average of all there connection, we will get a lower average degree than for Democrat nodes.   \n",
    "Also, because this method seemed like a realy good idea, we developped it for the two graphs : returns and exemptions.  \n",
    "\n",
    "**Study neighboors on the returns graph**"
   ]
  },
  {
   "cell_type": "code",
   "execution_count": 20,
   "metadata": {},
   "outputs": [],
   "source": [
    "#a_dict = graph_nonRGB_returns.neighbors\n",
    "def compute_mean (neigh_degree) : \n",
    "    if neigh_degree.shape[0] == 0 : \n",
    "        return 0\n",
    "    else :\n",
    "        return neigh_degree.mean()\n",
    "\n",
    "def mean_degree_neighbors (G) :\n",
    "    degree_attr = get_degree_attribute(G)\n",
    "    mean_degree_neigh = []\n",
    "    dicts = [G.neighbors(n) for n in G.nodes]\n",
    "    for a_dict in dicts : \n",
    "        neigh_degree = []\n",
    "        for key in a_dict:\n",
    "            neigh_degree.append(degree_attr[key][0])        \n",
    "        mean_degree_neigh.append(compute_mean(np.array(neigh_degree)))\n",
    "    return np.concatenate((np.array(mean_degree_neigh).reshape(degree_attr.shape[0], 1), degree_attr[:, 1].reshape(degree_attr.shape[0], 1)), axis=1)\n",
    "\n",
    "def cross_validation_neigh_returns (threshold_range_min, threshold_range_max, step=0.01, print_best=False) : \n",
    "    thresholds = np.arange(start=threshold_range_min, stop=threshold_range_max, step=step)\n",
    "    max_global = 0\n",
    "    best_cut = 0\n",
    "    best_threshold = 0\n",
    "    for threshold in thresholds : \n",
    "        graph_nonRGB_returns = create_graph_nonRGB_returns(threshold)\n",
    "        degree_attr = mean_degree_neighbors(graph_nonRGB_returns)\n",
    "        d, r = get_degree_party(degree_attr)\n",
    "        d = np.array(d)\n",
    "        r = np.array(r)\n",
    "        d_qt025 = np.quantile(d, 0.25)\n",
    "        d_qt075 = np.quantile(d, 0.75)\n",
    "\n",
    "        cuts = np.arange(d_qt025, d_qt075, 1)\n",
    "        max_local = 0\n",
    "        cut_local = 0\n",
    "        for cut in cuts : \n",
    "            temp = np.abs(d[d > cut].shape[0]/d.shape[0] - np.log(r[r > cut].shape[0]/r.shape[0]))\n",
    "            if temp > max_local : \n",
    "                max_local = temp\n",
    "                cut_local = cut\n",
    "        \n",
    "        if max_local > max_global : \n",
    "            max_global = max_local\n",
    "            best_threshold = threshold\n",
    "            best_cut = cut_local\n",
    "        \n",
    "    if print_best : \n",
    "        graph_nonRGB_returns = create_graph_nonRGB_returns(best_threshold)\n",
    "        degree_attr = mean_degree_neighbors(graph_nonRGB_returns)\n",
    "        d, r = get_degree_party(degree_attr)\n",
    "        d = np.array(d)\n",
    "        r = np.array(r)\n",
    "        print(d[d > best_cut].shape[0]/d.shape[0])\n",
    "        print(r[r > best_cut].shape[0]/r.shape[0])   \n",
    "        plt.hist(d, normed=True, bins= 100)\n",
    "        plt.show()\n",
    "        plt.hist(r, normed=True, bins= 100)\n",
    "        plt.show()\n",
    "        accuracy = compute_accuracy(d, r, best_cut)\n",
    "    return best_cut, best_threshold, accuracy"
   ]
  },
  {
   "cell_type": "code",
   "execution_count": 21,
   "metadata": {},
   "outputs": [
    {
     "name": "stdout",
     "output_type": "stream",
     "text": [
      "0.26078028747433263\n",
      "0.0146948003014318\n"
     ]
    },
    {
     "name": "stderr",
     "output_type": "stream",
     "text": [
      "C:\\Users\\fatimzzahra moujrid\\.conda\\envs\\test\\lib\\site-packages\\ipykernel_launcher.py:55: MatplotlibDeprecationWarning: \n",
      "The 'normed' kwarg was deprecated in Matplotlib 2.1 and will be removed in 3.1. Use 'density' instead.\n"
     ]
    },
    {
     "data": {
      "image/png": "[encoded data removed]",
      "text/plain": [
       "<Figure size 432x288 with 1 Axes>"
      ]
     },
     "metadata": {
      "needs_background": "light"
     },
     "output_type": "display_data"
    },
    {
     "name": "stderr",
     "output_type": "stream",
     "text": [
      "C:\\Users\\fatimzzahra moujrid\\.conda\\envs\\test\\lib\\site-packages\\ipykernel_launcher.py:57: MatplotlibDeprecationWarning: \n",
      "The 'normed' kwarg was deprecated in Matplotlib 2.1 and will be removed in 3.1. Use 'density' instead.\n"
     ]
    },
    {
     "data": {
      "image/png": "[encoded data removed]",
      "text/plain": [
       "<Figure size 432x288 with 1 Axes>"
      ]
     },
     "metadata": {
      "needs_background": "light"
     },
     "output_type": "display_data"
    },
    {
     "name": "stdout",
     "output_type": "stream",
     "text": [
      "best cut is :  6.0  // best thershold us :  0.46000000000000013\n",
      "W/ overall accuracy :  0.8729703915950334\n"
     ]
    }
   ],
   "source": [
    "best_cut_return, best_thershold_return, accuracy_returns = cross_validation_neigh_returns(0.3, 0.6, print_best=True)\n",
    "print(\"best cut is : \", best_cut_return, \" // best thershold us : \", best_thershold_return)\n",
    "print(\"W/ overall accuracy : \", accuracy_returns)"
   ]
  },
  {
   "cell_type": "code",
   "execution_count": 22,
   "metadata": {},
   "outputs": [],
   "source": [
    "def cross_validation_neigh_exempt (threshold_range_min, threshold_range_max, step=0.01, print_best=False) : \n",
    "    thresholds = np.arange(start=threshold_range_min, stop=threshold_range_max, step=step)\n",
    "    max_global = 0\n",
    "    best_cut = 0\n",
    "    best_threshold = 0\n",
    "    for threshold in thresholds : \n",
    "        graph_nonRGB_exempt = create_graph_nonRGB_exempt(threshold)\n",
    "        degree_attr = mean_degree_neighbors(graph_nonRGB_exempt)\n",
    "        d, r = get_degree_party(degree_attr)\n",
    "        d = np.array(d)\n",
    "        r = np.array(r)\n",
    "        d_qt025 = np.quantile(d, 0.25)\n",
    "        d_qt075 = np.quantile(d, 0.75)\n",
    "\n",
    "        cuts = np.arange(d_qt025, d_qt075, 1)\n",
    "        max_local = 0\n",
    "        cut_local = 0\n",
    "        for cut in cuts : \n",
    "            temp = np.abs(d[d > cut].shape[0]/d.shape[0] - np.log(r[r > cut].shape[0]/r.shape[0]))\n",
    "            if temp > max_local : \n",
    "                max_local = temp\n",
    "                cut_local = cut\n",
    "        \n",
    "        if max_local > max_global : \n",
    "            max_global = max_local\n",
    "            best_threshold = threshold\n",
    "            best_cut = cut_local\n",
    "        \n",
    "    if print_best : \n",
    "        graph_nonRGB_exempt = create_graph_nonRGB_exempt(best_threshold)\n",
    "        degree_attr = mean_degree_neighbors(graph_nonRGB_exempt)\n",
    "        d, r = get_degree_party(degree_attr)\n",
    "        d = np.array(d)\n",
    "        r = np.array(r)\n",
    "        print(d[d > best_cut].shape[0]/d.shape[0])\n",
    "        print(r[r > best_cut].shape[0]/r.shape[0])   \n",
    "        plt.hist(d, normed=True, bins= 100)\n",
    "        plt.show()\n",
    "        plt.hist(r, normed=True, bins= 100)\n",
    "        plt.show()\n",
    "        accuracy = compute_accuracy(d, r, best_cut)\n",
    "    return best_cut, best_threshold, accuracy"
   ]
  },
  {
   "cell_type": "code",
   "execution_count": 23,
   "metadata": {},
   "outputs": [
    {
     "name": "stdout",
     "output_type": "stream",
     "text": [
      "0.25256673511293637\n",
      "0.05199698568198945\n"
     ]
    },
    {
     "name": "stderr",
     "output_type": "stream",
     "text": [
      "C:\\Users\\fatimzzahra moujrid\\.conda\\envs\\test\\lib\\site-packages\\ipykernel_launcher.py:37: MatplotlibDeprecationWarning: \n",
      "The 'normed' kwarg was deprecated in Matplotlib 2.1 and will be removed in 3.1. Use 'density' instead.\n"
     ]
    },
    {
     "data": {
      "image/png": "[encoded data removed]",
      "text/plain": [
       "<Figure size 432x288 with 1 Axes>"
      ]
     },
     "metadata": {
      "needs_background": "light"
     },
     "output_type": "display_data"
    },
    {
     "name": "stderr",
     "output_type": "stream",
     "text": [
      "C:\\Users\\fatimzzahra moujrid\\.conda\\envs\\test\\lib\\site-packages\\ipykernel_launcher.py:39: MatplotlibDeprecationWarning: \n",
      "The 'normed' kwarg was deprecated in Matplotlib 2.1 and will be removed in 3.1. Use 'density' instead.\n"
     ]
    },
    {
     "data": {
      "image/png": "[encoded data removed]",
      "text/plain": [
       "<Figure size 432x288 with 1 Axes>"
      ]
     },
     "metadata": {
      "needs_background": "light"
     },
     "output_type": "display_data"
    },
    {
     "name": "stdout",
     "output_type": "stream",
     "text": [
      "Best cut is :  143.1  // best thershold us :  0.5900000000000001\n",
      "W/ overall accuracy :  0.8401782871696912\n"
     ]
    }
   ],
   "source": [
    "best_cut_exempt, best_thershold_exempt, accuracy_exempt = cross_validation_neigh_exempt(0.55, 0.8, print_best=True)\n",
    "print(\"Best cut is : \", best_cut_exempt, \" // best thershold us : \", best_thershold_exempt)\n",
    "print(\"W/ overall accuracy : \", accuracy_exempt)"
   ]
  },
  {
   "cell_type": "markdown",
   "metadata": {},
   "source": [
    "When a first try gave us the overall accuracy score of $0.78$% which is clearly a terrible result -- simply put all the counties as Democrat and you would get a better accuracy.    \n",
    "Hence, a bit of inspiration was taken from Machine Learning. In Machine Learning, when one is faced with heavy tailed targets (i.e most of the dataset at hand is driven toward on specific value) is to use a penalizing function such as the log.  \n",
    "This is specifically what we introduce here, when we are computing the absolute difference between the number of nodes above the cut, we are penalizing the republican nodes with the log function. By doing so, we are forcing the \"loss function\" (based on the degree of the nodes) to make sure that the number of nodes above the cut is kept small for Republican (because they are the one who will give us the biggest loss in the end). By doing so, reach an overall accuray of $87$%. \n",
    "\n",
    "**Note :** the acutal value of the new loss function is : \n",
    "$$ \n",
    "loss = |pctOfDemocratAboveCut + log(pctOfRepublicanAboveCut)|\n",
    "$$"
   ]
  },
  {
   "cell_type": "markdown",
   "metadata": {},
   "source": [
    "Even with these changements, we were able to improve the result by a mere $2$%, which could be great if not there was such a heavy tail on republican. Hence, we try more sophisticated methods using Lagrange techniques and GCN in subsequent cells in order to reach a higer accuracy."
   ]
  },
  {
   "cell_type": "markdown",
   "metadata": {},
   "source": [
    "### II.2.4 Graph observation\n",
    "**Part of anshul**    \n",
    "Observe the graph non_RGB_return and non_RGB_exempt and extrapolate information on it. Please link them to the overall them of migration (that degree, distribution are consistant with a migration graph). \n"
   ]
  },
  {
   "cell_type": "markdown",
   "metadata": {},
   "source": [
    "## II.3 Second attempt at predicting election results - GCN and Laplace\n",
    "As aforementioned, we are now trying more sophisticated methods such as GCN and or using Laplacian. \n",
    "\n",
    "### II.3.1 Fourier and GCN on return graph\n",
    "First, we are trying Fourier's method and GCN on the return graph (i.e graph where flow have a least more than $38$% of migrants paying taxes).  \n",
    "The features that are used are the agi (a.k.a average income of the migration flow) and the unemployment rate of the destination county. We are using these two features because we believe that they are important cause of migration. According to recent socio-economic studies, the main push factor for migration are economic reason (at least in the US). The desire for better income or to simply find a job are driving forces of migration. Hence, it appears impossible to study migration and its impact on election result without taking into account the agi and the unemployment rate of the destination county. Hence, the first thing we are doing is creating a graph with label being the $+1, -1$ wether the county is Republican or Democrat and also contains the 2 aforementioned features. "
   ]
  },
  {
   "cell_type": "code",
   "execution_count": 24,
   "metadata": {},
   "outputs": [],
   "source": [
    "# creation of the graph // seperation of adjency matrix & label/features for later use \n",
    "_, features1 = create_graph_nonRGB_returns_features(0.38)\n",
    "adjacency_nonRGB_returns = create_adjency_nonRGB_returns(0.38, plot_adj_returns=False)\n"
   ]
  },
  {
   "cell_type": "code",
   "execution_count": 85,
   "metadata": {},
   "outputs": [
    {
     "data": {
      "text/html": [
       "<div>\n",
       "<style scoped>\n",
       "    .dataframe tbody tr th:only-of-type {\n",
       "        vertical-align: middle;\n",
       "    }\n",
       "\n",
       "    .dataframe tbody tr th {\n",
       "        vertical-align: top;\n",
       "    }\n",
       "\n",
       "    .dataframe thead th {\n",
       "        text-align: right;\n",
       "    }\n",
       "</style>\n",
       "<table border=\"1\" class=\"dataframe\">\n",
       "  <thead>\n",
       "    <tr style=\"text-align: right;\">\n",
       "      <th></th>\n",
       "      <th>id</th>\n",
       "      <th>result</th>\n",
       "      <th>agi</th>\n",
       "      <th>unemployment_rate</th>\n",
       "    </tr>\n",
       "  </thead>\n",
       "  <tbody>\n",
       "    <tr>\n",
       "      <td>0</td>\n",
       "      <td>0.0</td>\n",
       "      <td>1.0</td>\n",
       "      <td>761.0</td>\n",
       "      <td>0.363636</td>\n",
       "    </tr>\n",
       "    <tr>\n",
       "      <td>1</td>\n",
       "      <td>1.0</td>\n",
       "      <td>1.0</td>\n",
       "      <td>1848.0</td>\n",
       "      <td>0.307692</td>\n",
       "    </tr>\n",
       "    <tr>\n",
       "      <td>2</td>\n",
       "      <td>2.0</td>\n",
       "      <td>1.0</td>\n",
       "      <td>757.0</td>\n",
       "      <td>0.294118</td>\n",
       "    </tr>\n",
       "    <tr>\n",
       "      <td>3</td>\n",
       "      <td>3.0</td>\n",
       "      <td>1.0</td>\n",
       "      <td>865.0</td>\n",
       "      <td>0.290323</td>\n",
       "    </tr>\n",
       "    <tr>\n",
       "      <td>4</td>\n",
       "      <td>4.0</td>\n",
       "      <td>1.0</td>\n",
       "      <td>1270.0</td>\n",
       "      <td>0.326316</td>\n",
       "    </tr>\n",
       "    <tr>\n",
       "      <td>...</td>\n",
       "      <td>...</td>\n",
       "      <td>...</td>\n",
       "      <td>...</td>\n",
       "      <td>...</td>\n",
       "    </tr>\n",
       "    <tr>\n",
       "      <td>3136</td>\n",
       "      <td>3136.0</td>\n",
       "      <td>1.0</td>\n",
       "      <td>883.0</td>\n",
       "      <td>0.289855</td>\n",
       "    </tr>\n",
       "    <tr>\n",
       "      <td>3137</td>\n",
       "      <td>3137.0</td>\n",
       "      <td>-1.0</td>\n",
       "      <td>1561.0</td>\n",
       "      <td>0.425532</td>\n",
       "    </tr>\n",
       "    <tr>\n",
       "      <td>3138</td>\n",
       "      <td>3138.0</td>\n",
       "      <td>1.0</td>\n",
       "      <td>968.0</td>\n",
       "      <td>0.304348</td>\n",
       "    </tr>\n",
       "    <tr>\n",
       "      <td>3139</td>\n",
       "      <td>3139.0</td>\n",
       "      <td>1.0</td>\n",
       "      <td>220127.0</td>\n",
       "      <td>0.309895</td>\n",
       "    </tr>\n",
       "    <tr>\n",
       "      <td>3140</td>\n",
       "      <td>3140.0</td>\n",
       "      <td>1.0</td>\n",
       "      <td>1634.0</td>\n",
       "      <td>0.381579</td>\n",
       "    </tr>\n",
       "  </tbody>\n",
       "</table>\n",
       "<p>3141 rows × 4 columns</p>\n",
       "</div>"
      ],
      "text/plain": [
       "          id  result       agi  unemployment_rate\n",
       "0        0.0     1.0     761.0           0.363636\n",
       "1        1.0     1.0    1848.0           0.307692\n",
       "2        2.0     1.0     757.0           0.294118\n",
       "3        3.0     1.0     865.0           0.290323\n",
       "4        4.0     1.0    1270.0           0.326316\n",
       "...      ...     ...       ...                ...\n",
       "3136  3136.0     1.0     883.0           0.289855\n",
       "3137  3137.0    -1.0    1561.0           0.425532\n",
       "3138  3138.0     1.0     968.0           0.304348\n",
       "3139  3139.0     1.0  220127.0           0.309895\n",
       "3140  3140.0     1.0    1634.0           0.381579\n",
       "\n",
       "[3141 rows x 4 columns]"
      ]
     },
     "execution_count": 85,
     "metadata": {},
     "output_type": "execute_result"
    }
   ],
   "source": [
    "(features1)"
   ]
  },
  {
   "cell_type": "markdown",
   "metadata": {},
   "source": [
    "**Fourier method**   \n",
    "With this graph we are using the Fourier method to predict the outcome of the election in one particular county"
   ]
  },
  {
   "cell_type": "code",
   "execution_count": 32,
   "metadata": {},
   "outputs": [],
   "source": [
    "# prepare A_migration and target label\n",
    "A_migration = adjacency_nonRGB_returns.copy()\n",
    "# prepare the target label\n",
    "y_presidential_result = features1[\"result\"].copy()\n",
    "# compute lamb and U\n",
    "laplacian_migration = compute_laplacian(A_migration, normalize=True)\n",
    "lamb_migration, U_migration = spectral_decomposition(laplacian_migration)\n",
    "# prepare low pass filter\n",
    "ideal_lp_migration = np.ones((A_migration.shape[0],)) \n",
    "ideal_lp_migration[lamb_migration >= 0.1] = 0   # to tune\n",
    "#heat kernel filter\n",
    "ideal_ht_migration=np.exp(-0.1 * lamb_migration) #0.1 can be tuned \n",
    "# apply filter\n",
    "x_lp_migration = ideal_graph_filter(y_presidential_result.copy(),ideal_lp_migration,U_migration)\n",
    "x_ht_migration=ideal_graph_filter(y_presidential_result.copy(),ideal_lp_migration,U_migration)"
   ]
  },
  {
   "cell_type": "markdown",
   "metadata": {},
   "source": [
    "Additionnally, to the low pass filter used previousely, a heat kernel is also test in the sake of improving accuracy"
   ]
  },
  {
   "cell_type": "code",
   "execution_count": 33,
   "metadata": {},
   "outputs": [],
   "source": [
    "iters = 10\n",
    "n = int(len(y_presidential_result)*0.2)"
   ]
  },
  {
   "cell_type": "code",
   "execution_count": 34,
   "metadata": {},
   "outputs": [
    {
     "name": "stdout",
     "output_type": "stream",
     "text": [
      "The mean is  0.8816477008447572\n",
      "The variance is  0.00866927762627397\n",
      "The mean is  0.879815050594182\n",
      "The variance is  0.010189129700940283\n"
     ]
    }
   ],
   "source": [
    "accuracy_mean_fourier, accuracy_var_fourier = pred_iteration(A_migration,iters, y_presidential_result, n, x_lp_migration)\n",
    "accuracy_mean_ht, accuracy_var_ht = pred_iteration(A_migration,iters, y_presidential_result, n, x_ht_migration)\n"
   ]
  },
  {
   "cell_type": "markdown",
   "metadata": {},
   "source": [
    "Using Fourier transform allows us to predict correctly $87$% of the election result, a similar result to the one found in part II.2.3, where we allready said that the result wasn't terrible. So we move on to GCN method. \n",
    "\n",
    "\n",
    "**GCN method**"
   ]
  },
  {
   "cell_type": "code",
   "execution_count": 28,
   "metadata": {
    "scrolled": true
   },
   "outputs": [
    {
     "ename": "NameError",
     "evalue": "name 'DGLGraph' is not defined",
     "output_type": "error",
     "traceback": [
      "\u001b[1;31m---------------------------------------------------------------------------\u001b[0m",
      "\u001b[1;31mNameError\u001b[0m                                 Traceback (most recent call last)",
      "\u001b[1;32m<ipython-input-28-1a327c9b96aa>\u001b[0m in \u001b[0;36m<module>\u001b[1;34m\u001b[0m\n\u001b[0;32m      2\u001b[0m \u001b[0mX_migration\u001b[0m \u001b[1;33m=\u001b[0m \u001b[0mfeatures1\u001b[0m\u001b[1;33m.\u001b[0m\u001b[0mdrop\u001b[0m\u001b[1;33m(\u001b[0m\u001b[0mcolumns\u001b[0m\u001b[1;33m=\u001b[0m\u001b[1;33m[\u001b[0m\u001b[1;34m'id'\u001b[0m\u001b[1;33m,\u001b[0m \u001b[1;34m'result'\u001b[0m\u001b[1;33m]\u001b[0m\u001b[1;33m)\u001b[0m\u001b[1;33m.\u001b[0m\u001b[0mvalues\u001b[0m\u001b[1;33m\u001b[0m\u001b[1;33m\u001b[0m\u001b[0m\n\u001b[0;32m      3\u001b[0m \u001b[1;31m# evaluation GCN performance\u001b[0m\u001b[1;33m\u001b[0m\u001b[1;33m\u001b[0m\u001b[1;33m\u001b[0m\u001b[0m\n\u001b[1;32m----> 4\u001b[1;33m \u001b[0maccuracy_mean_GCN\u001b[0m\u001b[1;33m,\u001b[0m \u001b[0maccuracy_var_GCN\u001b[0m \u001b[1;33m=\u001b[0m \u001b[0mapply_gcn\u001b[0m\u001b[1;33m(\u001b[0m\u001b[0miters\u001b[0m\u001b[1;33m,\u001b[0m\u001b[0mX_migration\u001b[0m\u001b[1;33m,\u001b[0m\u001b[0my_presidential_result\u001b[0m\u001b[1;33m,\u001b[0m\u001b[0mA_migration\u001b[0m\u001b[1;33m,\u001b[0m\u001b[0mlaplacian_migration\u001b[0m\u001b[1;33m,\u001b[0m\u001b[0mlamb_migration\u001b[0m\u001b[1;33m,\u001b[0m\u001b[0mU_migration\u001b[0m\u001b[1;33m)\u001b[0m\u001b[1;33m\u001b[0m\u001b[1;33m\u001b[0m\u001b[0m\n\u001b[0m",
      "\u001b[1;32m~\\Documents\\ntds_fatima\\ntds_project\\utils.py\u001b[0m in \u001b[0;36mapply_gcn\u001b[1;34m(iters, X_, y_, A_, laplacian_, lamb, U_)\u001b[0m\n\u001b[0;32m    278\u001b[0m \u001b[1;33m\u001b[0m\u001b[0m\n\u001b[0;32m    279\u001b[0m         \u001b[1;31m# create the graph\u001b[0m\u001b[1;33m\u001b[0m\u001b[1;33m\u001b[0m\u001b[1;33m\u001b[0m\u001b[0m\n\u001b[1;32m--> 280\u001b[1;33m         \u001b[0mgraph\u001b[0m \u001b[1;33m=\u001b[0m \u001b[0mDGLGraph\u001b[0m\u001b[1;33m(\u001b[0m\u001b[0mgraph\u001b[0m\u001b[1;33m)\u001b[0m\u001b[1;33m\u001b[0m\u001b[1;33m\u001b[0m\u001b[0m\n\u001b[0m\u001b[0;32m    281\u001b[0m         \u001b[0mmodel\u001b[0m \u001b[1;33m=\u001b[0m \u001b[0mLaplacianPolynomial\u001b[0m\u001b[1;33m(\u001b[0m\u001b[0min_feats\u001b[0m\u001b[1;33m,\u001b[0m \u001b[0mn_classes\u001b[0m\u001b[1;33m,\u001b[0m \u001b[0mpol_order\u001b[0m\u001b[1;33m,\u001b[0m \u001b[0mp_dropout\u001b[0m\u001b[1;33m)\u001b[0m\u001b[1;33m\u001b[0m\u001b[1;33m\u001b[0m\u001b[0m\n\u001b[0;32m    282\u001b[0m \u001b[1;33m\u001b[0m\u001b[0m\n",
      "\u001b[1;31mNameError\u001b[0m: name 'DGLGraph' is not defined"
     ]
    }
   ],
   "source": [
    "# determine features to use in GCN\n",
    "X_migration = features1.drop(columns=['id', 'result']).values\n",
    "# evaluation GCN performance\n",
    "accuracy_mean_GCN, accuracy_var_GCN = apply_gcn(iters,X_migration,y_presidential_result,A_migration,laplacian_migration,lamb_migration,U_migration)"
   ]
  },
  {
   "cell_type": "markdown",
   "metadata": {},
   "source": [
    "TO DO : conclusion of GCN\n",
    "\n",
    "### II.3.2 Fourier and GCN on exemption graph"
   ]
  },
  {
   "cell_type": "markdown",
   "metadata": {},
   "source": [
    "We are conducting the same study are in part II.3.1 but on the graph of exempltion (i.e graph where the flow are each caraterised by at least $56$% of migrants not paying taxes."
   ]
  },
  {
   "cell_type": "code",
   "execution_count": 36,
   "metadata": {},
   "outputs": [],
   "source": [
    "# creation of the graph // seperation of adjency matrix & label/features for later use \n",
    "_, features2 = create_graph_nonRGB_exempt_features(0.56)\n",
    "adjacency_nonRGB_exempt = create_adjency_nonRGB_exempt(0.56, plot_adj_exempt = False )"
   ]
  },
  {
   "cell_type": "markdown",
   "metadata": {},
   "source": [
    "**Fourier method**"
   ]
  },
  {
   "cell_type": "code",
   "execution_count": 37,
   "metadata": {},
   "outputs": [],
   "source": [
    "# prepare A_migration and target label\n",
    "A_migration2 = adjacency_nonRGB_exempt.copy()\n",
    "# prepare the target label\n",
    "y_presidential_result2 = features2[\"result\"].copy()\n",
    "# compute lamb and U\n",
    "laplacian_migration2 = compute_laplacian(A_migration2, normalize=True)\n",
    "lamb_migration2, U_migration2 = spectral_decomposition(laplacian_migration2)\n",
    "# low pass filter\n",
    "ideal_lp_migration2 = np.ones((A_migration2.shape[0],)) \n",
    "ideal_lp_migration2[lamb_migration2 >= 0.1] = 0   # to tune\n",
    "#heat kernel filter\n",
    "ideal_ht_migration2=np.exp(-0.1 * lamb_migration2)\n",
    "# apply filter\n",
    "x_lp_migration2 = ideal_graph_filter(y_presidential_result2.copy(),ideal_lp_migration2,U_migration2)\n",
    "x_ht_migration2 = ideal_graph_filter(y_presidential_result2.copy(),ideal_ht_migration2,U_migration2)"
   ]
  },
  {
   "cell_type": "code",
   "execution_count": 38,
   "metadata": {},
   "outputs": [],
   "source": [
    "iters = 10\n",
    "n = int(len(y_presidential_result2)*0.2)"
   ]
  },
  {
   "cell_type": "code",
   "execution_count": 39,
   "metadata": {},
   "outputs": [
    {
     "name": "stdout",
     "output_type": "stream",
     "text": [
      "The mean is  0.9141914423078472\n",
      "The variance is  0.007450896198920959\n",
      "The mean is  0.9502592616082989\n",
      "The variance is  0.007183049399623885\n"
     ]
    }
   ],
   "source": [
    "accuracy_mean_fourier2, accuracy_var_fourier2 = pred_iteration(A_migration2,iters, y_presidential_result2, n, x_lp_migration2)\n",
    "accuracy_mean_ht2, accuracy_var_ht2 = pred_iteration(A_migration2,iters, y_presidential_result2, n, x_ht_migration2)"
   ]
  },
  {
   "cell_type": "markdown",
   "metadata": {},
   "source": [
    "With the exemption graph we achieve an accuracy of $92$%, a result that starts to be rather conclusive.    \n",
    "\n",
    "**GCN method**"
   ]
  },
  {
   "cell_type": "code",
   "execution_count": null,
   "metadata": {},
   "outputs": [],
   "source": [
    "# determine features to use in GCN\n",
    "X_migration2 = features2.drop(columns=['id', 'result']).values\n",
    "# evaluation GCN performance\n",
    "accuracy_mean_GCN2, accuracy_var_GCN2 = apply_gcn(iters,X_migration2,y_presidential_result2,A_migration2,laplacian_migration2,lamb_migration2,U_migration2)"
   ]
  },
  {
   "cell_type": "markdown",
   "metadata": {},
   "source": [
    "TO DO : conclucion of GCN\n",
    "\n",
    "# III. Study of a similarity graph for prediction \n",
    "Result of the previous section were good, but still far from being great, hence we are now moving on to construct another type of graph : similarity graph using an RGB kernel.   \n",
    "Using such a graph will be interesting in the sense that the IRS will allow us to add another dimension to the graph: the origin of the migrant, if they are either US citizen or migrant. This allows us to capture the polorazing aspect of migration : immigration of foreigner. \n",
    "\n",
    "To construct the similarity graph we re-prepare the IRS dataset (now we are considering other part of the IRS dataset -- the one that allows us to do the seperation between foreigner and US citizen). \n",
    "\n",
    "## III.1. Clean and prepare the data"
   ]
  },
  {
   "cell_type": "code",
   "execution_count": 40,
   "metadata": {},
   "outputs": [],
   "source": [
    "# load the data\n",
    "df_migrations = pd.read_csv(\"./NTDS_Data/countyinflow1516.csv\" )"
   ]
  },
  {
   "cell_type": "code",
   "execution_count": 41,
   "metadata": {},
   "outputs": [],
   "source": [
    "# load the data\n",
    "df_migrations = pd.read_csv(\"./NTDS_Data/countyinflow1516.csv\" )\n",
    "\n",
    "# keep only summury information of each county\n",
    "df_migrations = df_migrations[df_migrations['y1_countyname'].str.contains(\"County Total Migration\")]\n",
    "\n",
    "# create the combined fips county number \n",
    "df_migrations['statefips_str'] = df_migrations['y2_statefips'].apply(lambda x : str(x).zfill(2))\n",
    "df_migrations['countyfips_str'] = df_migrations['y2_countyfips'].apply(lambda x : str(x).zfill(3))\n",
    "df_migrations['combined_fips'] = df_migrations['statefips_str'].apply(lambda x: x.lstrip('0')) + df_migrations['countyfips_str']\n",
    "\n",
    "# drop useless information \n",
    "df_migrations = df_migrations.drop(columns=[\"y2_statefips\", \"y2_countyfips\", \"y1_statefips\", \"y1_countyfips\", \"y1_state\", \"statefips_str\", \"countyfips_str\"])\n",
    "\n",
    "# seperate each possible migration into three dataframe \n",
    "df_migration_total = df_migrations[df_migrations['y1_countyname'].str.contains(\"County Total Migration-US and Foreign\")]\n",
    "df_migrations['y1_countyname'] = df_migrations['y1_countyname'].apply(lambda x : x if x.find(\"County Total Migration-US and Foreign\") == -1 else \"County Total Migration Both\")\n",
    "df_migration_us = df_migrations[df_migrations['y1_countyname'].str.contains(\"County Total Migration-US\")]\n",
    "df_migration_for = df_migrations[df_migrations['y1_countyname'].str.contains(\"County Total Migration-Foreign\")]\n",
    "\n",
    "# drop the name of the column \n",
    "df_migration_total = df_migration_total.drop(columns=[\"y1_countyname\"])\n",
    "df_migration_us = df_migration_us.drop(columns=[\"y1_countyname\"])\n",
    "df_migration_for = df_migration_for.drop(columns=[\"y1_countyname\"])\n",
    "\n",
    "# remove nodes where data is undefined undefined data by zero\n",
    "df_migration_total = df_migration_total[df_migration_total['n1'] != -1]\n",
    "df_migration_us = df_migration_us[df_migration_us['n1'] != -1]\n",
    "df_migration_for = df_migration_for[df_migration_for['n1'] != -1]\n",
    "\n",
    "# convert combined fips to int64\n",
    "df_migration_total['combined_fips'] = df_migration_total['combined_fips'].astype('int64')\n",
    "df_migration_us['combined_fips'] = df_migration_us['combined_fips'].astype('int64')\n",
    "df_migration_for['combined_fips'] = df_migration_for['combined_fips'].astype('int64')"
   ]
  },
  {
   "cell_type": "code",
   "execution_count": 42,
   "metadata": {},
   "outputs": [],
   "source": [
    "df_presidential_result = pd.read_csv(\"./NTDS_Data/2016_US_County_Level_Presidential_Results.csv\" )\n",
    "df_presidential_result = df_presidential_result.drop(columns=[\"Unnamed: 0\",\"votes_dem\", \"votes_gop\", \"total_votes\", \"diff\", \"per_point_diff\", \"state_abbr\", \"county_name\"])"
   ]
  },
  {
   "cell_type": "code",
   "execution_count": 43,
   "metadata": {},
   "outputs": [],
   "source": [
    "# merge the two dataset and drop useless column, add a new column winner \n",
    "df_merged_total = pd.merge(df_migration_total, df_presidential_result, on=\"combined_fips\", how='inner')\n",
    "df_merged_us = pd.merge(df_migration_us, df_presidential_result, on=\"combined_fips\", how='inner')\n",
    "df_merged_for = pd.merge(df_migration_for, df_presidential_result, on=\"combined_fips\", how='inner')\n",
    "df_merged_total['difference'] = df_merged_total['per_dem'] - df_merged_total['per_gop']\n",
    "df_merged_us['difference'] = df_merged_us['per_dem'] - df_merged_total['per_gop']\n",
    "df_merged_for['difference'] = df_merged_for['per_dem'] - df_merged_total['per_gop']\n",
    "df_merged_total['winner'] = df_merged_total['difference'].apply(lambda x : -1 if x > 0 else 1)\n",
    "df_merged_us['winner'] = df_merged_us['difference'].apply(lambda x : -1 if x > 0 else 1)\n",
    "df_merged_for['winner'] = df_merged_for['difference'].apply(lambda x : -1 if x > 0 else 1)\n",
    "df_merged_total = df_merged_total.drop(columns=['difference'])\n",
    "df_merged_us = df_merged_us.drop(columns=['difference'])\n",
    "df_merged_for = df_merged_for.drop(columns=['difference'])"
   ]
  },
  {
   "cell_type": "markdown",
   "metadata": {},
   "source": [
    "## III.2 Creation of the similarity graph\n",
    "We will create 3 similarity graph : \n",
    "- `total graph`: a graph that encapsulate the total inflow of migrant/immigrants in a county (US citizen or not)\n",
    "- `US graph`: a graph that only encapsulate migration of US citizen \n",
    "- `For graph`: a graoh that only encapsulate migration of foreigner \n",
    "\n",
    "TO DO : eleaborate on the features used"
   ]
  },
  {
   "cell_type": "code",
   "execution_count": 44,
   "metadata": {},
   "outputs": [],
   "source": [
    "# compute the adjency matrix of total\n",
    "X_total = df_merged_total.drop(columns=['combined_fips', 'per_dem', 'per_gop', 'winner'])\n",
    "nodes_total = df_merged_total.drop(columns=['n1', 'n2', 'agi', 'per_dem', 'per_gop']).values\n",
    "X_total['agi'] = (X_total['agi'] - X_total['agi'].mean()) / X_total['agi'].std()\n",
    "X_total['prop_ret/exempt'] = X_total['n1'] / X_total['n2']\n",
    "X_total = X_total.drop(columns=['n1', 'n2'])\n",
    "adjacency_RGB_total = epsilon_similarity_graph(X_total, sigma=0.5284353963018223*0.1, epsilon=0.2)"
   ]
  },
  {
   "cell_type": "code",
   "execution_count": 45,
   "metadata": {},
   "outputs": [],
   "source": [
    "# compute the adjency matrix of foreigner\n",
    "X_for = df_merged_for.drop(columns=['combined_fips', 'per_dem', 'per_gop', 'winner'])\n",
    "nodes_for = df_merged_for.drop(columns=['n1', 'n2', 'agi', 'per_dem', 'per_gop']).values\n",
    "X_for['agi'] = (X_for['agi'] - X_for['agi'].mean()) / X_for['agi'].std()\n",
    "X_for['prop_ret/exempt'] = X_for['n1'] / X_for['n2']\n",
    "X_for = X_for.drop(columns=['n1', 'n2'])\n",
    "adjacency_RGB_for = epsilon_similarity_graph(X_for, sigma=0.6675252605174871*0.1, epsilon=0.5)"
   ]
  },
  {
   "cell_type": "code",
   "execution_count": 46,
   "metadata": {},
   "outputs": [],
   "source": [
    "# compute the adjency matrix of US\n",
    "X_us = df_merged_us.drop(columns=['combined_fips', 'per_dem', 'per_gop', 'winner'])\n",
    "nodes_us = df_merged_us.drop(columns=['n1', 'n2', 'agi', 'per_dem', 'per_gop']).values\n",
    "X_us['agi'] = (X_us['agi'] - X_us['agi'].mean()) / X_us['agi'].std()\n",
    "X_us['prop_ret/exempt'] = X_us['n1'] / X_us['n2']\n",
    "X_us = X_us.drop(columns=['n1', 'n2'])\n",
    "adjacency_RGB_us = epsilon_similarity_graph(X_us, sigma=0.5310405705207334*0.1, epsilon=0.5)"
   ]
  },
  {
   "cell_type": "markdown",
   "metadata": {},
   "source": [
    "## II.3 Laplacian method on similarity graph\n",
    "TO DO : reason why we chose Laplacian & how we did it (select random points ...)  \n",
    "\n",
    "All methods used for Laplacian computations are in the Utils file\n",
    "\n",
    "**Laplacian for total**"
   ]
  },
  {
   "cell_type": "code",
   "execution_count": 47,
   "metadata": {},
   "outputs": [],
   "source": [
    "# prepare A(adjacency matrix)\n",
    "A = adjacency_RGB_total.copy()\n",
    "# prepare the target label\n",
    "y = df_merged_total[\"winner\"].copy()\n",
    "# prepare features\n",
    "X_total = X_total.values\n",
    "# compute corresponding lamb and U\n",
    "laplacian = compute_laplacian(A, normalize=True)\n",
    "lamb, U = spectral_decomposition(laplacian)"
   ]
  },
  {
   "cell_type": "code",
   "execution_count": 48,
   "metadata": {},
   "outputs": [],
   "source": [
    "# prepare filter\n",
    "#low pass filter\n",
    "n_nodes = A.shape[0]\n",
    "ideal_lp = np.ones((n_nodes,)) \n",
    "ideal_lp[lamb >= 0.1] = 0   # to tune\n",
    "#heat kernel filter\n",
    "ideal_ht=np.exp(-0.1 * lamb)\n",
    "# apply filter\n",
    "x_lp = ideal_graph_filter(y.copy(),ideal_lp,U)\n",
    "x_ht= ideal_graph_filter(y.copy(),ideal_ht,U)"
   ]
  },
  {
   "cell_type": "code",
   "execution_count": 49,
   "metadata": {},
   "outputs": [],
   "source": [
    "# detemine the number of iteration\n",
    "iters = 10\n",
    "# determine the percentage of masks\n",
    "n = int(len(y)*0.2)"
   ]
  },
  {
   "cell_type": "code",
   "execution_count": 50,
   "metadata": {},
   "outputs": [
    {
     "name": "stdout",
     "output_type": "stream",
     "text": [
      "The mean is  0.9304559736473481\n",
      "The variance is  0.006386483282048825\n",
      "The mean is  0.9283367258148537\n",
      "The variance is  0.009457723390832482\n"
     ]
    }
   ],
   "source": [
    "# accuracy of the low pass filter\n",
    "accuracy_mean, accuracy_var = pred_iteration(A,iters, y, n, x_lp)\n",
    "#accuracy of the heat kernel\n",
    "accuracy_mean_ht, accuracy_var_ht = pred_iteration(A,iters, y, n, x_ht)"
   ]
  },
  {
   "cell_type": "markdown",
   "metadata": {},
   "source": [
    "TO DO : conclusion    \n",
    "\n",
    "**Low-pass filter for foreigner**"
   ]
  },
  {
   "cell_type": "code",
   "execution_count": 51,
   "metadata": {},
   "outputs": [],
   "source": [
    "# prepare A_for(adjacency matrix)\n",
    "A_for = adjacency_RGB_for.copy()\n",
    "# prepare the target label\n",
    "y_for = df_merged_for[\"winner\"].copy()\n",
    "# prepare features\n",
    "X_for = X_for.values\n",
    "# compute corresponding lamb and U\n",
    "laplacian_for = compute_laplacian(A_for, normalize=True)\n",
    "lamb_for, U_for = spectral_decomposition(laplacian_for)"
   ]
  },
  {
   "cell_type": "code",
   "execution_count": 52,
   "metadata": {},
   "outputs": [],
   "source": [
    "# prepare filter\n",
    "ideal_lp_for = np.ones((A_for.shape[0],)) \n",
    "ideal_lp_for[lamb_for >= 0.1] = 0   # to tune\n",
    "#heat kernel\n",
    "ideal_ht_for=np.exp(-0.1 * lamb_for)\n",
    "# apply filter\n",
    "x_lp_for = ideal_graph_filter(y_for.copy(),ideal_lp_for,U_for)\n",
    "x_ht_for = ideal_graph_filter(y_for.copy(),ideal_ht_for,U_for)\n"
   ]
  },
  {
   "cell_type": "code",
   "execution_count": 53,
   "metadata": {},
   "outputs": [],
   "source": [
    "# detemine the number of iteration\n",
    "iters_for = 10\n",
    "# determine the percentage of masks\n",
    "n_for = int(len(y_for)*0.2)"
   ]
  },
  {
   "cell_type": "code",
   "execution_count": 54,
   "metadata": {},
   "outputs": [
    {
     "name": "stdout",
     "output_type": "stream",
     "text": [
      "The mean is  0.8354712610329535\n",
      "The variance is  0.030548089722710895\n",
      "The mean is  0.8372454885164773\n",
      "The variance is  0.023561888005989802\n"
     ]
    }
   ],
   "source": [
    "# apply low-pass method\n",
    "accuracy_mean_for, accuracy_var_for = pred_iteration(A_for,iters_for, y_for, n_for, x_lp_for)\n",
    "#heat kernel\n",
    "accuracy_mean_for_ht, accuracy_var_for = pred_iteration(A_for,iters_for, y_for, n_for, x_lp_for)"
   ]
  },
  {
   "cell_type": "markdown",
   "metadata": {},
   "source": [
    "TO DO : conclusion    \n",
    "\n",
    "**Laplacian for US**"
   ]
  },
  {
   "cell_type": "code",
   "execution_count": 55,
   "metadata": {},
   "outputs": [],
   "source": [
    "# prepare A_us(adjacency matrix)\n",
    "A_us = adjacency_RGB_us.copy()\n",
    "# prepare the target label\n",
    "y_us = df_merged_us[\"winner\"].copy()\n",
    "# prepare features\n",
    "X_us = X_us.values\n",
    "# compute corresponding lamb and U\n",
    "laplacian_us = compute_laplacian(A_us, normalize=True)\n",
    "lamb_us, U_us = spectral_decomposition(laplacian_us)"
   ]
  },
  {
   "cell_type": "code",
   "execution_count": 56,
   "metadata": {},
   "outputs": [],
   "source": [
    "# prepare filter\n",
    "ideal_lp_us = np.ones((A_us.shape[0],)) \n",
    "ideal_lp_us[lamb_us >= 0.1] = 0   # to tune\n",
    "#heat kernel\n",
    "ideal_ht_us=np.exp(-0.1 * lamb_us)\n",
    "# apply filter(lowpass+heat kernel)\n",
    "x_lp_us = ideal_graph_filter(y_us.copy(),ideal_lp_us,U_us)\n",
    "x_ht_us = ideal_graph_filter(y_us.copy(),ideal_ht_us,U_us)"
   ]
  },
  {
   "cell_type": "code",
   "execution_count": 57,
   "metadata": {},
   "outputs": [],
   "source": [
    "# detemine the number of iteration\n",
    "iters_us = 10\n",
    "# determine the percentage of masks\n",
    "n_us = int(len(y_us)*0.2)"
   ]
  },
  {
   "cell_type": "code",
   "execution_count": 58,
   "metadata": {},
   "outputs": [
    {
     "name": "stdout",
     "output_type": "stream",
     "text": [
      "The mean is  0.9277293237398645\n",
      "The variance is  0.008658776970453176\n"
     ]
    }
   ],
   "source": [
    "# apply Fourier method\n",
    "accuracy_mean_us, accuracy_var_us = pred_iteration(A_us,iters_us, y_us, n_us, x_lp_us)\n",
    "#accuracy of the heat kernel method\n",
    "accuracy_mean_us_ht, accuracy_var_us_ht = pred_iteration(A_us,iters_us, y_us, n_us, x_ht_us)"
   ]
  },
  {
   "cell_type": "markdown",
   "metadata": {},
   "source": [
    "TO DO : conclusion    \n",
    "\n",
    "## III.3 GCN method on similarity graph\n",
    "We are now trying to implement GCN methods on similarity graph. \n",
    "\n",
    "TO DO : further develop the model"
   ]
  },
  {
   "cell_type": "code",
   "execution_count": null,
   "metadata": {},
   "outputs": [],
   "source": [
    "import time\n",
    "\n",
    "import networkx as nx\n",
    "from sklearn.linear_model import LogisticRegression\n",
    "\n",
    "import torch\n",
    "import torch.nn as nn\n",
    "import torch.nn.functional as F\n",
    "\n",
    "import dgl.function as fn\n",
    "from dgl import DGLGraph\n",
    "from dgl.data.citation_graph import load_cora\n",
    "\n",
    "np.random.seed(0)\n",
    "torch.manual_seed(1)"
   ]
  },
  {
   "cell_type": "markdown",
   "metadata": {},
   "source": [
    "**GCN for foreigner**"
   ]
  },
  {
   "cell_type": "code",
   "execution_count": null,
   "metadata": {},
   "outputs": [],
   "source": [
    "mean_for,var_for = apply_gcn(1,X_for,y_for,A_for,laplacian_for,lamb_for,U_for)"
   ]
  },
  {
   "cell_type": "markdown",
   "metadata": {},
   "source": [
    "**GCN for total**"
   ]
  },
  {
   "cell_type": "code",
   "execution_count": null,
   "metadata": {},
   "outputs": [],
   "source": [
    "mean_total,var_total = apply_gcn(1,X_total,y,A,laplacian,lamb,U)"
   ]
  },
  {
   "cell_type": "markdown",
   "metadata": {},
   "source": [
    "**GCN for US citizen**"
   ]
  },
  {
   "cell_type": "code",
   "execution_count": null,
   "metadata": {},
   "outputs": [],
   "source": [
    "mean_us,var_us = apply_gcn(1,X_us,y_us,A_us,laplacian_us,lamb_us,U_us)"
   ]
  },
  {
   "cell_type": "markdown",
   "metadata": {},
   "source": [
    "**Result**\n",
    "\n",
    "accuracy: `mean-var` for 20 iterations\n",
    "\n",
    "              Total         For           Us\n",
    "            \n",
    "`GCN :     0.925-0.008  0.835-0.025  0.929-0.008`\n",
    "\n",
    "`Fourier : 0.931-0.008  0.855-0.023  0.928-0.007`\n",
    "\n",
    "\n"
   ]
  },
  {
   "cell_type": "markdown",
   "metadata": {},
   "source": [
    "At this stage a function that  plots a signal on a graph using both a Laplacian embedding and the NetworkX force-directed layout"
   ]
  },
  {
   "cell_type": "code",
   "execution_count": 75,
   "metadata": {},
   "outputs": [],
   "source": [
    "graph_tot=nx.from_numpy_matrix(A)\n",
    "graph_us = nx.from_numpy_matrix(A_us)\n",
    "coords_us = nx.spring_layout(graph) # Force-directed layout.\n",
    "graph_for = nx.from_numpy_matrix(A_for)\n",
    "coords_for = nx.spring_layout(graph_for) # Force-directed layout."
   ]
  },
  {
   "cell_type": "code",
   "execution_count": 76,
   "metadata": {},
   "outputs": [],
   "source": [
    "def embedding(adj,U):\n",
    "    D_norm = np.diag(np.clip(np.sum(adj, 1), 1, None)**(-1/2))\n",
    "    network_emb = D_norm @ U[:,[1,3]]\n",
    "    emb_x = network_emb[:,0]\n",
    "    emb_y = network_emb[:,1]\n",
    "    return emb_x,emb_y"
   ]
  },
  {
   "cell_type": "code",
   "execution_count": 78,
   "metadata": {},
   "outputs": [],
   "source": [
    "   def coplot_network_signal(signal,emb_x,emb_y,graph,coords, title='Signal = ...'):\n",
    "    '''\n",
    "    Plots a signal on a graph using both a Laplacian embedding and the NetworkX force-directed layout.\n",
    "    \n",
    "    Args:\n",
    "        signal: The signal of each node to plot on the graph\n",
    "        title: Plot title\n",
    "    '''\n",
    "    fig, ax = plt.subplots(1, 2, figsize=(16,7))\n",
    "        \n",
    "    vmax = max(-np.nanmin(signal), np.nanmax(signal))\n",
    "    vmin = -vmax\n",
    "   # emb_x, emb_y=embedding(A_us, U_us)\n",
    "    \n",
    "\n",
    "    im = ax[0].scatter(emb_x, emb_y, c=signal, cmap='bwr', s=70, edgecolors='black', \n",
    "                       vmin=vmin, vmax=vmax)\n",
    "    ax[0].set_title('Laplacian Embedding')\n",
    "    ax[0].set_xlabel('Generalized eigenvector embedding $U_1$')\n",
    "    ax[0].set_ylabel('Generalized eigenvector embedding $U_3$')\n",
    "\n",
    "    nx.draw_networkx_nodes(graph, coords, node_size=60, node_color=signal, cmap='bwr', \n",
    "                           edgecolors='black', ax=ax[1], vmin=vmin, vmax=vmax)\n",
    "    nx.draw_networkx_edges(graph, coords, alpha=0.2, ax=ax[1])\n",
    "    ax[1].set_title('NetworkX Force-directed layout')\n",
    "\n",
    "    fig.suptitle(title, fontsize=16)\n",
    "\n",
    "    fig.subplots_adjust(right=0.9)\n",
    "    cbar_ax = fig.add_axes([0.925, 0.15, 0.025, 0.7])\n",
    "    fig.colorbar(im, cax=cbar_ax)"
   ]
  },
  {
   "cell_type": "code",
   "execution_count": 81,
   "metadata": {},
   "outputs": [
    {
     "data": {
      "image/png": "[encoded data removed]",
      "text/plain": [
       "<Figure size 1152x504 with 3 Axes>"
      ]
     },
     "metadata": {
      "needs_background": "light"
     },
     "output_type": "display_data"
    },
    {
     "data": {
      "image/png": "[encoded data removed]",
      "text/plain": [
       "<Figure size 1152x504 with 3 Axes>"
      ]
     },
     "metadata": {
      "needs_background": "light"
     },
     "output_type": "display_data"
    }
   ],
   "source": [
    "#plt of the us immigration\n",
    "emb_x_us, emb_y_us=embedding(A_us, U_us)\n",
    "coplot_network_signal(y_us,emb_x_us, emb_y_us,graph_us,coords_us, title='Signal = truth labels')\n",
    "#plot of the foreign immigration\n",
    "emb_x_for, emb_y_for=embedding(A_for, U_for)\n",
    "coplot_network_signal(y_for,emb_x_for, emb_y_for,graph_for,coords_for, title='Signal = truth labels')\n",
    "#plt of total immigration\n",
    "emb_x, emb_y=embedding(A, U)\n",
    "coplot_network_signal(y,emb_x, emb_y, title='Signal = truth labels')"
   ]
  },
  {
   "cell_type": "code",
   "execution_count": null,
   "metadata": {},
   "outputs": [],
   "source": []
  }
 ],
 "metadata": {
  "kernelspec": {
   "display_name": "Python 3",
   "language": "python",
   "name": "python3"
  },
  "language_info": {
   "codemirror_mode": {
    "name": "ipython",
    "version": 3
   },
   "file_extension": ".py",
   "mimetype": "text/x-python",
   "name": "python",
   "nbconvert_exporter": "python",
   "pygments_lexer": "ipython3",
   "version": "3.7.4"
  }
 },
 "nbformat": 4,
 "nbformat_minor": 2
}
