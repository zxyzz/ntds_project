{
 "cells": [
  {
   "cell_type": "code",
   "execution_count": 1,
   "metadata": {},
   "outputs": [],
   "source": [
    "import pandas as pd\n",
    "import numpy as np"
   ]
  },
  {
   "cell_type": "code",
   "execution_count": null,
   "metadata": {},
   "outputs": [],
   "source": []
  },
  {
   "cell_type": "code",
   "execution_count": 2,
   "metadata": {},
   "outputs": [
    {
     "data": {
      "text/html": [
       "<div>\n",
       "<style scoped>\n",
       "    .dataframe tbody tr th:only-of-type {\n",
       "        vertical-align: middle;\n",
       "    }\n",
       "\n",
       "    .dataframe tbody tr th {\n",
       "        vertical-align: top;\n",
       "    }\n",
       "\n",
       "    .dataframe thead th {\n",
       "        text-align: right;\n",
       "    }\n",
       "</style>\n",
       "<table border=\"1\" class=\"dataframe\">\n",
       "  <thead>\n",
       "    <tr style=\"text-align: right;\">\n",
       "      <th></th>\n",
       "      <th>ori_id</th>\n",
       "      <th>des_id</th>\n",
       "      <th>ori_county</th>\n",
       "      <th>des_county</th>\n",
       "      <th>returns</th>\n",
       "      <th>exemptions</th>\n",
       "      <th>AGI</th>\n",
       "      <th>dist_km</th>\n",
       "    </tr>\n",
       "  </thead>\n",
       "  <tbody>\n",
       "    <tr>\n",
       "      <th>0</th>\n",
       "      <td>1366</td>\n",
       "      <td>1758</td>\n",
       "      <td>1051</td>\n",
       "      <td>1001</td>\n",
       "      <td>387</td>\n",
       "      <td>895</td>\n",
       "      <td>17374</td>\n",
       "      <td>46.761904</td>\n",
       "    </tr>\n",
       "    <tr>\n",
       "      <th>1</th>\n",
       "      <td>336</td>\n",
       "      <td>1758</td>\n",
       "      <td>1101</td>\n",
       "      <td>1001</td>\n",
       "      <td>352</td>\n",
       "      <td>741</td>\n",
       "      <td>13267</td>\n",
       "      <td>53.795844</td>\n",
       "    </tr>\n",
       "    <tr>\n",
       "      <th>2</th>\n",
       "      <td>641</td>\n",
       "      <td>1758</td>\n",
       "      <td>1021</td>\n",
       "      <td>1001</td>\n",
       "      <td>68</td>\n",
       "      <td>147</td>\n",
       "      <td>2111</td>\n",
       "      <td>35.517244</td>\n",
       "    </tr>\n",
       "    <tr>\n",
       "      <th>3</th>\n",
       "      <td>1114</td>\n",
       "      <td>1758</td>\n",
       "      <td>1047</td>\n",
       "      <td>1001</td>\n",
       "      <td>57</td>\n",
       "      <td>132</td>\n",
       "      <td>2253</td>\n",
       "      <td>49.334907</td>\n",
       "    </tr>\n",
       "    <tr>\n",
       "      <th>4</th>\n",
       "      <td>636</td>\n",
       "      <td>1758</td>\n",
       "      <td>1073</td>\n",
       "      <td>1001</td>\n",
       "      <td>45</td>\n",
       "      <td>81</td>\n",
       "      <td>1974</td>\n",
       "      <td>115.791496</td>\n",
       "    </tr>\n",
       "  </tbody>\n",
       "</table>\n",
       "</div>"
      ],
      "text/plain": [
       "   ori_id  des_id  ori_county  des_county  returns  exemptions    AGI  \\\n",
       "0    1366    1758        1051        1001      387         895  17374   \n",
       "1     336    1758        1101        1001      352         741  13267   \n",
       "2     641    1758        1021        1001       68         147   2111   \n",
       "3    1114    1758        1047        1001       57         132   2253   \n",
       "4     636    1758        1073        1001       45          81   1974   \n",
       "\n",
       "      dist_km  \n",
       "0   46.761904  \n",
       "1   53.795844  \n",
       "2   35.517244  \n",
       "3   49.334907  \n",
       "4  115.791496  "
      ]
     },
     "execution_count": 2,
     "metadata": {},
     "output_type": "execute_result"
    }
   ],
   "source": [
    "migflow2015_county_nodeid_dist = pd.read_csv(\"./NTDS_Data/migflow2015_county_nodeid_dist.csv\")\n",
    "migflow2015_county_nodeid_dist.head()"
   ]
  },
  {
   "cell_type": "code",
   "execution_count": 5,
   "metadata": {},
   "outputs": [
    {
     "data": {
      "text/html": [
       "<div>\n",
       "<style scoped>\n",
       "    .dataframe tbody tr th:only-of-type {\n",
       "        vertical-align: middle;\n",
       "    }\n",
       "\n",
       "    .dataframe tbody tr th {\n",
       "        vertical-align: top;\n",
       "    }\n",
       "\n",
       "    .dataframe thead th {\n",
       "        text-align: right;\n",
       "    }\n",
       "</style>\n",
       "<table border=\"1\" class=\"dataframe\">\n",
       "  <thead>\n",
       "    <tr style=\"text-align: right;\">\n",
       "      <th></th>\n",
       "      <th>ori_id</th>\n",
       "      <th>des_id</th>\n",
       "      <th>returns</th>\n",
       "      <th>exemptions</th>\n",
       "      <th>AGI</th>\n",
       "    </tr>\n",
       "  </thead>\n",
       "  <tbody>\n",
       "    <tr>\n",
       "      <th>0</th>\n",
       "      <td>1366</td>\n",
       "      <td>1758</td>\n",
       "      <td>387</td>\n",
       "      <td>895</td>\n",
       "      <td>17374</td>\n",
       "    </tr>\n",
       "    <tr>\n",
       "      <th>1</th>\n",
       "      <td>336</td>\n",
       "      <td>1758</td>\n",
       "      <td>352</td>\n",
       "      <td>741</td>\n",
       "      <td>13267</td>\n",
       "    </tr>\n",
       "    <tr>\n",
       "      <th>2</th>\n",
       "      <td>641</td>\n",
       "      <td>1758</td>\n",
       "      <td>68</td>\n",
       "      <td>147</td>\n",
       "      <td>2111</td>\n",
       "    </tr>\n",
       "    <tr>\n",
       "      <th>3</th>\n",
       "      <td>1114</td>\n",
       "      <td>1758</td>\n",
       "      <td>57</td>\n",
       "      <td>132</td>\n",
       "      <td>2253</td>\n",
       "    </tr>\n",
       "    <tr>\n",
       "      <th>4</th>\n",
       "      <td>636</td>\n",
       "      <td>1758</td>\n",
       "      <td>45</td>\n",
       "      <td>81</td>\n",
       "      <td>1974</td>\n",
       "    </tr>\n",
       "  </tbody>\n",
       "</table>\n",
       "</div>"
      ],
      "text/plain": [
       "   ori_id  des_id  returns  exemptions    AGI\n",
       "0    1366    1758      387         895  17374\n",
       "1     336    1758      352         741  13267\n",
       "2     641    1758       68         147   2111\n",
       "3    1114    1758       57         132   2253\n",
       "4     636    1758       45          81   1974"
      ]
     },
     "execution_count": 5,
     "metadata": {},
     "output_type": "execute_result"
    }
   ],
   "source": [
    "migflow2015_county_nodeid_dist = migflow2015_county_nodeid_dist.drop(columns=[\"ori_county\", \"des_county\",\"dist_km\"])\n",
    "migflow2015_county_nodeid_dist.head()"
   ]
  },
  {
   "cell_type": "code",
   "execution_count": 6,
   "metadata": {},
   "outputs": [],
   "source": [
    "# graph just from migration"
   ]
  },
  {
   "cell_type": "code",
   "execution_count": null,
   "metadata": {},
   "outputs": [],
   "source": [
    "# graph, distance "
   ]
  },
  {
   "cell_type": "code",
   "execution_count": null,
   "metadata": {},
   "outputs": [],
   "source": [
    "#"
   ]
  }
 ],
 "metadata": {
  "kernelspec": {
   "display_name": "Python 3",
   "language": "python",
   "name": "python3"
  },
  "language_info": {
   "codemirror_mode": {
    "name": "ipython",
    "version": 3
   },
   "file_extension": ".py",
   "mimetype": "text/x-python",
   "name": "python",
   "nbconvert_exporter": "python",
   "pygments_lexer": "ipython3",
   "version": "3.7.3"
  }
 },
 "nbformat": 4,
 "nbformat_minor": 2
}
