{
 "cells": [
  {
   "cell_type": "code",
   "execution_count": 1,
   "metadata": {},
   "outputs": [],
   "source": [
    "import numpy as np\n",
    "import sys\n",
    "from scipy import sparse\n",
    "from scipy.spatial.distance import pdist, squareform\n",
    "import matplotlib.pyplot as plt\n",
    "from mpl_toolkits.mplot3d import Axes3D\n",
    "import pandas as pd\n",
    "import networkx as nx\n",
    "from sklearn.preprocessing import StandardScaler"
   ]
  },
  {
   "cell_type": "code",
   "execution_count": 2,
   "metadata": {},
   "outputs": [],
   "source": [
    "# II. Second try with IRS dataset"
   ]
  },
  {
   "cell_type": "code",
   "execution_count": 4,
   "metadata": {},
   "outputs": [],
   "source": [
    " #The IRS (i.e Internal Revenue Service) website contains a dataset of all the migrations between county. We can access data about the migration inflow or the migration outflaw of each county. \n",
    "#We are more interested by the inflow migration dataset which describes what kind of immigration a county was subject to.\n",
    "#The IRS allow us to have access to 3 different type of migration inflow for each county : \n",
    "#1. People who migrated and that are US citizen \n",
    "#2. People who migrated and that are not US citizen \n",
    "#3. The total number of people who migrated\n",
    "\n",
    "#Each of this flow is caracterized by 3 variables : \n",
    "#1. `returns`: the number of people who moved and payed taxes\n",
    "#2. `exemption`: the number of people who moved and did not pay taxes\n",
    "#3. `agi`: the average salary of the people who moved \n",
    "\n",
    "#To complete this dataset, we found a dataset that compiles the results of the 2016 Presidential Election by counties. The dataset comes from The Guardian (a British Newspaper). \n",
    "\n",
    "## II.1 Extract, clean the data \n",
    "#First, load the county migration dataset and clean it. "
   ]
  },
  {
   "cell_type": "code",
   "execution_count": 5,
   "metadata": {},
   "outputs": [],
   "source": [
    "def epsilon_similarity_graph(X: np.ndarray, sigma=1, epsilon=0):\n",
    "    \"\"\" X (n x d): coordinates of the n data points in R^d.\n",
    "        sigma (float): width of the kernel\n",
    "        epsilon (float): threshold\n",
    "        Return:\n",
    "        adjacency (n x n ndarray): adjacency matrix of the graph.\n",
    "    \"\"\"  \n",
    "    distance=squareform(pdist(X, 'euclidean'))\n",
    "    print(np.mean(distance))\n",
    "    weights=np.exp(-distance**2/(2*sigma*sigma))\n",
    "    np.fill_diagonal(weights,0)\n",
    "    plt.hist(weights.reshape(weights.shape[0]**2 ,1),bins=100)\n",
    "    plt.title(\"distance treshold\")\n",
    "    plt.show()\n",
    "    adjacency=weights\n",
    "    adjacency[adjacency<epsilon]=0\n",
    "    a=np.ones_like(adjacency)\n",
    "    return adjacency"
   ]
  },
  {
   "cell_type": "code",
   "execution_count": 6,
   "metadata": {},
   "outputs": [
    {
     "name": "stdout",
     "output_type": "stream",
     "text": [
      "       y2_statefips  y2_countyfips  y1_statefips  y1_countyfips y1_state  \\\n",
      "0                 1              0            96              0       AL   \n",
      "1                 1              0            97              0       AL   \n",
      "2                 1              0            97              1       AL   \n",
      "3                 1              0            97              3       AL   \n",
      "4                 1              0            98              0       AL   \n",
      "...             ...            ...           ...            ...      ...   \n",
      "86325            56             45            59              0       DS   \n",
      "86326            56             45            59              1       DS   \n",
      "86327            56             45            59              3       DS   \n",
      "86328            56             45            59              5       DS   \n",
      "86329            56             45            59              7       DS   \n",
      "\n",
      "                         y1_countyname      n1      n2      agi  \n",
      "0       Total Migration-US and Foreign  100390  207334  4835874  \n",
      "1                   Total Migration-US   99527  205203  4782089  \n",
      "2           Total Migration-Same State   56323  115151  2486684  \n",
      "3      Total Migration-Different State   43204   90052  2295405  \n",
      "4              Total Migration-Foreign     863    2131    53785  \n",
      "...                                ...     ...     ...      ...  \n",
      "86325    Other flows - Different State      94     179     4448  \n",
      "86326          Other flows - Northeast      -1      -1       -1  \n",
      "86327            Other flows - Midwest      50      91     2373  \n",
      "86328              Other flows - South      -1      -1       -1  \n",
      "86329               Other flows - West      44      88     2076  \n",
      "\n",
      "[86330 rows x 9 columns]\n"
     ]
    }
   ],
   "source": [
    "# load the data\n",
    "df_migrations = pd.read_csv(\"./NTDS_Data/countyinflow1516.csv\" )\n",
    "print(df_migrations)"
   ]
  },
  {
   "cell_type": "code",
   "execution_count": 7,
   "metadata": {},
   "outputs": [],
   "source": [
    "# load the data\n",
    "df_migrations = pd.read_csv(\"./NTDS_Data/countyinflow1516.csv\" )\n",
    "\n",
    "# keep only summury information of each county\n",
    "df_migrations = df_migrations[df_migrations['y1_countyname'].str.contains(\"County Total Migration\")]\n",
    "\n",
    "# create the combined fips county number \n",
    "df_migrations['statefips_str'] = df_migrations['y2_statefips'].apply(lambda x : str(x).zfill(2))\n",
    "df_migrations['countyfips_str'] = df_migrations['y2_countyfips'].apply(lambda x : str(x).zfill(3))\n",
    "df_migrations['combined_fips'] = df_migrations['statefips_str'].apply(lambda x: x.lstrip('0')) + df_migrations['countyfips_str']\n",
    "\n",
    "# drop useless information \n",
    "df_migrations = df_migrations.drop(columns=[\"y2_statefips\", \"y2_countyfips\", \"y1_statefips\", \"y1_countyfips\", \"y1_state\", \"statefips_str\", \"countyfips_str\"])\n",
    "\n",
    "# seperate each possible migration into three dataframe \n",
    "df_migration_total = df_migrations[df_migrations['y1_countyname'].str.contains(\"County Total Migration-US and Foreign\")]\n",
    "df_migrations['y1_countyname'] = df_migrations['y1_countyname'].apply(lambda x : x if x.find(\"County Total Migration-US and Foreign\") == -1 else \"County Total Migration Both\")\n",
    "df_migration_us = df_migrations[df_migrations['y1_countyname'].str.contains(\"County Total Migration-US\")]\n",
    "df_migration_for = df_migrations[df_migrations['y1_countyname'].str.contains(\"County Total Migration-Foreign\")]\n",
    "\n",
    "# drop the name of the column \n",
    "df_migration_total = df_migration_total.drop(columns=[\"y1_countyname\"])\n",
    "df_migration_us = df_migration_us.drop(columns=[\"y1_countyname\"])\n",
    "df_migration_for = df_migration_for.drop(columns=[\"y1_countyname\"])\n",
    "\n",
    "# remove nodes where data is undefined undefined data by zero\n",
    "df_migration_total = df_migration_total[df_migration_total['n1'] != -1]\n",
    "df_migration_us = df_migration_us[df_migration_us['n1'] != -1]\n",
    "df_migration_for = df_migration_for[df_migration_for['n1'] != -1]\n",
    "\n",
    "# convert combined fips to int64\n",
    "df_migration_total['combined_fips'] = df_migration_total['combined_fips'].astype('int64')\n",
    "df_migration_us['combined_fips'] = df_migration_us['combined_fips'].astype('int64')\n",
    "df_migration_for['combined_fips'] = df_migration_for['combined_fips'].astype('int64')"
   ]
  },
  {
   "cell_type": "code",
   "execution_count": 8,
   "metadata": {},
   "outputs": [
    {
     "name": "stdout",
     "output_type": "stream",
     "text": [
      "       per_dem   per_gop  combined_fips\n",
      "0     0.377159  0.528870           2013\n",
      "1     0.377159  0.528870           2016\n",
      "2     0.377159  0.528870           2020\n",
      "3     0.377159  0.528870           2050\n",
      "4     0.377159  0.528870           2060\n",
      "...        ...       ...            ...\n",
      "3136  0.194046  0.729428          56037\n",
      "3137  0.600608  0.321945          56039\n",
      "3138  0.149261  0.764187          56041\n",
      "3139  0.143203  0.783580          56043\n",
      "3140  0.088182  0.869226          56045\n",
      "\n",
      "[3141 rows x 3 columns]\n"
     ]
    }
   ],
   "source": [
    "df_presidential_result = pd.read_csv(\"./NTDS_Data/2016_US_County_Level_Presidential_Results.csv\" )\n",
    "df_presidential_result = df_presidential_result.drop(columns=[\"Unnamed: 0\",\"votes_dem\", \"votes_gop\", \"total_votes\", \"diff\", \"per_point_diff\", \"state_abbr\", \"county_name\"])\n",
    "print(df_presidential_result)"
   ]
  },
  {
   "cell_type": "code",
   "execution_count": 9,
   "metadata": {},
   "outputs": [],
   "source": [
    "# merge the two dataset and drop useless column, add a new column winner \n",
    "df_merged_total = pd.merge(df_migration_total, df_presidential_result, on=\"combined_fips\", how='inner')\n",
    "df_merged_us = pd.merge(df_migration_us, df_presidential_result, on=\"combined_fips\", how='inner')\n",
    "df_merged_for = pd.merge(df_migration_for, df_presidential_result, on=\"combined_fips\", how='inner')\n",
    "df_merged_total['difference'] = df_merged_total['per_dem'] - df_merged_total['per_gop']\n",
    "df_merged_us['difference'] = df_merged_us['per_dem'] - df_merged_total['per_gop']\n",
    "df_merged_for['difference'] = df_merged_for['per_dem'] - df_merged_total['per_gop']\n",
    "df_merged_total['winner'] = df_merged_total['difference'].apply(lambda x : -1 if x > 0 else 1)\n",
    "df_merged_us['winner'] = df_merged_us['difference'].apply(lambda x : -1 if x > 0 else 1)\n",
    "df_merged_for['winner'] = df_merged_for['difference'].apply(lambda x : -1 if x > 0 else 1)\n",
    "df_merged_total = df_merged_total.drop(columns=['difference'])\n",
    "df_merged_us = df_merged_us.drop(columns=['difference'])\n",
    "df_merged_for = df_merged_for.drop(columns=['difference'])"
   ]
  },
  {
   "cell_type": "code",
   "execution_count": 10,
   "metadata": {},
   "outputs": [
    {
     "name": "stdout",
     "output_type": "stream",
     "text": [
      "           agi  prop_ret/exempt\n",
      "0    -0.127069         0.432270\n",
      "1     0.449295         0.496523\n",
      "2    -0.281678         0.468787\n",
      "3    -0.279707         0.434731\n",
      "4    -0.228247         0.455167\n",
      "...        ...              ...\n",
      "2958 -0.202587         0.462637\n",
      "2959  0.156933         0.655844\n",
      "2960 -0.255846         0.416878\n",
      "2961 -0.294052         0.451087\n",
      "2962 -0.293956         0.521341\n",
      "\n",
      "[2963 rows x 2 columns]\n"
     ]
    }
   ],
   "source": [
    "labels=df_merged_total['winner']\n",
    "X_total = df_merged_total.drop(columns=['combined_fips', 'per_dem', 'per_gop', 'winner'])\n",
    "nodes_total = df_merged_total.drop(columns=['n1', 'n2', 'agi', 'per_dem', 'per_gop']).values\n",
    "#dfmax=abs(X_total['agi']).max()\n",
    "#X_total['agi']=X_total['agi'].divide(dfmax)\n",
    "X_total['agi'] = (X_total['agi'] - X_total['agi'].mean()) / X_total['agi'].std()\n",
    "X_total['prop_ret/exempt'] = X_total['n1'] / X_total['n2']\n",
    "#dfmax_1=abs(X_total['prop_ret/exempt']).max()\n",
    "#X_total['prop_ret/exempt']=X_total['prop_ret/exempt'].divide(dfmax_1)\n",
    "X_total = X_total.drop(columns=['n1', 'n2'])\n",
    "print(X_total)"
   ]
  },
  {
   "cell_type": "code",
   "execution_count": 11,
   "metadata": {},
   "outputs": [],
   "source": [
    "distances = pdist(X_total.values, metric='euclidean')\n",
    "\n",
    "#We calculate the weights of our adjacency matrix\n",
    "kernel_width = distances.mean()\n",
    "#weights = np.exp(-distances**2 / kernel_width**2)\n",
    "#adjacency_full = squareform(weights)"
   ]
  },
  {
   "cell_type": "code",
   "execution_count": 12,
   "metadata": {},
   "outputs": [
    {
     "name": "stdout",
     "output_type": "stream",
     "text": [
      "0.5284353963018223\n"
     ]
    },
    {
     "data": {
      "image/png": "[encoded data removed]",
      "text/plain": [
       "<Figure size 432x288 with 1 Axes>"
      ]
     },
     "metadata": {
      "needs_background": "light"
     },
     "output_type": "display_data"
    },
    {
     "name": "stdout",
     "output_type": "stream",
     "text": [
      "1428932\n",
      "#nodes=  2963\n",
      "#compo=  56\n",
      "#nodes in giant component=  2883\n",
      "percentage of nodes in main component=  0.9730003374957813\n"
     ]
    }
   ],
   "source": [
    "#informatons over connectivity of main component \n",
    "adjacency = epsilon_similarity_graph(X_total, sigma=kernel_width, epsilon=0.99)\n",
    "graph=nx.from_numpy_matrix(adjacency)\n",
    "print(graph.number_of_edges())\n",
    "print(\"#nodes= \",adjacency.shape[0])\n",
    "print(\"#compo= \",nx.number_connected_components(graph))\n",
    "list_comp=max(nx.connected_components(graph), key = len)\n",
    "print(\"#nodes in giant component= \", len(list_comp))\n",
    "print(\"percentage of nodes in main component= \",len(list_comp)/adjacency.shape[0])"
   ]
  },
  {
   "cell_type": "code",
   "execution_count": 13,
   "metadata": {},
   "outputs": [
    {
     "data": {
      "image/png": "[encoded data removed]",
      "text/plain": [
       "<Figure size 432x288 with 1 Axes>"
      ]
     },
     "metadata": {
      "needs_background": "light"
     },
     "output_type": "display_data"
    }
   ],
   "source": [
    "plt.spy(adjacency)\n",
    "plt.show()"
   ]
  },
  {
   "cell_type": "code",
   "execution_count": 14,
   "metadata": {},
   "outputs": [],
   "source": [
    "conn_graph = list(nx.connected_component_subgraphs(graph))[0]\n",
    "X_total_conn=X_total.iloc[list(list_comp)]\n",
    "A =(nx.adjacency_matrix(conn_graph))"
   ]
  },
  {
   "cell_type": "code",
   "execution_count": 15,
   "metadata": {},
   "outputs": [],
   "source": [
    "adj=nx.to_numpy_matrix(conn_graph)"
   ]
  },
  {
   "cell_type": "code",
   "execution_count": 16,
   "metadata": {},
   "outputs": [
    {
     "name": "stdout",
     "output_type": "stream",
     "text": [
      "2883\n",
      "1423288\n",
      "#compo=  1\n"
     ]
    }
   ],
   "source": [
    "n_nodes =  adj.shape[0]\n",
    "n_edges = int(adj.sum() // 2)\n",
    "print(n_nodes)\n",
    "print(n_edges)\n",
    "print(\"#compo= \",nx.number_connected_components(conn_graph))"
   ]
  },
  {
   "cell_type": "code",
   "execution_count": 17,
   "metadata": {},
   "outputs": [],
   "source": [
    "laplacian_combinatorial=nx.linalg.laplacian_matrix(conn_graph, nodelist=None, weight='weight')\n",
    "laplacian_normalized=nx.linalg.laplacianmatrix.normalized_laplacian_matrix(conn_graph, nodelist=None, weight='weight')\n",
    "\n",
    "laplacian = laplacian_normalized"
   ]
  },
  {
   "cell_type": "code",
   "execution_count": 18,
   "metadata": {},
   "outputs": [
    {
     "name": "stderr",
     "output_type": "stream",
     "text": [
      "C:\\Users\\fatimzzahra moujrid\\.conda\\envs\\test\\lib\\site-packages\\scipy\\sparse\\linalg\\eigen\\arpack\\arpack.py:1572: RuntimeWarning: k >= N for N * N square matrix. Attempting to use scipy.linalg.eigh instead.\n",
      "  RuntimeWarning)\n"
     ]
    }
   ],
   "source": [
    "import scipy.sparse.linalg\n",
    "e, U= sparse.linalg.eigsh(laplacian.toarray(),k=2883)\n",
    "#e, U=np.linalg.eigh(laplacian)"
   ]
  },
  {
   "cell_type": "code",
   "execution_count": 19,
   "metadata": {},
   "outputs": [
    {
     "name": "stdout",
     "output_type": "stream",
     "text": [
      "[[0.08932091 0.         0.         ... 0.         0.         0.        ]\n",
      " [0.         0.20456106 0.         ... 0.         0.         0.        ]\n",
      " [0.         0.         0.02496669 ... 0.         0.         0.        ]\n",
      " ...\n",
      " [0.         0.         0.         ... 0.03361241 0.         0.        ]\n",
      " [0.         0.         0.         ... 0.         0.02681793 0.        ]\n",
      " [0.         0.         0.         ... 0.         0.         0.02558194]]\n"
     ]
    }
   ],
   "source": [
    "a=(np.sum(adj,1))\n",
    "a_sq=np.power(a, -0.5)\n",
    "d=np.zeros((n_nodes,n_nodes))\n",
    "d[np.arange(d.shape[0]), np.arange(d.shape[1])] = (a_sq.T)\n",
    "D_norm=d\n",
    "print(d)"
   ]
  },
  {
   "cell_type": "code",
   "execution_count": 20,
   "metadata": {},
   "outputs": [],
   "source": [
    "network_emb = D_norm @ U[:,[1,3]]\n",
    "emb_x = network_emb[:,0]\n",
    "emb_y = network_emb[:,1]"
   ]
  },
  {
   "cell_type": "code",
   "execution_count": 21,
   "metadata": {},
   "outputs": [
    {
     "name": "stdout",
     "output_type": "stream",
     "text": [
      "Sampled 880 out of 2883 nodes\n"
     ]
    }
   ],
   "source": [
    "mn_ratio = 0.3\n",
    "w = np.random.binomial(n=1, p=mn_ratio, size=n_nodes)\n",
    "m = sum(w) # Number of measurements\n",
    "print('Sampled {} out of {} nodes'.format(m, n_nodes))"
   ]
  },
  {
   "cell_type": "code",
   "execution_count": 22,
   "metadata": {},
   "outputs": [
    {
     "data": {
      "text/plain": [
       "(2883,)"
      ]
     },
     "execution_count": 22,
     "metadata": {},
     "output_type": "execute_result"
    }
   ],
   "source": [
    "#labels=nodes_total[:,1]\n",
    "labels_conn=np.array(labels[list(list_comp)])\n",
    "subsampled = labels_conn*w\n",
    "subsampled.shape\n"
   ]
  },
  {
   "cell_type": "code",
   "execution_count": 23,
   "metadata": {},
   "outputs": [],
   "source": [
    "def GFT(x):\n",
    "    return U.T @ x\n",
    "\n",
    "def iGFT(x):\n",
    "    return U @ x"
   ]
  },
  {
   "cell_type": "code",
   "execution_count": 24,
   "metadata": {},
   "outputs": [],
   "source": [
    "def heat_kernel(e, t):\n",
    "    return np.exp(-t * e)\n",
    "def graph_filter(x, kernel, **kwargs):\n",
    "    return iGFT(kernel(e, **kwargs) * GFT(x))"
   ]
  },
  {
   "cell_type": "code",
   "execution_count": 25,
   "metadata": {},
   "outputs": [],
   "source": [
    "graph = nx.from_numpy_matrix(adj)\n",
    "coords = nx.spring_layout(graph) # Force-directed layout."
   ]
  },
  {
   "cell_type": "code",
   "execution_count": 26,
   "metadata": {},
   "outputs": [],
   "source": [
    "def coplot_network_signal(signal, title='Signal = ...'):\n",
    "    '''\n",
    "    Plots a signal on a graph using both a Laplacian embedding and the NetworkX force-directed layout.\n",
    "    \n",
    "    Args:\n",
    "        signal: The signal of each node to plot on the graph\n",
    "        title: Plot title\n",
    "    '''\n",
    "    fig, ax = plt.subplots(1, 2, figsize=(16,7))\n",
    "        \n",
    "    vmax = max(-np.nanmin(signal), np.nanmax(signal))\n",
    "    vmin = -vmax\n",
    "\n",
    "    im = ax[0].scatter(emb_x, emb_y, c=signal, cmap='bwr', s=70, edgecolors='black', \n",
    "                       vmin=vmin, vmax=vmax)\n",
    "    ax[0].set_title('Laplacian Embedding')\n",
    "    ax[0].set_xlabel('Generalized eigenvector embedding $U_1$')\n",
    "    ax[0].set_ylabel('Generalized eigenvector embedding $U_3$')\n",
    "\n",
    "    nx.draw_networkx_nodes(graph, coords, node_size=60, node_color=signal, cmap='bwr', \n",
    "                           edgecolors='black', ax=ax[1], vmin=vmin, vmax=vmax)\n",
    "    nx.draw_networkx_edges(graph, coords, alpha=0.2, ax=ax[1])\n",
    "    ax[1].set_title('NetworkX Force-directed layout')\n",
    "\n",
    "    fig.suptitle(title, fontsize=16)\n",
    "\n",
    "    fig.subplots_adjust(right=0.9)\n",
    "    cbar_ax = fig.add_axes([0.925, 0.15, 0.025, 0.7])\n",
    "    fig.colorbar(im, cax=cbar_ax)"
   ]
  },
  {
   "cell_type": "code",
   "execution_count": 27,
   "metadata": {},
   "outputs": [
    {
     "name": "stderr",
     "output_type": "stream",
     "text": [
      "C:\\Users\\fatimzzahra moujrid\\.conda\\envs\\test\\lib\\site-packages\\networkx\\drawing\\nx_pylab.py:579: MatplotlibDeprecationWarning: \n",
      "The iterable function was deprecated in Matplotlib 3.1 and will be removed in 3.3. Use np.iterable instead.\n",
      "  if not cb.iterable(width):\n"
     ]
    },
    {
     "data": {
      "image/png": "[encoded data removed]",
      "text/plain": [
       "<Figure size 1152x504 with 3 Axes>"
      ]
     },
     "metadata": {
      "needs_background": "light"
     },
     "output_type": "display_data"
    }
   ],
   "source": [
    "coplot_network_signal(labels_conn, title='Signal = truth labels')"
   ]
  },
  {
   "cell_type": "code",
   "execution_count": 28,
   "metadata": {},
   "outputs": [],
   "source": [
    "accurary_ht=np.zeros((10))\n",
    "for i in range(0,10):\n",
    "    mn_ratio = 0.3\n",
    "    w = np.random.binomial(n=1, p=mn_ratio, size=n_nodes)\n",
    "    m = sum(w) # Number of measurements\n",
    "    #print('Sampled {} out of {} nodes'.format(m, n_nodes))\n",
    "    labels_conn=np.array(labels[list(list_comp)])\n",
    "    subsampled = labels_conn*w\n",
    "    #subsampled.shape\n",
    "    z_heat_denoised = graph_filter(subsampled, heat_kernel, t=0.1)\n",
    "    z_heat_denoised[z_heat_denoised<0]=-1\n",
    "    z_heat_denoised[z_heat_denoised>=0]=1\n",
    "    wrong_pred = []\n",
    "    for j in range(len(z_heat_denoised)):\n",
    "        if(z_heat_denoised[j] != labels_conn[j]):\n",
    "            wrong_pred.append(j)\n",
    "            len(wrong_pred)\n",
    "    accurary_ht[i]=( 1 - len(wrong_pred)/len(subsampled))\n",
    "           "
   ]
  },
  {
   "cell_type": "code",
   "execution_count": 29,
   "metadata": {},
   "outputs": [],
   "source": [
    "ideal_lp = np.ones((n_nodes,))\n",
    "ideal_lp[e >= 0.9] = 0  # Low-pass filter with cut-off at lambda=0.1"
   ]
  },
  {
   "cell_type": "code",
   "execution_count": 30,
   "metadata": {},
   "outputs": [],
   "source": [
    "def ideal_graph_filter(x: np.ndarray, spectral_response: np.ndarray):\n",
    "    \"\"\"Return a filtered signal.\"\"\"\n",
    "    \n",
    "    return iGFT(GFT(x) * spectral_response)"
   ]
  },
  {
   "cell_type": "code",
   "execution_count": 31,
   "metadata": {},
   "outputs": [],
   "source": [
    "accurary_low=np.zeros((10))\n",
    "for i in range(0,10):\n",
    "    mn_ratio = 0.3\n",
    "    w = np.random.binomial(n=1, p=mn_ratio, size=n_nodes)\n",
    "    m = sum(w) # Number of measurements\n",
    "    #print('Sampled {} out of {} nodes'.format(m, n_nodes))\n",
    "    labels_conn=np.array(labels[list(list_comp)])\n",
    "    subsampled = labels_conn*w\n",
    "    #subsampled.shape\n",
    "    z_low_denoised = ideal_graph_filter(subsampled,ideal_lp)\n",
    "    z_low_denoised[z_low_denoised<0]=-1\n",
    "    z_low_denoised[z_low_denoised>=0]=1\n",
    "    wrong_pred = []\n",
    "    for j in range(len(z_low_denoised)):\n",
    "        if(z_low_denoised[j] != labels_conn[j]):\n",
    "            wrong_pred.append(j)\n",
    "            len(wrong_pred)\n",
    "    accurary_low[i]=( 1 - len(wrong_pred)/len(subsampled))\n",
    "           \n",
    "#coplot_network_signal(z_heat_denoised, title='Signal = Heat denoised measurements')\n",
    "#print('Relative Error: {:.2f}'.format(rel_err(labels_conn, z_heat_denoised)))\n",
    "score_mean_low=np.mean(accurary_low)\n",
    "score_variance_low=np.std(accurary_low)"
   ]
  },
  {
   "cell_type": "code",
   "execution_count": null,
   "metadata": {},
   "outputs": [],
   "source": []
  }
 ],
 "metadata": {
  "kernelspec": {
   "display_name": "Python 3",
   "language": "python",
   "name": "python3"
  },
  "language_info": {
   "codemirror_mode": {
    "name": "ipython",
    "version": 3
   },
   "file_extension": ".py",
   "mimetype": "text/x-python",
   "name": "python",
   "nbconvert_exporter": "python",
   "pygments_lexer": "ipython3",
   "version": "3.7.3"
  }
 },
 "nbformat": 4,
 "nbformat_minor": 2
}
