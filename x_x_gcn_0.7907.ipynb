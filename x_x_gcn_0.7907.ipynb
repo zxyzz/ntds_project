{
 "cells": [
  {
   "cell_type": "code",
   "execution_count": 1,
   "metadata": {},
   "outputs": [],
   "source": [
    "import numpy as np\n",
    "import sys\n",
    "from scipy import sparse\n",
    "from scipy.spatial.distance import pdist, squareform\n",
    "import matplotlib.pyplot as plt\n",
    "from mpl_toolkits.mplot3d import Axes3D\n",
    "import pandas as pd\n",
    "import networkx as nx\n",
    "from sklearn.preprocessing import StandardScaler\n",
    "%matplotlib inline\n",
    "import scipy as sci\n",
    "from sklearn.cluster import KMeans\n"
   ]
  },
  {
   "cell_type": "markdown",
   "metadata": {},
   "source": [
    "# Utils"
   ]
  },
  {
   "cell_type": "code",
   "execution_count": 2,
   "metadata": {},
   "outputs": [],
   "source": [
    "def epsilon_similarity_graph(X: np.ndarray, sigma=1, epsilon=0):\n",
    "    \"\"\" X (n x d): coordinates of the n data points in R^d.\n",
    "        sigma (float): width of the kernel\n",
    "        epsilon (float): threshold\n",
    "        Return:\n",
    "        adjacency (n x n ndarray): adjacency matrix of the graph.\n",
    "    \"\"\"  \n",
    "    distance=squareform(pdist(X, 'euclidean'))\n",
    "    print(np.mean(distance))\n",
    "    weights=np.exp(-distance**2/(2*sigma*sigma))\n",
    "    np.fill_diagonal(weights,0)\n",
    "    plt.hist(weights.reshape(weights.shape[0]**2 ,1),bins=100)\n",
    "    plt.title(\"distance treshold\")\n",
    "    plt.show()\n",
    "    adjacency=weights\n",
    "    adjacency[adjacency<epsilon]=0\n",
    "    a=np.ones_like(adjacency)\n",
    "    return adjacency\n",
    "\n",
    "def compute_laplacian(adjacency: np.ndarray, normalize: bool):\n",
    "    Degrees=np.diag(np.sum(adjacency,1))\n",
    "    #print(  (np.sum(adjacency,1) == 0).any()   )\n",
    "    if normalize==False:\n",
    "        L=Degrees-adjacency\n",
    "    if normalize==True:\n",
    "        D_norm=np.diag(np.sum(adjacency,1)**(-1/2))\n",
    "        L=D_norm@(Degrees-adjacency)@D_norm\n",
    "    return L\n",
    "\n",
    "def spectral_decomposition(laplacian: np.ndarray):\n",
    "    lamb, U=sci.linalg.eigh(laplacian)\n",
    "    sorted_idx = np.argsort(lamb)\n",
    "    lamb = lamb[sorted_idx]\n",
    "    U=U[:,sorted_idx]\n",
    "    return lamb,U\n",
    "\n",
    "\n",
    "def GFT(signal, U):\n",
    "    # Your code here\n",
    "    print(len(signal))\n",
    "    return U.T @ signal\n",
    "\n",
    "def iGFT(fourier_coefficients, U):\n",
    "    # Your code here\n",
    "    return U @ fourier_coefficients\n",
    "def ideal_graph_filter(x, spectral_response, U):\n",
    "    \"\"\"Return a filtered signal.\"\"\"\n",
    "    # Your code here\n",
    "    # spectral_response is in the fourier domain\n",
    "    # x is in the graph domain\n",
    "    # need to converge x to the fourier domain \n",
    "    # finally convert all back to the graph domain\n",
    "    return iGFT(GFT(x,U) * spectral_response, U)"
   ]
  },
  {
   "cell_type": "markdown",
   "metadata": {},
   "source": [
    "# Prepare data"
   ]
  },
  {
   "cell_type": "code",
   "execution_count": 3,
   "metadata": {},
   "outputs": [],
   "source": [
    "# load the data\n",
    "df_migrations = pd.read_csv(\"./NTDS_Data/countyinflow1516.csv\" )"
   ]
  },
  {
   "cell_type": "code",
   "execution_count": 4,
   "metadata": {},
   "outputs": [],
   "source": [
    "# load the data\n",
    "df_migrations = pd.read_csv(\"./NTDS_Data/countyinflow1516.csv\" )\n",
    "\n",
    "# keep only summury information of each county\n",
    "df_migrations = df_migrations[df_migrations['y1_countyname'].str.contains(\"County Total Migration\")]\n",
    "\n",
    "# create the combined fips county number \n",
    "df_migrations['statefips_str'] = df_migrations['y2_statefips'].apply(lambda x : str(x).zfill(2))\n",
    "df_migrations['countyfips_str'] = df_migrations['y2_countyfips'].apply(lambda x : str(x).zfill(3))\n",
    "df_migrations['combined_fips'] = df_migrations['statefips_str'].apply(lambda x: x.lstrip('0')) + df_migrations['countyfips_str']\n",
    "\n",
    "# drop useless information \n",
    "df_migrations = df_migrations.drop(columns=[\"y2_statefips\", \"y2_countyfips\", \"y1_statefips\", \"y1_countyfips\", \"y1_state\", \"statefips_str\", \"countyfips_str\"])\n",
    "\n",
    "# seperate each possible migration into three dataframe \n",
    "df_migration_total = df_migrations[df_migrations['y1_countyname'].str.contains(\"County Total Migration-US and Foreign\")]\n",
    "df_migrations['y1_countyname'] = df_migrations['y1_countyname'].apply(lambda x : x if x.find(\"County Total Migration-US and Foreign\") == -1 else \"County Total Migration Both\")\n",
    "df_migration_us = df_migrations[df_migrations['y1_countyname'].str.contains(\"County Total Migration-US\")]\n",
    "df_migration_for = df_migrations[df_migrations['y1_countyname'].str.contains(\"County Total Migration-Foreign\")]\n",
    "\n",
    "# drop the name of the column \n",
    "df_migration_total = df_migration_total.drop(columns=[\"y1_countyname\"])\n",
    "df_migration_us = df_migration_us.drop(columns=[\"y1_countyname\"])\n",
    "df_migration_for = df_migration_for.drop(columns=[\"y1_countyname\"])\n",
    "\n",
    "# remove nodes where data is undefined undefined data by zero\n",
    "df_migration_total = df_migration_total[df_migration_total['n1'] != -1]\n",
    "df_migration_us = df_migration_us[df_migration_us['n1'] != -1]\n",
    "df_migration_for = df_migration_for[df_migration_for['n1'] != -1]\n",
    "\n",
    "# convert combined fips to int64\n",
    "df_migration_total['combined_fips'] = df_migration_total['combined_fips'].astype('int64')\n",
    "df_migration_us['combined_fips'] = df_migration_us['combined_fips'].astype('int64')\n",
    "df_migration_for['combined_fips'] = df_migration_for['combined_fips'].astype('int64')"
   ]
  },
  {
   "cell_type": "code",
   "execution_count": 5,
   "metadata": {},
   "outputs": [],
   "source": [
    "df_presidential_result = pd.read_csv(\"./NTDS_Data/2016_US_County_Level_Presidential_Results.csv\" )\n",
    "df_presidential_result = df_presidential_result.drop(columns=[\"Unnamed: 0\",\"votes_dem\", \"votes_gop\", \"total_votes\", \"diff\", \"per_point_diff\", \"state_abbr\", \"county_name\"])"
   ]
  },
  {
   "cell_type": "code",
   "execution_count": 6,
   "metadata": {},
   "outputs": [],
   "source": [
    "# merge the two dataset and drop useless column, add a new column winner \n",
    "df_merged_total = pd.merge(df_migration_total, df_presidential_result, on=\"combined_fips\", how='inner')\n",
    "df_merged_us = pd.merge(df_migration_us, df_presidential_result, on=\"combined_fips\", how='inner')\n",
    "df_merged_for = pd.merge(df_migration_for, df_presidential_result, on=\"combined_fips\", how='inner')\n",
    "df_merged_total['difference'] = df_merged_total['per_dem'] - df_merged_total['per_gop']\n",
    "df_merged_us['difference'] = df_merged_us['per_dem'] - df_merged_total['per_gop']\n",
    "df_merged_for['difference'] = df_merged_for['per_dem'] - df_merged_total['per_gop']\n",
    "df_merged_total['winner'] = df_merged_total['difference'].apply(lambda x : -1 if x > 0 else 1)\n",
    "df_merged_us['winner'] = df_merged_us['difference'].apply(lambda x : -1 if x > 0 else 1)\n",
    "df_merged_for['winner'] = df_merged_for['difference'].apply(lambda x : -1 if x > 0 else 1)\n",
    "df_merged_total = df_merged_total.drop(columns=['difference'])\n",
    "df_merged_us = df_merged_us.drop(columns=['difference'])\n",
    "df_merged_for = df_merged_for.drop(columns=['difference'])"
   ]
  },
  {
   "cell_type": "markdown",
   "metadata": {},
   "source": [
    "# Compute Adjacency matrix"
   ]
  },
  {
   "cell_type": "code",
   "execution_count": 7,
   "metadata": {},
   "outputs": [
    {
     "name": "stdout",
     "output_type": "stream",
     "text": [
      "0.5284353963018223\n"
     ]
    },
    {
     "data": {
      "image/png": "[encoded data removed]",
      "text/plain": [
       "<Figure size 432x288 with 1 Axes>"
      ]
     },
     "metadata": {
      "needs_background": "light"
     },
     "output_type": "display_data"
    },
    {
     "data": {
      "image/png": "[encoded data removed]",
      "text/plain": [
       "<Figure size 432x288 with 1 Axes>"
      ]
     },
     "metadata": {
      "needs_background": "light"
     },
     "output_type": "display_data"
    }
   ],
   "source": [
    "X_total = df_merged_total.drop(columns=['combined_fips', 'per_dem', 'per_gop', 'winner'])\n",
    "nodes_total = df_merged_total.drop(columns=['n1', 'n2', 'agi', 'per_dem', 'per_gop']).values\n",
    "X_total['agi'] = (X_total['agi'] - X_total['agi'].mean()) / X_total['agi'].std()\n",
    "X_total['prop_ret/exempt'] = X_total['n1'] / X_total['n2']\n",
    "X_total = X_total.drop(columns=['n1', 'n2'])\n",
    "adjacency_RGB_total = epsilon_similarity_graph(X_total, sigma=0.5284353963018223*0.1, epsilon=0.2)\n",
    "plt.spy(adjacency_RGB_total)\n",
    "plt.show()"
   ]
  },
  {
   "cell_type": "code",
   "execution_count": 8,
   "metadata": {},
   "outputs": [
    {
     "data": {
      "image/png": "[encoded data removed]",
      "text/plain": [
       "<Figure size 432x288 with 1 Axes>"
      ]
     },
     "metadata": {
      "needs_background": "light"
     },
     "output_type": "display_data"
    }
   ],
   "source": [
    "plt.scatter(X_total[\"agi\"], X_total[\"prop_ret/exempt\"], c=df_merged_total[\"winner\"])\n",
    "plt.show()"
   ]
  },
  {
   "cell_type": "markdown",
   "metadata": {},
   "source": [
    "# signal => gft => lp => igft => adjacency and neighbour => threshold"
   ]
  },
  {
   "cell_type": "markdown",
   "metadata": {},
   "source": [
    "### Division by zero in normalized lapacien computation\n",
    "\n",
    "- some nodes do not have any connection in the graph => create new adjacency matrix A by deleting these nodes"
   ]
  },
  {
   "cell_type": "markdown",
   "metadata": {},
   "source": [
    "# Randomly choose some points for prediction use"
   ]
  },
  {
   "cell_type": "code",
   "execution_count": 9,
   "metadata": {},
   "outputs": [],
   "source": [
    "def pred_iteration(A,iters, x, n, filtered_x_lp):\n",
    "    accurary =[]\n",
    "    for i in iters:\n",
    "        test_idx = np.random.choice(np.arange(len(x)),n,replace = False)\n",
    "        # masking some winner\n",
    "        x[test_idx]=0\n",
    "        #prepare ground truth\n",
    "        truth = (df_merged_total[\"winner\"][test_idx]).values\n",
    "\n",
    "        pred = []\n",
    "        for i in test_idx:\n",
    "            l = np.where(A[i] !=0)[0]  # searching neigbhours\n",
    "            tmp = 0\n",
    "            for j in l:\n",
    "                \n",
    "                tmp += filtered_x_lp[j]\n",
    "            pred.append(tmp/len(l))   # compute mean\n",
    "        # thresholding\n",
    "        pred_thres = np.array(pred)\n",
    "        pred_thres [pred_thres >0 ] = 1\n",
    "        pred_thres [pred_thres <0 ] = -1\n",
    "\n",
    "        # ground truth\n",
    "        truth = (df_merged_total[\"winner\"][test_idx]).values\n",
    "\n",
    "        right_pred = []\n",
    "        for i in range(len(pred_thres)):\n",
    "            if(pred_thres[i] == truth[i]):\n",
    "                right_pred.append(i)\n",
    "                \n",
    "        accurary.append( len(right_pred)/len(test_idx))\n",
    "        \n",
    "    mean = np.mean(accurary)\n",
    "    var = np.std(accurary)\n",
    "    print(\"The mean is \",mean)\n",
    "    print(\"The variance is \",var)\n",
    "    return mean,var"
   ]
  },
  {
   "cell_type": "code",
   "execution_count": 10,
   "metadata": {},
   "outputs": [],
   "source": [
    "# prepare A and x(signal)\n",
    "A = adjacency_RGB_total.copy()\n",
    "rows_to_be_deleted = np.where(np.sum(adjacency_RGB_total,1) == 0)\n",
    "A = np.delete(A, rows_to_be_deleted,0)\n",
    "A = np.delete(A, rows_to_be_deleted,1)\n",
    "x = df_merged_total[\"winner\"]\n",
    "x = np.delete(np.array(x), rows_to_be_deleted,0) \n",
    "# compute lamb and U\n",
    "laplacian = compute_laplacian(A, normalize=True)\n",
    "lamb, U = spectral_decomposition(laplacian)"
   ]
  },
  {
   "cell_type": "code",
   "execution_count": 11,
   "metadata": {},
   "outputs": [
    {
     "name": "stdout",
     "output_type": "stream",
     "text": [
      "2939\n"
     ]
    }
   ],
   "source": [
    "# prepare filter\n",
    "n_nodes = A.shape[0]\n",
    "ideal_lp = np.ones((n_nodes,)) \n",
    "ideal_lp[lamb >= 0.1] = 0   # to tune\n",
    "# apply filter\n",
    "x_lp = ideal_graph_filter(x,ideal_lp,U)"
   ]
  },
  {
   "cell_type": "code",
   "execution_count": 12,
   "metadata": {},
   "outputs": [],
   "source": [
    "iters = np.arange(10)\n",
    "n = int(len(x)*0.2)"
   ]
  },
  {
   "cell_type": "code",
   "execution_count": 13,
   "metadata": {},
   "outputs": [
    {
     "name": "stdout",
     "output_type": "stream",
     "text": [
      "The mean is  0.828449744463373\n",
      "The variance is  0.018205975942647584\n"
     ]
    }
   ],
   "source": [
    "accuracy_mean, accuracy_var = pred_iteration(A,iters, x, n, x_lp)"
   ]
  },
  {
   "cell_type": "code",
   "execution_count": null,
   "metadata": {},
   "outputs": [],
   "source": []
  },
  {
   "cell_type": "code",
   "execution_count": null,
   "metadata": {},
   "outputs": [],
   "source": []
  },
  {
   "cell_type": "code",
   "execution_count": null,
   "metadata": {},
   "outputs": [],
   "source": []
  },
  {
   "cell_type": "markdown",
   "metadata": {},
   "source": [
    "# Questions:\n",
    "- algo: why low pass; [0,1,-1,1,0] => iGFT(GFT*lp) =>  [_,?,?,?,_]\n",
    "- plot with lamb ?\n",
    "- good graph ?  => `agi` and `exemplt` can predict the winner at 82%\n",
    "- satisfactory result ?"
   ]
  },
  {
   "cell_type": "code",
   "execution_count": null,
   "metadata": {},
   "outputs": [],
   "source": []
  },
  {
   "cell_type": "code",
   "execution_count": null,
   "metadata": {},
   "outputs": [],
   "source": []
  },
  {
   "cell_type": "markdown",
   "metadata": {},
   "source": [
    "# FOR"
   ]
  },
  {
   "cell_type": "code",
   "execution_count": 12,
   "metadata": {},
   "outputs": [
    {
     "name": "stdout",
     "output_type": "stream",
     "text": [
      "0.6675252605174868\n"
     ]
    },
    {
     "data": {
      "image/png": "[encoded data removed]",
      "text/plain": [
       "<Figure size 432x288 with 1 Axes>"
      ]
     },
     "metadata": {
      "needs_background": "light"
     },
     "output_type": "display_data"
    },
    {
     "data": {
      "image/png": "[encoded data removed]",
      "text/plain": [
       "<Figure size 432x288 with 1 Axes>"
      ]
     },
     "metadata": {
      "needs_background": "light"
     },
     "output_type": "display_data"
    }
   ],
   "source": [
    "X_for = df_merged_for.drop(columns=['combined_fips', 'per_dem', 'per_gop', 'winner'])\n",
    "nodes_for = df_merged_for.drop(columns=['n1', 'n2', 'agi', 'per_dem', 'per_gop']).values\n",
    "X_for['agi'] = (X_for['agi'] - X_for['agi'].mean()) / X_for['agi'].std()\n",
    "X_for['prop_ret/exempt'] = X_for['n1'] / X_for['n2']\n",
    "X_for = X_for.drop(columns=['n1', 'n2'])\n",
    "adjacency_RGB_for = epsilon_similarity_graph(X_for, sigma=0.6675252605174871*0.1, epsilon=0.5)\n",
    "plt.spy(adjacency_RGB_for)\n",
    "plt.show()"
   ]
  },
  {
   "cell_type": "code",
   "execution_count": 18,
   "metadata": {},
   "outputs": [],
   "source": [
    "# prepare A and x(signal)\n",
    "A_for = adjacency_RGB_for.copy()\n",
    "rows_to_be_deleted_for = np.where(np.sum(adjacency_RGB_for,1) == 0)\n",
    "A_for = np.delete(A_for, rows_to_be_deleted_for,0)\n",
    "A_for = np.delete(A_for, rows_to_be_deleted_for,1)\n",
    "x_for = df_merged_for[\"winner\"]\n",
    "x_for = np.delete(np.array(x_for), rows_to_be_deleted_for,0) \n",
    "# compute lamb and U\n",
    "laplacian_for = compute_laplacian(A_for, normalize=True)\n",
    "lamb_for, U_for = spectral_decomposition(laplacian_for)"
   ]
  },
  {
   "cell_type": "code",
   "execution_count": 19,
   "metadata": {},
   "outputs": [
    {
     "name": "stdout",
     "output_type": "stream",
     "text": [
      "437\n"
     ]
    }
   ],
   "source": [
    "# prepare filter\n",
    "ideal_lp_for = np.ones((A_for.shape[0],)) \n",
    "ideal_lp_for[lamb_for >= 0.1] = 0   # to tune\n",
    "# apply filter\n",
    "x_lp_for = ideal_graph_filter(x_for,ideal_lp_for,U_for)"
   ]
  },
  {
   "cell_type": "code",
   "execution_count": 29,
   "metadata": {},
   "outputs": [],
   "source": [
    "iters_for = np.arange(10)\n",
    "n_for = int(len(x_for)*0.2)"
   ]
  },
  {
   "cell_type": "code",
   "execution_count": 35,
   "metadata": {},
   "outputs": [
    {
     "name": "stdout",
     "output_type": "stream",
     "text": [
      "The mean is  0.7195402298850574\n",
      "The variance is  0.03784385662794099\n"
     ]
    },
    {
     "data": {
      "text/plain": [
       "(0.7195402298850574, 0.03784385662794099)"
      ]
     },
     "execution_count": 35,
     "metadata": {},
     "output_type": "execute_result"
    }
   ],
   "source": [
    "accuracy_mean_for, accuracy_var_for = pred_iteration(A_for,iters_for, x_for, n_for, x_lp_for)"
   ]
  },
  {
   "cell_type": "markdown",
   "metadata": {},
   "source": [
    "# US"
   ]
  },
  {
   "cell_type": "code",
   "execution_count": 36,
   "metadata": {},
   "outputs": [
    {
     "name": "stdout",
     "output_type": "stream",
     "text": [
      "0.5310405705207334\n"
     ]
    },
    {
     "data": {
      "image/png": "[encoded data removed]",
      "text/plain": [
       "<Figure size 432x288 with 1 Axes>"
      ]
     },
     "metadata": {
      "needs_background": "light"
     },
     "output_type": "display_data"
    },
    {
     "data": {
      "image/png": "[encoded data removed]",
      "text/plain": [
       "<Figure size 432x288 with 1 Axes>"
      ]
     },
     "metadata": {
      "needs_background": "light"
     },
     "output_type": "display_data"
    }
   ],
   "source": [
    "X_us = df_merged_us.drop(columns=['combined_fips', 'per_dem', 'per_gop', 'winner'])\n",
    "nodes_us = df_merged_us.drop(columns=['n1', 'n2', 'agi', 'per_dem', 'per_gop']).values\n",
    "X_us['agi'] = (X_us['agi'] - X_us['agi'].mean()) / X_us['agi'].std()\n",
    "X_us['prop_ret/exempt'] = X_us['n1'] / X_us['n2']\n",
    "X_us = X_us.drop(columns=['n1', 'n2'])\n",
    "adjacency_RGB_us = epsilon_similarity_graph(X_us, sigma=0.5310405705207334*0.1, epsilon=0.5)\n",
    "plt.spy(adjacency_RGB_us)\n",
    "plt.show()"
   ]
  },
  {
   "cell_type": "code",
   "execution_count": 37,
   "metadata": {},
   "outputs": [],
   "source": [
    "# prepare A and x(signal)\n",
    "A_us = adjacency_RGB_us.copy()\n",
    "rows_to_be_deleted_us = np.where(np.sum(adjacency_RGB_us,1) == 0)\n",
    "A_us = np.delete(A_us, rows_to_be_deleted_us,0)\n",
    "A_us = np.delete(A_us, rows_to_be_deleted_us,1)\n",
    "x_us = df_merged_us[\"winner\"]\n",
    "x_us = np.delete(np.array(x_us), rows_to_be_deleted_us,0) \n",
    "# compute lamb and U\n",
    "laplacian_us = compute_laplacian(A_us, normalize=True)\n",
    "lamb_us, U_us = spectral_decomposition(laplacian_us)"
   ]
  },
  {
   "cell_type": "code",
   "execution_count": 38,
   "metadata": {},
   "outputs": [
    {
     "name": "stdout",
     "output_type": "stream",
     "text": [
      "2921\n"
     ]
    }
   ],
   "source": [
    "# prepare filter\n",
    "ideal_lp_us = np.ones((A_us.shape[0],)) \n",
    "ideal_lp_us[lamb_us >= 0.1] = 0   # to tune\n",
    "# apply filter\n",
    "x_lp_us = ideal_graph_filter(x_us,ideal_lp_us,U_us)"
   ]
  },
  {
   "cell_type": "code",
   "execution_count": 39,
   "metadata": {},
   "outputs": [],
   "source": [
    "iters_us = np.arange(10)\n",
    "n_us = int(len(x_for)*0.2)"
   ]
  },
  {
   "cell_type": "code",
   "execution_count": 41,
   "metadata": {},
   "outputs": [
    {
     "name": "stdout",
     "output_type": "stream",
     "text": [
      "The mean is  0.8195402298850574\n",
      "The variance is  0.03293459490090667\n"
     ]
    },
    {
     "data": {
      "text/plain": [
       "(0.8195402298850574, 0.03293459490090667)"
      ]
     },
     "execution_count": 41,
     "metadata": {},
     "output_type": "execute_result"
    }
   ],
   "source": [
    "accuracy_mean_us, accuracy_var_us = pred_iteration(A_us,iters_us, x_us, n_us, x_lp_us)"
   ]
  },
  {
   "cell_type": "code",
   "execution_count": null,
   "metadata": {},
   "outputs": [],
   "source": []
  },
  {
   "cell_type": "code",
   "execution_count": null,
   "metadata": {},
   "outputs": [],
   "source": []
  },
  {
   "cell_type": "code",
   "execution_count": null,
   "metadata": {},
   "outputs": [],
   "source": []
  },
  {
   "cell_type": "markdown",
   "metadata": {},
   "source": [
    "# GCN"
   ]
  },
  {
   "cell_type": "code",
   "execution_count": 14,
   "metadata": {},
   "outputs": [
    {
     "data": {
      "text/plain": [
       "<torch._C.Generator at 0x7f09e2e24510>"
      ]
     },
     "execution_count": 14,
     "metadata": {},
     "output_type": "execute_result"
    }
   ],
   "source": [
    "import time\n",
    "\n",
    "import networkx as nx\n",
    "from sklearn.linear_model import LogisticRegression\n",
    "\n",
    "import torch\n",
    "import torch.nn as nn\n",
    "import torch.nn.functional as F\n",
    "\n",
    "import dgl.function as fn\n",
    "from dgl import DGLGraph\n",
    "from dgl.data.citation_graph import load_cora\n",
    "\n",
    "np.random.seed(0)\n",
    "torch.manual_seed(1)"
   ]
  },
  {
   "cell_type": "code",
   "execution_count": 15,
   "metadata": {},
   "outputs": [],
   "source": [
    "class LaplacianPolynomial(nn.Module):\n",
    "    def __init__(self,\n",
    "                 in_feats: int,\n",
    "                 out_feats: int,\n",
    "                 k: int,\n",
    "                 dropout_prob: float,\n",
    "                 norm=True):\n",
    "        super().__init__()\n",
    "        self._in_feats = in_feats\n",
    "        self._out_feats = out_feats\n",
    "        self._k = k\n",
    "        self._norm = norm\n",
    "        # Contains the weights learned by the Laplacian polynomial\n",
    "        self.pol_weights = nn.Parameter(torch.Tensor(self._k + 1))\n",
    "        # Contains the weights learned by the logistic regression (without bias)\n",
    "        self.logr_weights = nn.Parameter(torch.Tensor(in_feats, out_feats))\n",
    "        self.dropout = nn.Dropout(p=dropout_prob)\n",
    "        self.reset_parameters()\n",
    "\n",
    "    def reset_parameters(self):\n",
    "        \"\"\"Reinitialize learnable parameters.\"\"\"\n",
    "        torch.manual_seed(0)\n",
    "        torch.nn.init.xavier_uniform_(self.logr_weights, gain=0.01)\n",
    "        torch.nn.init.normal_(self.pol_weights, mean=0.0, std=1e-3)\n",
    "\n",
    "    def forward(self, graph, feat):\n",
    "        r\"\"\"Compute graph convolution.\n",
    "\n",
    "        Notes\n",
    "        -----\n",
    "        * Input shape: :math:`(N, *, \\text{in_feats})` where * means any number of additional\n",
    "          dimensions, :math:`N` is the number of nodes.\n",
    "        * Output shape: :math:`(N, *, \\text{out_feats})` where all but the last dimension are\n",
    "          the same shape as the input.\n",
    "\n",
    "        Parameters\n",
    "        ----------\n",
    "        graph (DGLGraph) : The graph.\n",
    "        feat (torch.Tensor): The input feature\n",
    "\n",
    "        Returns\n",
    "        -------\n",
    "        (torch.Tensor) The output feature\n",
    "        \"\"\"\n",
    "        feat = self.dropout(feat)\n",
    "        graph = graph.local_var()\n",
    "        \n",
    "        # D^(-1/2)\n",
    "        norm = torch.pow(graph.in_degrees().float().clamp(min=1), -0.5)\n",
    "        shp = norm.shape + (1,) * (feat.dim() - 1)\n",
    "        norm = torch.reshape(norm, shp)\n",
    "\n",
    "        # mult W first to reduce the feature size for aggregation.\n",
    "        feat = torch.matmul(feat, self.logr_weights)\n",
    "\n",
    "        result = self.pol_weights[0] * feat.clone()\n",
    "\n",
    "        for i in range(1, self._k + 1):\n",
    "            old_feat = feat.clone()\n",
    "            if self._norm:\n",
    "                feat = feat * norm\n",
    "            graph.ndata['h'] = feat\n",
    "            # Feat is not modified in place\n",
    "            graph.update_all(fn.copy_src(src='h', out='m'),\n",
    "                             fn.sum(msg='m', out='h'))\n",
    "            if self._norm:\n",
    "                graph.ndata['h'] = graph.ndata['h'] * norm\n",
    "\n",
    "            feat = old_feat - graph.ndata['h']\n",
    "            result += self.pol_weights[i] * feat\n",
    "\n",
    "        return result\n",
    "\n",
    "    def extra_repr(self):\n",
    "        \"\"\"Set the extra representation of the module,\n",
    "        which will come into effect when printing the model.\n",
    "        \"\"\"\n",
    "        summary = 'in={_in_feats}, out={_out_feats}'\n",
    "        summary += ', normalization={_norm}'\n",
    "        return summary.format(**self.__dict__)"
   ]
  },
  {
   "cell_type": "code",
   "execution_count": 16,
   "metadata": {},
   "outputs": [],
   "source": [
    "def train(model, g, features, labels, loss_fcn, train_mask, optimizer):\n",
    "    model.train()  # Activate dropout\n",
    "    \n",
    "    logits = model(g, features)\n",
    "    loss = loss_fcn(logits[train_mask], labels[train_mask])\n",
    "\n",
    "    optimizer.zero_grad()\n",
    "    loss.backward()\n",
    "    optimizer.step()\n",
    "    return loss\n",
    "\n",
    "def evaluate(model, g, features, labels, mask):\n",
    "    model.eval()  # Deactivate dropout\n",
    "    with torch.no_grad():\n",
    "        logits = model(g, features)[mask]  # only compute the evaluation set\n",
    "        labels = labels[mask]\n",
    "        _, indices = torch.max(logits, dim=1)\n",
    "        correct = torch.sum(indices == labels)\n",
    "        return correct.item() * 1.0 / len(labels)"
   ]
  },
  {
   "cell_type": "code",
   "execution_count": 101,
   "metadata": {},
   "outputs": [
    {
     "name": "stdout",
     "output_type": "stream",
     "text": [
      "0.6675252605174868\n"
     ]
    },
    {
     "data": {
      "image/png": "[encoded data removed]",
      "text/plain": [
       "<Figure size 432x288 with 1 Axes>"
      ]
     },
     "metadata": {
      "needs_background": "light"
     },
     "output_type": "display_data"
    }
   ],
   "source": [
    "X_for = df_merged_for.drop(columns=['combined_fips', 'per_dem', 'per_gop', 'winner'])\n",
    "nodes_for = df_merged_for.drop(columns=['n1', 'n2', 'agi', 'per_dem', 'per_gop']).values\n",
    "X_for['agi'] = (X_for['agi'] - X_for['agi'].mean()) / X_for['agi'].std()\n",
    "X_for['prop_ret/exempt'] = X_for['n1'] / X_for['n2']\n",
    "X_for = X_for.drop(columns=['n1', 'n2'])\n",
    "adjacency_RGB_for = epsilon_similarity_graph(X_for, sigma=0.6675252605174871*0.1, epsilon=0.5)\n",
    "\n",
    "# prepare A and x(signal)\n",
    "A_for = adjacency_RGB_for.copy()\n",
    "rows_to_be_deleted_for = np.where(np.sum(adjacency_RGB_for,1) == 0)\n",
    "A_for = np.delete(A_for, rows_to_be_deleted_for,0)\n",
    "A_for = np.delete(A_for, rows_to_be_deleted_for,1)\n",
    "y_for = df_merged_for[\"winner\"]\n",
    "y_for = np.delete(np.array(y_for), rows_to_be_deleted_for,0) \n",
    "\n",
    "X_for = X_for.values\n",
    "X_for = np.delete(np.array(X_for), rows_to_be_deleted_for,0) \n",
    "\n",
    "# compute lamb and U\n",
    "laplacian_for = compute_laplacian(A_for, normalize=True)\n",
    "lamb_for, U_for = spectral_decomposition(laplacian_for)"
   ]
  },
  {
   "cell_type": "code",
   "execution_count": 102,
   "metadata": {},
   "outputs": [],
   "source": [
    "# Some basic settings\n",
    "features = torch.FloatTensor(X_for) # Feature vector for node\n",
    "labels = torch.LongTensor(y_for) \n",
    "\n",
    "in_feats = features.shape[1]  # 2\n",
    "n_classes = 2\n",
    "n_edges = int(A_for.sum() // 2)\n",
    "#print(in_feats,n_classes,n_edges)"
   ]
  },
  {
   "cell_type": "code",
   "execution_count": 142,
   "metadata": {},
   "outputs": [],
   "source": [
    "# prepare for masking\n",
    "n_points = X_for.shape[0]\n",
    "indices = np.arange(n_points)\n",
    "np.random.shuffle(indices)\n",
    "split_t = int(n_points*0.1)\n",
    "split_v = int(n_points*0.3)\n",
    "test_idx = indices[:split_t]\n",
    "val_idx = indices[split_t:split_v]\n",
    "train_idx = indices[split_v:]\n",
    "\n",
    "train_mask = np.zeros(n_points)\n",
    "train_mask[train_idx] = 1\n",
    "val_mask = np.zeros(n_points)\n",
    "val_mask[val_idx] = 1\n",
    "test_mask = np.zeros(n_points)\n",
    "test_mask[test_idx] = 1"
   ]
  },
  {
   "cell_type": "code",
   "execution_count": 131,
   "metadata": {},
   "outputs": [],
   "source": [
    "graph = nx.from_numpy_matrix(A_for)\n",
    "adjacency = np.asarray(nx.to_numpy_matrix(graph))\n",
    "n_nodes = adjacency.shape[0]\n",
    "lam_max = np.max(lamb_for)\n",
    "\n",
    "pol_order = 3\n",
    "lr = 0.2\n",
    "weight_decay = 5e-6\n",
    "n_epochs = 500\n",
    "p_dropout = 0.8"
   ]
  },
  {
   "cell_type": "code",
   "execution_count": 143,
   "metadata": {},
   "outputs": [
    {
     "name": "stderr",
     "output_type": "stream",
     "text": [
      "/home/xzou/anaconda3/envs/ntds_2019/lib/python3.7/site-packages/numpy/core/fromnumeric.py:2920: RuntimeWarning: Mean of empty slice.\n",
      "  out=out, **kwargs)\n",
      "/home/xzou/anaconda3/envs/ntds_2019/lib/python3.7/site-packages/numpy/core/_methods.py:85: RuntimeWarning: invalid value encountered in double_scalars\n",
      "  ret = ret.dtype.type(ret / rcount)\n"
     ]
    },
    {
     "name": "stdout",
     "output_type": "stream",
     "text": [
      "Epoch 00000 | Time(s) nan | Train Loss 0.6931 | Val Accuracy 0.7986\n",
      "Epoch 00001 | Time(s) nan | Train Loss 0.6380 | Val Accuracy 0.2014\n",
      "Epoch 00002 | Time(s) nan | Train Loss 0.5184 | Val Accuracy 0.2014\n",
      "Epoch 00003 | Time(s) 0.0150 | Train Loss 2.4698 | Val Accuracy 0.2014\n",
      "Epoch 00004 | Time(s) 0.0099 | Train Loss 1.7695 | Val Accuracy 1.0000\n",
      "Epoch 00005 | Time(s) 0.0093 | Train Loss 0.5967 | Val Accuracy 1.0000\n",
      "Epoch 00006 | Time(s) 0.0090 | Train Loss 0.6448 | Val Accuracy 0.2014\n",
      "Epoch 00007 | Time(s) 0.0082 | Train Loss 0.6697 | Val Accuracy 0.2014\n",
      "Epoch 00008 | Time(s) 0.0076 | Train Loss 0.6848 | Val Accuracy 0.0000\n",
      "Epoch 00009 | Time(s) 0.0072 | Train Loss 0.7308 | Val Accuracy 0.0000\n",
      "Epoch 00010 | Time(s) 0.0068 | Train Loss 0.8089 | Val Accuracy 0.0000\n",
      "Epoch 00011 | Time(s) 0.0066 | Train Loss 0.6772 | Val Accuracy 0.0000\n",
      "Epoch 00012 | Time(s) 0.0064 | Train Loss 0.6966 | Val Accuracy 0.0000\n",
      "Epoch 00013 | Time(s) 0.0062 | Train Loss 0.6501 | Val Accuracy 0.7986\n",
      "Epoch 00014 | Time(s) 0.0061 | Train Loss 0.7598 | Val Accuracy 0.7986\n",
      "Epoch 00015 | Time(s) 0.0060 | Train Loss 0.6538 | Val Accuracy 0.7986\n",
      "Epoch 00016 | Time(s) 0.0059 | Train Loss 0.4608 | Val Accuracy 0.7986\n",
      "Epoch 00017 | Time(s) 0.0061 | Train Loss 0.5618 | Val Accuracy 0.7986\n",
      "Epoch 00018 | Time(s) 0.0060 | Train Loss 1.5470 | Val Accuracy 0.7986\n",
      "Epoch 00019 | Time(s) 0.0059 | Train Loss 0.7158 | Val Accuracy 0.7986\n",
      "Epoch 00020 | Time(s) 0.0058 | Train Loss 0.4000 | Val Accuracy 0.7986\n",
      "Epoch 00021 | Time(s) 0.0058 | Train Loss 0.7402 | Val Accuracy 0.7986\n",
      "Epoch 00022 | Time(s) 0.0057 | Train Loss 1.0317 | Val Accuracy 0.7986\n",
      "Epoch 00023 | Time(s) 0.0057 | Train Loss 0.7235 | Val Accuracy 1.0000\n",
      "Epoch 00024 | Time(s) 0.0057 | Train Loss 0.7874 | Val Accuracy 1.0000\n",
      "Epoch 00025 | Time(s) 0.0061 | Train Loss 0.8153 | Val Accuracy 1.0000\n",
      "Epoch 00026 | Time(s) 0.0061 | Train Loss 0.7990 | Val Accuracy 1.0000\n",
      "Epoch 00027 | Time(s) 0.0063 | Train Loss 0.6213 | Val Accuracy 1.0000\n",
      "Epoch 00028 | Time(s) 0.0063 | Train Loss 0.7623 | Val Accuracy 1.0000\n",
      "Epoch 00029 | Time(s) 0.0062 | Train Loss 0.8540 | Val Accuracy 1.0000\n",
      "Epoch 00030 | Time(s) 0.0062 | Train Loss 0.7016 | Val Accuracy 1.0000\n",
      "Epoch 00031 | Time(s) 0.0062 | Train Loss 0.8232 | Val Accuracy 1.0000\n",
      "Epoch 00032 | Time(s) 0.0062 | Train Loss 0.6244 | Val Accuracy 1.0000\n",
      "Epoch 00033 | Time(s) 0.0062 | Train Loss 0.6203 | Val Accuracy 1.0000\n",
      "Epoch 00034 | Time(s) 0.0062 | Train Loss 0.7218 | Val Accuracy 1.0000\n",
      "Epoch 00035 | Time(s) 0.0063 | Train Loss 0.6063 | Val Accuracy 1.0000\n",
      "Epoch 00036 | Time(s) 0.0062 | Train Loss 0.7426 | Val Accuracy 1.0000\n",
      "Epoch 00037 | Time(s) 0.0062 | Train Loss 0.5921 | Val Accuracy 1.0000\n",
      "Epoch 00038 | Time(s) 0.0061 | Train Loss 0.6742 | Val Accuracy 1.0000\n",
      "Epoch 00039 | Time(s) 0.0061 | Train Loss 0.5097 | Val Accuracy 1.0000\n",
      "Epoch 00040 | Time(s) 0.0062 | Train Loss 0.6112 | Val Accuracy 1.0000\n",
      "Epoch 00041 | Time(s) 0.0061 | Train Loss 0.5684 | Val Accuracy 1.0000\n",
      "Epoch 00042 | Time(s) 0.0062 | Train Loss 0.4618 | Val Accuracy 1.0000\n",
      "Epoch 00043 | Time(s) 0.0063 | Train Loss 0.5941 | Val Accuracy 1.0000\n",
      "Epoch 00044 | Time(s) 0.0063 | Train Loss 0.4030 | Val Accuracy 1.0000\n",
      "Epoch 00045 | Time(s) 0.0063 | Train Loss 0.3220 | Val Accuracy 1.0000\n",
      "Epoch 00046 | Time(s) 0.0063 | Train Loss 0.4895 | Val Accuracy 1.0000\n",
      "Epoch 00047 | Time(s) 0.0063 | Train Loss 0.6020 | Val Accuracy 1.0000\n",
      "Epoch 00048 | Time(s) 0.0063 | Train Loss 0.3400 | Val Accuracy 1.0000\n",
      "Epoch 00049 | Time(s) 0.0063 | Train Loss 0.2724 | Val Accuracy 1.0000\n",
      "Epoch 00050 | Time(s) 0.0062 | Train Loss 0.5049 | Val Accuracy 1.0000\n",
      "Epoch 00051 | Time(s) 0.0062 | Train Loss 0.3534 | Val Accuracy 1.0000\n",
      "Epoch 00052 | Time(s) 0.0062 | Train Loss 0.4725 | Val Accuracy 1.0000\n",
      "Epoch 00053 | Time(s) 0.0062 | Train Loss 0.3097 | Val Accuracy 1.0000\n",
      "Epoch 00054 | Time(s) 0.0061 | Train Loss 0.1329 | Val Accuracy 1.0000\n",
      "Epoch 00055 | Time(s) 0.0061 | Train Loss 0.1025 | Val Accuracy 1.0000\n",
      "Epoch 00056 | Time(s) 0.0061 | Train Loss 0.3617 | Val Accuracy 1.0000\n",
      "Epoch 00057 | Time(s) 0.0061 | Train Loss 0.2281 | Val Accuracy 1.0000\n",
      "Epoch 00058 | Time(s) 0.0061 | Train Loss 0.1537 | Val Accuracy 1.0000\n",
      "Epoch 00059 | Time(s) 0.0061 | Train Loss 0.0686 | Val Accuracy 1.0000\n",
      "Epoch 00060 | Time(s) 0.0061 | Train Loss 0.5308 | Val Accuracy 1.0000\n",
      "Epoch 00061 | Time(s) 0.0061 | Train Loss 0.1532 | Val Accuracy 1.0000\n",
      "Epoch 00062 | Time(s) 0.0061 | Train Loss 0.0568 | Val Accuracy 1.0000\n",
      "Epoch 00063 | Time(s) 0.0061 | Train Loss 0.2608 | Val Accuracy 1.0000\n",
      "Epoch 00064 | Time(s) 0.0060 | Train Loss 0.0345 | Val Accuracy 1.0000\n",
      "Epoch 00065 | Time(s) 0.0060 | Train Loss 0.1316 | Val Accuracy 1.0000\n",
      "Epoch 00066 | Time(s) 0.0060 | Train Loss 0.3470 | Val Accuracy 1.0000\n",
      "Epoch 00067 | Time(s) 0.0060 | Train Loss 0.1855 | Val Accuracy 1.0000\n",
      "Epoch 00068 | Time(s) 0.0060 | Train Loss 0.0560 | Val Accuracy 1.0000\n",
      "Epoch 00069 | Time(s) 0.0061 | Train Loss 0.0339 | Val Accuracy 1.0000\n",
      "Epoch 00070 | Time(s) 0.0061 | Train Loss 0.0626 | Val Accuracy 1.0000\n",
      "Epoch 00071 | Time(s) 0.0061 | Train Loss 0.0597 | Val Accuracy 1.0000\n",
      "Epoch 00072 | Time(s) 0.0061 | Train Loss 0.0326 | Val Accuracy 1.0000\n",
      "Epoch 00073 | Time(s) 0.0061 | Train Loss 0.0330 | Val Accuracy 1.0000\n",
      "Epoch 00074 | Time(s) 0.0060 | Train Loss 0.1762 | Val Accuracy 1.0000\n",
      "Epoch 00075 | Time(s) 0.0060 | Train Loss 0.0762 | Val Accuracy 1.0000\n",
      "Epoch 00076 | Time(s) 0.0060 | Train Loss 0.1014 | Val Accuracy 1.0000\n",
      "Epoch 00077 | Time(s) 0.0060 | Train Loss 0.0321 | Val Accuracy 1.0000\n",
      "Epoch 00078 | Time(s) 0.0060 | Train Loss 0.0184 | Val Accuracy 1.0000\n",
      "Epoch 00079 | Time(s) 0.0060 | Train Loss 0.4180 | Val Accuracy 1.0000\n",
      "Epoch 00080 | Time(s) 0.0060 | Train Loss 0.2650 | Val Accuracy 1.0000\n",
      "Epoch 00081 | Time(s) 0.0060 | Train Loss 0.1621 | Val Accuracy 1.0000\n",
      "Epoch 00082 | Time(s) 0.0060 | Train Loss 0.0153 | Val Accuracy 1.0000\n",
      "Epoch 00083 | Time(s) 0.0060 | Train Loss 0.0352 | Val Accuracy 1.0000\n",
      "Epoch 00084 | Time(s) 0.0060 | Train Loss 0.0422 | Val Accuracy 1.0000\n",
      "Epoch 00085 | Time(s) 0.0060 | Train Loss 0.0034 | Val Accuracy 1.0000\n",
      "Epoch 00086 | Time(s) 0.0060 | Train Loss 0.0129 | Val Accuracy 1.0000\n",
      "Epoch 00087 | Time(s) 0.0060 | Train Loss 0.0036 | Val Accuracy 1.0000\n",
      "Epoch 00088 | Time(s) 0.0059 | Train Loss 0.0071 | Val Accuracy 1.0000\n",
      "Epoch 00089 | Time(s) 0.0059 | Train Loss 0.0013 | Val Accuracy 1.0000\n",
      "Epoch 00090 | Time(s) 0.0059 | Train Loss 0.0472 | Val Accuracy 1.0000\n",
      "Epoch 00091 | Time(s) 0.0059 | Train Loss 0.0019 | Val Accuracy 1.0000\n",
      "Epoch 00092 | Time(s) 0.0059 | Train Loss 0.0539 | Val Accuracy 1.0000\n",
      "Epoch 00093 | Time(s) 0.0059 | Train Loss 0.0000 | Val Accuracy 1.0000\n",
      "Epoch 00094 | Time(s) 0.0060 | Train Loss 0.0463 | Val Accuracy 1.0000\n",
      "Epoch 00095 | Time(s) 0.0060 | Train Loss 0.0009 | Val Accuracy 1.0000\n",
      "Epoch 00096 | Time(s) 0.0059 | Train Loss 0.0254 | Val Accuracy 1.0000\n",
      "Epoch 00097 | Time(s) 0.0059 | Train Loss 0.0009 | Val Accuracy 1.0000\n",
      "Epoch 00098 | Time(s) 0.0059 | Train Loss 0.0004 | Val Accuracy 1.0000\n",
      "Epoch 00099 | Time(s) 0.0060 | Train Loss 0.0051 | Val Accuracy 1.0000\n",
      "Epoch 00100 | Time(s) 0.0060 | Train Loss 0.0010 | Val Accuracy 1.0000\n",
      "Epoch 00101 | Time(s) 0.0060 | Train Loss 0.0006 | Val Accuracy 1.0000\n",
      "Epoch 00102 | Time(s) 0.0060 | Train Loss 0.0006 | Val Accuracy 1.0000\n",
      "Epoch 00103 | Time(s) 0.0060 | Train Loss 0.3947 | Val Accuracy 1.0000\n",
      "Epoch 00104 | Time(s) 0.0060 | Train Loss 0.0101 | Val Accuracy 1.0000\n",
      "Epoch 00105 | Time(s) 0.0060 | Train Loss 0.0000 | Val Accuracy 1.0000\n",
      "Epoch 00106 | Time(s) 0.0060 | Train Loss 0.0470 | Val Accuracy 1.0000\n",
      "Epoch 00107 | Time(s) 0.0060 | Train Loss 0.0000 | Val Accuracy 1.0000\n",
      "Epoch 00108 | Time(s) 0.0060 | Train Loss 0.0093 | Val Accuracy 1.0000\n",
      "Epoch 00109 | Time(s) 0.0063 | Train Loss 0.0010 | Val Accuracy 1.0000\n",
      "Epoch 00110 | Time(s) 0.0063 | Train Loss 0.0049 | Val Accuracy 1.0000\n",
      "Epoch 00111 | Time(s) 0.0064 | Train Loss 1.1994 | Val Accuracy 1.0000\n",
      "Epoch 00112 | Time(s) 0.0064 | Train Loss 0.0018 | Val Accuracy 1.0000\n",
      "Epoch 00113 | Time(s) 0.0064 | Train Loss 0.0000 | Val Accuracy 1.0000\n",
      "Epoch 00114 | Time(s) 0.0064 | Train Loss 0.0067 | Val Accuracy 1.0000\n",
      "Epoch 00115 | Time(s) 0.0065 | Train Loss 0.0000 | Val Accuracy 1.0000\n",
      "Epoch 00116 | Time(s) 0.0065 | Train Loss 0.0007 | Val Accuracy 1.0000\n",
      "Epoch 00117 | Time(s) 0.0065 | Train Loss 0.0005 | Val Accuracy 1.0000\n",
      "Epoch 00118 | Time(s) 0.0065 | Train Loss 0.0000 | Val Accuracy 1.0000\n",
      "Epoch 00119 | Time(s) 0.0065 | Train Loss 0.0004 | Val Accuracy 1.0000\n",
      "Epoch 00120 | Time(s) 0.0065 | Train Loss 0.0082 | Val Accuracy 1.0000\n",
      "Epoch 00121 | Time(s) 0.0065 | Train Loss 0.0010 | Val Accuracy 1.0000\n",
      "Epoch 00122 | Time(s) 0.0065 | Train Loss 0.0000 | Val Accuracy 1.0000\n",
      "Epoch 00123 | Time(s) 0.0065 | Train Loss 0.0316 | Val Accuracy 1.0000\n"
     ]
    },
    {
     "name": "stdout",
     "output_type": "stream",
     "text": [
      "Epoch 00124 | Time(s) 0.0065 | Train Loss 0.0054 | Val Accuracy 1.0000\n",
      "Epoch 00125 | Time(s) 0.0065 | Train Loss 0.0003 | Val Accuracy 1.0000\n",
      "Epoch 00126 | Time(s) 0.0065 | Train Loss 0.0002 | Val Accuracy 1.0000\n",
      "Epoch 00127 | Time(s) 0.0064 | Train Loss 0.1655 | Val Accuracy 1.0000\n",
      "Epoch 00128 | Time(s) 0.0064 | Train Loss 0.0029 | Val Accuracy 1.0000\n",
      "Epoch 00129 | Time(s) 0.0064 | Train Loss 0.0000 | Val Accuracy 1.0000\n",
      "Epoch 00130 | Time(s) 0.0064 | Train Loss 0.0182 | Val Accuracy 1.0000\n",
      "Epoch 00131 | Time(s) 0.0064 | Train Loss 0.0006 | Val Accuracy 1.0000\n",
      "Epoch 00132 | Time(s) 0.0064 | Train Loss 0.0377 | Val Accuracy 1.0000\n",
      "Epoch 00133 | Time(s) 0.0065 | Train Loss 0.0000 | Val Accuracy 1.0000\n",
      "Epoch 00134 | Time(s) 0.0064 | Train Loss 0.0001 | Val Accuracy 1.0000\n",
      "Epoch 00135 | Time(s) 0.0065 | Train Loss 0.0116 | Val Accuracy 1.0000\n",
      "Epoch 00136 | Time(s) 0.0064 | Train Loss 0.0010 | Val Accuracy 1.0000\n",
      "Epoch 00137 | Time(s) 0.0064 | Train Loss 0.0008 | Val Accuracy 1.0000\n",
      "Epoch 00138 | Time(s) 0.0064 | Train Loss 0.0209 | Val Accuracy 1.0000\n",
      "Epoch 00139 | Time(s) 0.0064 | Train Loss 0.0025 | Val Accuracy 1.0000\n",
      "Epoch 00140 | Time(s) 0.0064 | Train Loss 0.3086 | Val Accuracy 1.0000\n",
      "Epoch 00141 | Time(s) 0.0064 | Train Loss 0.0008 | Val Accuracy 1.0000\n",
      "Epoch 00142 | Time(s) 0.0064 | Train Loss 0.0002 | Val Accuracy 1.0000\n",
      "Epoch 00143 | Time(s) 0.0064 | Train Loss 0.0012 | Val Accuracy 1.0000\n",
      "Epoch 00144 | Time(s) 0.0063 | Train Loss 0.0010 | Val Accuracy 1.0000\n",
      "Epoch 00145 | Time(s) 0.0063 | Train Loss 0.0000 | Val Accuracy 1.0000\n",
      "Epoch 00146 | Time(s) 0.0063 | Train Loss 0.0398 | Val Accuracy 1.0000\n",
      "Epoch 00147 | Time(s) 0.0063 | Train Loss 0.0030 | Val Accuracy 1.0000\n",
      "Epoch 00148 | Time(s) 0.0063 | Train Loss 0.0001 | Val Accuracy 1.0000\n",
      "Epoch 00149 | Time(s) 0.0063 | Train Loss 0.0136 | Val Accuracy 1.0000\n",
      "Epoch 00150 | Time(s) 0.0063 | Train Loss 0.0065 | Val Accuracy 1.0000\n",
      "Epoch 00151 | Time(s) 0.0063 | Train Loss 0.0002 | Val Accuracy 1.0000\n",
      "Epoch 00152 | Time(s) 0.0063 | Train Loss 0.0008 | Val Accuracy 1.0000\n",
      "Epoch 00153 | Time(s) 0.0063 | Train Loss 0.0559 | Val Accuracy 1.0000\n",
      "Epoch 00154 | Time(s) 0.0063 | Train Loss 0.0004 | Val Accuracy 1.0000\n",
      "Epoch 00155 | Time(s) 0.0063 | Train Loss 0.0000 | Val Accuracy 1.0000\n",
      "Epoch 00156 | Time(s) 0.0063 | Train Loss 0.0006 | Val Accuracy 1.0000\n",
      "Epoch 00157 | Time(s) 0.0062 | Train Loss 0.0000 | Val Accuracy 1.0000\n",
      "Epoch 00158 | Time(s) 0.0062 | Train Loss 0.0115 | Val Accuracy 1.0000\n",
      "Epoch 00159 | Time(s) 0.0062 | Train Loss 0.0000 | Val Accuracy 1.0000\n",
      "Epoch 00160 | Time(s) 0.0062 | Train Loss 0.0003 | Val Accuracy 1.0000\n",
      "Epoch 00161 | Time(s) 0.0062 | Train Loss 0.0533 | Val Accuracy 1.0000\n",
      "Epoch 00162 | Time(s) 0.0062 | Train Loss 0.0001 | Val Accuracy 1.0000\n",
      "Epoch 00163 | Time(s) 0.0062 | Train Loss 0.0017 | Val Accuracy 1.0000\n",
      "Epoch 00164 | Time(s) 0.0062 | Train Loss 0.0003 | Val Accuracy 1.0000\n",
      "Epoch 00165 | Time(s) 0.0062 | Train Loss 0.0000 | Val Accuracy 1.0000\n",
      "Epoch 00166 | Time(s) 0.0062 | Train Loss 0.0003 | Val Accuracy 1.0000\n",
      "Epoch 00167 | Time(s) 0.0062 | Train Loss 0.0075 | Val Accuracy 1.0000\n",
      "Epoch 00168 | Time(s) 0.0062 | Train Loss 0.0027 | Val Accuracy 1.0000\n",
      "Epoch 00169 | Time(s) 0.0062 | Train Loss 0.0009 | Val Accuracy 1.0000\n",
      "Epoch 00170 | Time(s) 0.0062 | Train Loss 0.0002 | Val Accuracy 1.0000\n",
      "Epoch 00171 | Time(s) 0.0062 | Train Loss 0.0005 | Val Accuracy 1.0000\n",
      "Epoch 00172 | Time(s) 0.0061 | Train Loss 0.0009 | Val Accuracy 1.0000\n",
      "Epoch 00173 | Time(s) 0.0061 | Train Loss 0.0040 | Val Accuracy 1.0000\n",
      "Epoch 00174 | Time(s) 0.0061 | Train Loss 0.0226 | Val Accuracy 1.0000\n",
      "Epoch 00175 | Time(s) 0.0061 | Train Loss 0.0001 | Val Accuracy 1.0000\n",
      "Epoch 00176 | Time(s) 0.0061 | Train Loss 0.0000 | Val Accuracy 1.0000\n",
      "Epoch 00177 | Time(s) 0.0062 | Train Loss 0.0003 | Val Accuracy 1.0000\n",
      "Epoch 00178 | Time(s) 0.0062 | Train Loss 0.0022 | Val Accuracy 1.0000\n",
      "Epoch 00179 | Time(s) 0.0062 | Train Loss 0.0161 | Val Accuracy 1.0000\n",
      "Epoch 00180 | Time(s) 0.0063 | Train Loss 0.0000 | Val Accuracy 1.0000\n",
      "Epoch 00181 | Time(s) 0.0063 | Train Loss 0.0016 | Val Accuracy 1.0000\n",
      "Epoch 00182 | Time(s) 0.0063 | Train Loss 0.0003 | Val Accuracy 1.0000\n",
      "Epoch 00183 | Time(s) 0.0063 | Train Loss 0.0076 | Val Accuracy 1.0000\n",
      "Epoch 00184 | Time(s) 0.0063 | Train Loss 0.0001 | Val Accuracy 1.0000\n",
      "Epoch 00185 | Time(s) 0.0063 | Train Loss 0.0059 | Val Accuracy 1.0000\n",
      "Epoch 00186 | Time(s) 0.0063 | Train Loss 0.0254 | Val Accuracy 1.0000\n",
      "Epoch 00187 | Time(s) 0.0064 | Train Loss 0.0001 | Val Accuracy 1.0000\n",
      "Epoch 00188 | Time(s) 0.0064 | Train Loss 0.0002 | Val Accuracy 1.0000\n",
      "Epoch 00189 | Time(s) 0.0064 | Train Loss 0.0000 | Val Accuracy 1.0000\n",
      "Epoch 00190 | Time(s) 0.0064 | Train Loss 0.0001 | Val Accuracy 1.0000\n",
      "Epoch 00191 | Time(s) 0.0064 | Train Loss 0.0003 | Val Accuracy 1.0000\n",
      "Epoch 00192 | Time(s) 0.0065 | Train Loss 0.0008 | Val Accuracy 1.0000\n",
      "Epoch 00193 | Time(s) 0.0065 | Train Loss 0.0000 | Val Accuracy 1.0000\n",
      "Epoch 00194 | Time(s) 0.0065 | Train Loss 0.0001 | Val Accuracy 1.0000\n",
      "Epoch 00195 | Time(s) 0.0065 | Train Loss 0.0008 | Val Accuracy 1.0000\n",
      "Epoch 00196 | Time(s) 0.0065 | Train Loss 0.0003 | Val Accuracy 1.0000\n",
      "Epoch 00197 | Time(s) 0.0065 | Train Loss 0.0002 | Val Accuracy 1.0000\n",
      "Epoch 00198 | Time(s) 0.0066 | Train Loss 0.0253 | Val Accuracy 1.0000\n",
      "Epoch 00199 | Time(s) 0.0066 | Train Loss 0.0000 | Val Accuracy 1.0000\n",
      "Epoch 00200 | Time(s) 0.0066 | Train Loss 0.0000 | Val Accuracy 1.0000\n",
      "Epoch 00201 | Time(s) 0.0066 | Train Loss 0.0001 | Val Accuracy 1.0000\n",
      "Epoch 00202 | Time(s) 0.0066 | Train Loss 0.0011 | Val Accuracy 1.0000\n",
      "Epoch 00203 | Time(s) 0.0066 | Train Loss 0.0001 | Val Accuracy 1.0000\n",
      "Epoch 00204 | Time(s) 0.0066 | Train Loss 0.0000 | Val Accuracy 1.0000\n",
      "Epoch 00205 | Time(s) 0.0066 | Train Loss 0.0003 | Val Accuracy 1.0000\n",
      "Epoch 00206 | Time(s) 0.0066 | Train Loss 0.5817 | Val Accuracy 1.0000\n",
      "Epoch 00207 | Time(s) 0.0066 | Train Loss 0.0110 | Val Accuracy 1.0000\n",
      "Epoch 00208 | Time(s) 0.0066 | Train Loss 0.0112 | Val Accuracy 1.0000\n",
      "Epoch 00209 | Time(s) 0.0067 | Train Loss 0.0002 | Val Accuracy 1.0000\n",
      "Epoch 00210 | Time(s) 0.0067 | Train Loss 0.0022 | Val Accuracy 1.0000\n",
      "Epoch 00211 | Time(s) 0.0067 | Train Loss 0.0015 | Val Accuracy 1.0000\n",
      "Epoch 00212 | Time(s) 0.0067 | Train Loss 0.0000 | Val Accuracy 1.0000\n",
      "Epoch 00213 | Time(s) 0.0067 | Train Loss 0.0993 | Val Accuracy 1.0000\n",
      "Epoch 00214 | Time(s) 0.0067 | Train Loss 0.0001 | Val Accuracy 1.0000\n",
      "Epoch 00215 | Time(s) 0.0067 | Train Loss 0.0521 | Val Accuracy 1.0000\n",
      "Epoch 00216 | Time(s) 0.0067 | Train Loss 0.0020 | Val Accuracy 1.0000\n",
      "Epoch 00217 | Time(s) 0.0067 | Train Loss 0.0005 | Val Accuracy 1.0000\n",
      "Epoch 00218 | Time(s) 0.0067 | Train Loss 0.0000 | Val Accuracy 1.0000\n",
      "Epoch 00219 | Time(s) 0.0067 | Train Loss 0.0003 | Val Accuracy 1.0000\n",
      "Epoch 00220 | Time(s) 0.0067 | Train Loss 0.0059 | Val Accuracy 1.0000\n",
      "Epoch 00221 | Time(s) 0.0067 | Train Loss 0.0002 | Val Accuracy 1.0000\n",
      "Epoch 00222 | Time(s) 0.0067 | Train Loss 0.0821 | Val Accuracy 1.0000\n",
      "Epoch 00223 | Time(s) 0.0067 | Train Loss 0.0248 | Val Accuracy 1.0000\n",
      "Epoch 00224 | Time(s) 0.0068 | Train Loss 0.0008 | Val Accuracy 1.0000\n",
      "Epoch 00225 | Time(s) 0.0068 | Train Loss 0.0001 | Val Accuracy 1.0000\n",
      "Epoch 00226 | Time(s) 0.0068 | Train Loss 0.0116 | Val Accuracy 1.0000\n",
      "Epoch 00227 | Time(s) 0.0068 | Train Loss 0.0000 | Val Accuracy 1.0000\n",
      "Epoch 00228 | Time(s) 0.0068 | Train Loss 0.0003 | Val Accuracy 1.0000\n",
      "Epoch 00229 | Time(s) 0.0068 | Train Loss 0.0280 | Val Accuracy 1.0000\n",
      "Epoch 00230 | Time(s) 0.0069 | Train Loss 0.0639 | Val Accuracy 1.0000\n",
      "Epoch 00231 | Time(s) 0.0069 | Train Loss 0.0050 | Val Accuracy 1.0000\n",
      "Epoch 00232 | Time(s) 0.0069 | Train Loss 0.0017 | Val Accuracy 1.0000\n",
      "Epoch 00233 | Time(s) 0.0069 | Train Loss 0.0005 | Val Accuracy 1.0000\n",
      "Epoch 00234 | Time(s) 0.0069 | Train Loss 0.0003 | Val Accuracy 1.0000\n",
      "Epoch 00235 | Time(s) 0.0069 | Train Loss 0.0027 | Val Accuracy 1.0000\n",
      "Epoch 00236 | Time(s) 0.0069 | Train Loss 0.0028 | Val Accuracy 1.0000\n",
      "Epoch 00237 | Time(s) 0.0069 | Train Loss 0.0031 | Val Accuracy 1.0000\n",
      "Epoch 00238 | Time(s) 0.0069 | Train Loss 0.0035 | Val Accuracy 1.0000\n",
      "Epoch 00239 | Time(s) 0.0069 | Train Loss 0.0000 | Val Accuracy 1.0000\n",
      "Epoch 00240 | Time(s) 0.0069 | Train Loss 0.0187 | Val Accuracy 1.0000\n",
      "Epoch 00241 | Time(s) 0.0069 | Train Loss 0.0003 | Val Accuracy 1.0000\n",
      "Epoch 00242 | Time(s) 0.0069 | Train Loss 0.0006 | Val Accuracy 1.0000\n",
      "Epoch 00243 | Time(s) 0.0069 | Train Loss 0.0000 | Val Accuracy 1.0000\n",
      "Epoch 00244 | Time(s) 0.0069 | Train Loss 0.0270 | Val Accuracy 1.0000\n",
      "Epoch 00245 | Time(s) 0.0069 | Train Loss 0.0484 | Val Accuracy 1.0000\n",
      "Epoch 00246 | Time(s) 0.0069 | Train Loss 0.0004 | Val Accuracy 1.0000\n",
      "Epoch 00247 | Time(s) 0.0069 | Train Loss 0.4978 | Val Accuracy 1.0000\n",
      "Epoch 00248 | Time(s) 0.0069 | Train Loss 0.0098 | Val Accuracy 1.0000\n",
      "Epoch 00249 | Time(s) 0.0069 | Train Loss 0.0000 | Val Accuracy 1.0000\n",
      "Epoch 00250 | Time(s) 0.0069 | Train Loss 0.0003 | Val Accuracy 1.0000\n",
      "Epoch 00251 | Time(s) 0.0069 | Train Loss 0.0001 | Val Accuracy 1.0000\n",
      "Epoch 00252 | Time(s) 0.0068 | Train Loss 0.0047 | Val Accuracy 1.0000\n",
      "Epoch 00253 | Time(s) 0.0068 | Train Loss 0.0030 | Val Accuracy 1.0000\n",
      "Epoch 00254 | Time(s) 0.0068 | Train Loss 0.0000 | Val Accuracy 1.0000\n",
      "Epoch 00255 | Time(s) 0.0068 | Train Loss 0.0000 | Val Accuracy 1.0000\n"
     ]
    },
    {
     "name": "stdout",
     "output_type": "stream",
     "text": [
      "Epoch 00256 | Time(s) 0.0068 | Train Loss 0.0005 | Val Accuracy 1.0000\n",
      "Epoch 00257 | Time(s) 0.0068 | Train Loss 0.0001 | Val Accuracy 1.0000\n",
      "Epoch 00258 | Time(s) 0.0068 | Train Loss 0.0008 | Val Accuracy 1.0000\n",
      "Epoch 00259 | Time(s) 0.0068 | Train Loss 0.0005 | Val Accuracy 1.0000\n",
      "Epoch 00260 | Time(s) 0.0068 | Train Loss 0.0000 | Val Accuracy 1.0000\n",
      "Epoch 00261 | Time(s) 0.0068 | Train Loss 0.0000 | Val Accuracy 1.0000\n",
      "Epoch 00262 | Time(s) 0.0068 | Train Loss 0.0003 | Val Accuracy 1.0000\n",
      "Epoch 00263 | Time(s) 0.0068 | Train Loss 0.0005 | Val Accuracy 1.0000\n",
      "Epoch 00264 | Time(s) 0.0068 | Train Loss 0.0000 | Val Accuracy 1.0000\n",
      "Epoch 00265 | Time(s) 0.0068 | Train Loss 0.0001 | Val Accuracy 1.0000\n",
      "Epoch 00266 | Time(s) 0.0068 | Train Loss 0.0000 | Val Accuracy 1.0000\n",
      "Epoch 00267 | Time(s) 0.0068 | Train Loss 0.0051 | Val Accuracy 1.0000\n",
      "Epoch 00268 | Time(s) 0.0068 | Train Loss 0.0000 | Val Accuracy 1.0000\n",
      "Epoch 00269 | Time(s) 0.0068 | Train Loss 0.0000 | Val Accuracy 1.0000\n",
      "Epoch 00270 | Time(s) 0.0067 | Train Loss 0.0000 | Val Accuracy 1.0000\n",
      "Epoch 00271 | Time(s) 0.0067 | Train Loss 0.0006 | Val Accuracy 1.0000\n",
      "Epoch 00272 | Time(s) 0.0067 | Train Loss 0.0844 | Val Accuracy 1.0000\n",
      "Epoch 00273 | Time(s) 0.0067 | Train Loss 0.0002 | Val Accuracy 1.0000\n",
      "Epoch 00274 | Time(s) 0.0067 | Train Loss 0.0002 | Val Accuracy 1.0000\n",
      "Epoch 00275 | Time(s) 0.0067 | Train Loss 0.0034 | Val Accuracy 1.0000\n",
      "Epoch 00276 | Time(s) 0.0067 | Train Loss 0.0003 | Val Accuracy 1.0000\n",
      "Epoch 00277 | Time(s) 0.0067 | Train Loss 0.0362 | Val Accuracy 1.0000\n",
      "Epoch 00278 | Time(s) 0.0067 | Train Loss 0.0001 | Val Accuracy 1.0000\n",
      "Epoch 00279 | Time(s) 0.0067 | Train Loss 0.0068 | Val Accuracy 1.0000\n",
      "Epoch 00280 | Time(s) 0.0067 | Train Loss 0.0001 | Val Accuracy 1.0000\n",
      "Epoch 00281 | Time(s) 0.0067 | Train Loss 0.0001 | Val Accuracy 1.0000\n",
      "Epoch 00282 | Time(s) 0.0067 | Train Loss 0.0000 | Val Accuracy 1.0000\n",
      "Epoch 00283 | Time(s) 0.0067 | Train Loss 0.0001 | Val Accuracy 1.0000\n",
      "Epoch 00284 | Time(s) 0.0067 | Train Loss 0.0012 | Val Accuracy 1.0000\n",
      "Epoch 00285 | Time(s) 0.0067 | Train Loss 0.0001 | Val Accuracy 1.0000\n",
      "Epoch 00286 | Time(s) 0.0067 | Train Loss 0.0000 | Val Accuracy 1.0000\n",
      "Epoch 00287 | Time(s) 0.0066 | Train Loss 0.0024 | Val Accuracy 1.0000\n",
      "Epoch 00288 | Time(s) 0.0066 | Train Loss 0.0000 | Val Accuracy 1.0000\n",
      "Epoch 00289 | Time(s) 0.0066 | Train Loss 0.0005 | Val Accuracy 1.0000\n",
      "Epoch 00290 | Time(s) 0.0066 | Train Loss 0.0000 | Val Accuracy 1.0000\n",
      "Epoch 00291 | Time(s) 0.0066 | Train Loss 0.1193 | Val Accuracy 1.0000\n",
      "Epoch 00292 | Time(s) 0.0066 | Train Loss 0.0017 | Val Accuracy 1.0000\n",
      "Epoch 00293 | Time(s) 0.0066 | Train Loss 0.0000 | Val Accuracy 1.0000\n",
      "Epoch 00294 | Time(s) 0.0066 | Train Loss 0.0002 | Val Accuracy 1.0000\n",
      "Epoch 00295 | Time(s) 0.0066 | Train Loss 0.0917 | Val Accuracy 1.0000\n",
      "Epoch 00296 | Time(s) 0.0066 | Train Loss 0.0012 | Val Accuracy 1.0000\n",
      "Epoch 00297 | Time(s) 0.0066 | Train Loss 0.0000 | Val Accuracy 1.0000\n",
      "Epoch 00298 | Time(s) 0.0066 | Train Loss 0.0000 | Val Accuracy 1.0000\n",
      "Epoch 00299 | Time(s) 0.0066 | Train Loss 0.0128 | Val Accuracy 1.0000\n",
      "Epoch 00300 | Time(s) 0.0066 | Train Loss 0.0012 | Val Accuracy 1.0000\n",
      "Epoch 00301 | Time(s) 0.0066 | Train Loss 0.0012 | Val Accuracy 1.0000\n",
      "Epoch 00302 | Time(s) 0.0065 | Train Loss 0.0001 | Val Accuracy 1.0000\n",
      "Epoch 00303 | Time(s) 0.0065 | Train Loss 0.0105 | Val Accuracy 1.0000\n",
      "Epoch 00304 | Time(s) 0.0065 | Train Loss 0.0000 | Val Accuracy 1.0000\n",
      "Epoch 00305 | Time(s) 0.0065 | Train Loss 0.0018 | Val Accuracy 1.0000\n",
      "Epoch 00306 | Time(s) 0.0065 | Train Loss 0.0018 | Val Accuracy 1.0000\n",
      "Epoch 00307 | Time(s) 0.0065 | Train Loss 0.0011 | Val Accuracy 1.0000\n",
      "Epoch 00308 | Time(s) 0.0065 | Train Loss 0.0005 | Val Accuracy 1.0000\n",
      "Epoch 00309 | Time(s) 0.0065 | Train Loss 0.0003 | Val Accuracy 1.0000\n",
      "Epoch 00310 | Time(s) 0.0065 | Train Loss 0.0026 | Val Accuracy 1.0000\n",
      "Epoch 00311 | Time(s) 0.0065 | Train Loss 0.0000 | Val Accuracy 1.0000\n",
      "Epoch 00312 | Time(s) 0.0065 | Train Loss 0.0001 | Val Accuracy 1.0000\n",
      "Epoch 00313 | Time(s) 0.0065 | Train Loss 0.0000 | Val Accuracy 1.0000\n",
      "Epoch 00314 | Time(s) 0.0065 | Train Loss 0.0049 | Val Accuracy 1.0000\n",
      "Epoch 00315 | Time(s) 0.0065 | Train Loss 0.0028 | Val Accuracy 1.0000\n",
      "Epoch 00316 | Time(s) 0.0065 | Train Loss 0.0159 | Val Accuracy 1.0000\n",
      "Epoch 00317 | Time(s) 0.0065 | Train Loss 0.0000 | Val Accuracy 1.0000\n",
      "Epoch 00318 | Time(s) 0.0065 | Train Loss 0.0002 | Val Accuracy 1.0000\n",
      "Epoch 00319 | Time(s) 0.0065 | Train Loss 0.0000 | Val Accuracy 1.0000\n",
      "Epoch 00320 | Time(s) 0.0065 | Train Loss 0.0482 | Val Accuracy 1.0000\n",
      "Epoch 00321 | Time(s) 0.0066 | Train Loss 0.0001 | Val Accuracy 1.0000\n",
      "Epoch 00322 | Time(s) 0.0065 | Train Loss 0.0001 | Val Accuracy 1.0000\n",
      "Epoch 00323 | Time(s) 0.0065 | Train Loss 0.0000 | Val Accuracy 1.0000\n",
      "Epoch 00324 | Time(s) 0.0065 | Train Loss 0.0001 | Val Accuracy 1.0000\n",
      "Epoch 00325 | Time(s) 0.0065 | Train Loss 0.0000 | Val Accuracy 1.0000\n",
      "Epoch 00326 | Time(s) 0.0065 | Train Loss 0.0008 | Val Accuracy 1.0000\n",
      "Epoch 00327 | Time(s) 0.0065 | Train Loss 0.0000 | Val Accuracy 1.0000\n",
      "Epoch 00328 | Time(s) 0.0065 | Train Loss 0.0000 | Val Accuracy 1.0000\n",
      "Epoch 00329 | Time(s) 0.0065 | Train Loss 0.0014 | Val Accuracy 1.0000\n",
      "Epoch 00330 | Time(s) 0.0065 | Train Loss 0.0019 | Val Accuracy 1.0000\n",
      "Epoch 00331 | Time(s) 0.0065 | Train Loss 0.0104 | Val Accuracy 1.0000\n",
      "Epoch 00332 | Time(s) 0.0065 | Train Loss 0.0037 | Val Accuracy 1.0000\n",
      "Epoch 00333 | Time(s) 0.0065 | Train Loss 0.0000 | Val Accuracy 1.0000\n",
      "Epoch 00334 | Time(s) 0.0065 | Train Loss 0.0004 | Val Accuracy 1.0000\n",
      "Epoch 00335 | Time(s) 0.0065 | Train Loss 0.0182 | Val Accuracy 1.0000\n",
      "Epoch 00336 | Time(s) 0.0065 | Train Loss 0.0000 | Val Accuracy 1.0000\n",
      "Epoch 00337 | Time(s) 0.0065 | Train Loss 0.0001 | Val Accuracy 1.0000\n",
      "Epoch 00338 | Time(s) 0.0065 | Train Loss 0.0000 | Val Accuracy 1.0000\n",
      "Epoch 00339 | Time(s) 0.0065 | Train Loss 0.0000 | Val Accuracy 1.0000\n",
      "Epoch 00340 | Time(s) 0.0065 | Train Loss 0.0001 | Val Accuracy 1.0000\n",
      "Epoch 00341 | Time(s) 0.0065 | Train Loss 0.0048 | Val Accuracy 1.0000\n",
      "Epoch 00342 | Time(s) 0.0065 | Train Loss 0.0000 | Val Accuracy 1.0000\n",
      "Epoch 00343 | Time(s) 0.0064 | Train Loss 0.0001 | Val Accuracy 1.0000\n",
      "Epoch 00344 | Time(s) 0.0064 | Train Loss 0.0001 | Val Accuracy 1.0000\n",
      "Epoch 00345 | Time(s) 0.0064 | Train Loss 0.0001 | Val Accuracy 1.0000\n",
      "Epoch 00346 | Time(s) 0.0064 | Train Loss 0.0051 | Val Accuracy 1.0000\n",
      "Epoch 00347 | Time(s) 0.0064 | Train Loss 0.0006 | Val Accuracy 1.0000\n",
      "Epoch 00348 | Time(s) 0.0064 | Train Loss 0.0547 | Val Accuracy 1.0000\n",
      "Epoch 00349 | Time(s) 0.0064 | Train Loss 0.0014 | Val Accuracy 1.0000\n",
      "Epoch 00350 | Time(s) 0.0064 | Train Loss 0.0000 | Val Accuracy 1.0000\n",
      "Epoch 00351 | Time(s) 0.0064 | Train Loss 0.0000 | Val Accuracy 1.0000\n",
      "Epoch 00352 | Time(s) 0.0064 | Train Loss 0.0007 | Val Accuracy 1.0000\n",
      "Epoch 00353 | Time(s) 0.0064 | Train Loss 0.0009 | Val Accuracy 1.0000\n",
      "Epoch 00354 | Time(s) 0.0064 | Train Loss 0.0002 | Val Accuracy 1.0000\n",
      "Epoch 00355 | Time(s) 0.0064 | Train Loss 0.0000 | Val Accuracy 1.0000\n",
      "Epoch 00356 | Time(s) 0.0064 | Train Loss 0.0002 | Val Accuracy 1.0000\n",
      "Epoch 00357 | Time(s) 0.0064 | Train Loss 0.0000 | Val Accuracy 1.0000\n",
      "Epoch 00358 | Time(s) 0.0064 | Train Loss 0.0000 | Val Accuracy 1.0000\n",
      "Epoch 00359 | Time(s) 0.0064 | Train Loss 0.0000 | Val Accuracy 1.0000\n",
      "Epoch 00360 | Time(s) 0.0064 | Train Loss 0.0002 | Val Accuracy 1.0000\n",
      "Epoch 00361 | Time(s) 0.0064 | Train Loss 0.0006 | Val Accuracy 1.0000\n",
      "Epoch 00362 | Time(s) 0.0064 | Train Loss 0.0000 | Val Accuracy 1.0000\n",
      "Epoch 00363 | Time(s) 0.0064 | Train Loss 0.0000 | Val Accuracy 1.0000\n",
      "Epoch 00364 | Time(s) 0.0064 | Train Loss 0.0004 | Val Accuracy 1.0000\n",
      "Epoch 00365 | Time(s) 0.0064 | Train Loss 0.0000 | Val Accuracy 1.0000\n",
      "Epoch 00366 | Time(s) 0.0064 | Train Loss 0.0000 | Val Accuracy 1.0000\n",
      "Epoch 00367 | Time(s) 0.0064 | Train Loss 0.0598 | Val Accuracy 1.0000\n",
      "Epoch 00368 | Time(s) 0.0064 | Train Loss 0.0046 | Val Accuracy 1.0000\n",
      "Epoch 00369 | Time(s) 0.0064 | Train Loss 0.0000 | Val Accuracy 1.0000\n",
      "Epoch 00370 | Time(s) 0.0064 | Train Loss 0.0001 | Val Accuracy 1.0000\n",
      "Epoch 00371 | Time(s) 0.0064 | Train Loss 0.0000 | Val Accuracy 1.0000\n",
      "Epoch 00372 | Time(s) 0.0064 | Train Loss 0.0018 | Val Accuracy 1.0000\n",
      "Epoch 00373 | Time(s) 0.0063 | Train Loss 0.0000 | Val Accuracy 1.0000\n",
      "Epoch 00374 | Time(s) 0.0063 | Train Loss 0.0000 | Val Accuracy 1.0000\n"
     ]
    },
    {
     "name": "stdout",
     "output_type": "stream",
     "text": [
      "Epoch 00375 | Time(s) 0.0063 | Train Loss 0.0002 | Val Accuracy 1.0000\n",
      "Epoch 00376 | Time(s) 0.0063 | Train Loss 0.0001 | Val Accuracy 1.0000\n",
      "Epoch 00377 | Time(s) 0.0063 | Train Loss 0.0000 | Val Accuracy 1.0000\n",
      "Epoch 00378 | Time(s) 0.0063 | Train Loss 0.0001 | Val Accuracy 1.0000\n",
      "Epoch 00379 | Time(s) 0.0063 | Train Loss 0.0002 | Val Accuracy 1.0000\n",
      "Epoch 00380 | Time(s) 0.0063 | Train Loss 0.0036 | Val Accuracy 1.0000\n",
      "Epoch 00381 | Time(s) 0.0063 | Train Loss 0.0001 | Val Accuracy 1.0000\n",
      "Epoch 00382 | Time(s) 0.0063 | Train Loss 0.0004 | Val Accuracy 1.0000\n",
      "Epoch 00383 | Time(s) 0.0063 | Train Loss 0.0006 | Val Accuracy 1.0000\n",
      "Epoch 00384 | Time(s) 0.0063 | Train Loss 0.0005 | Val Accuracy 1.0000\n",
      "Epoch 00385 | Time(s) 0.0063 | Train Loss 0.0008 | Val Accuracy 1.0000\n",
      "Epoch 00386 | Time(s) 0.0063 | Train Loss 0.0004 | Val Accuracy 1.0000\n",
      "Epoch 00387 | Time(s) 0.0063 | Train Loss 0.0000 | Val Accuracy 1.0000\n",
      "Epoch 00388 | Time(s) 0.0063 | Train Loss 0.0012 | Val Accuracy 1.0000\n",
      "Epoch 00389 | Time(s) 0.0063 | Train Loss 0.0046 | Val Accuracy 1.0000\n",
      "Epoch 00390 | Time(s) 0.0063 | Train Loss 0.0006 | Val Accuracy 1.0000\n",
      "Epoch 00391 | Time(s) 0.0063 | Train Loss 0.0007 | Val Accuracy 1.0000\n",
      "Epoch 00392 | Time(s) 0.0063 | Train Loss 0.0000 | Val Accuracy 1.0000\n",
      "Epoch 00393 | Time(s) 0.0063 | Train Loss 0.0009 | Val Accuracy 1.0000\n",
      "Epoch 00394 | Time(s) 0.0063 | Train Loss 0.0392 | Val Accuracy 1.0000\n",
      "Epoch 00395 | Time(s) 0.0063 | Train Loss 0.0040 | Val Accuracy 1.0000\n",
      "Epoch 00396 | Time(s) 0.0063 | Train Loss 0.0002 | Val Accuracy 1.0000\n",
      "Epoch 00397 | Time(s) 0.0063 | Train Loss 0.0000 | Val Accuracy 1.0000\n",
      "Epoch 00398 | Time(s) 0.0063 | Train Loss 0.0002 | Val Accuracy 1.0000\n",
      "Epoch 00399 | Time(s) 0.0063 | Train Loss 0.0433 | Val Accuracy 1.0000\n",
      "Epoch 00400 | Time(s) 0.0063 | Train Loss 0.0003 | Val Accuracy 1.0000\n",
      "Epoch 00401 | Time(s) 0.0063 | Train Loss 0.0000 | Val Accuracy 1.0000\n",
      "Epoch 00402 | Time(s) 0.0063 | Train Loss 0.0000 | Val Accuracy 1.0000\n",
      "Epoch 00403 | Time(s) 0.0063 | Train Loss 0.0038 | Val Accuracy 1.0000\n",
      "Epoch 00404 | Time(s) 0.0063 | Train Loss 0.0012 | Val Accuracy 1.0000\n",
      "Epoch 00405 | Time(s) 0.0063 | Train Loss 0.0091 | Val Accuracy 1.0000\n",
      "Epoch 00406 | Time(s) 0.0063 | Train Loss 0.0028 | Val Accuracy 1.0000\n",
      "Epoch 00407 | Time(s) 0.0063 | Train Loss 0.0424 | Val Accuracy 1.0000\n",
      "Epoch 00408 | Time(s) 0.0063 | Train Loss 0.0034 | Val Accuracy 1.0000\n",
      "Epoch 00409 | Time(s) 0.0063 | Train Loss 0.0004 | Val Accuracy 1.0000\n",
      "Epoch 00410 | Time(s) 0.0063 | Train Loss 0.0004 | Val Accuracy 1.0000\n",
      "Epoch 00411 | Time(s) 0.0063 | Train Loss 0.0039 | Val Accuracy 1.0000\n",
      "Epoch 00412 | Time(s) 0.0063 | Train Loss 0.0040 | Val Accuracy 1.0000\n",
      "Epoch 00413 | Time(s) 0.0063 | Train Loss 0.0126 | Val Accuracy 1.0000\n",
      "Epoch 00414 | Time(s) 0.0063 | Train Loss 0.0071 | Val Accuracy 1.0000\n",
      "Epoch 00415 | Time(s) 0.0063 | Train Loss 0.0010 | Val Accuracy 1.0000\n",
      "Epoch 00416 | Time(s) 0.0063 | Train Loss 0.0005 | Val Accuracy 1.0000\n",
      "Epoch 00417 | Time(s) 0.0063 | Train Loss 0.0002 | Val Accuracy 1.0000\n",
      "Epoch 00418 | Time(s) 0.0063 | Train Loss 0.0070 | Val Accuracy 1.0000\n",
      "Epoch 00419 | Time(s) 0.0063 | Train Loss 0.0018 | Val Accuracy 1.0000\n",
      "Epoch 00420 | Time(s) 0.0063 | Train Loss 0.0043 | Val Accuracy 1.0000\n",
      "Epoch 00421 | Time(s) 0.0063 | Train Loss 0.0015 | Val Accuracy 1.0000\n",
      "Epoch 00422 | Time(s) 0.0063 | Train Loss 0.0005 | Val Accuracy 1.0000\n",
      "Epoch 00423 | Time(s) 0.0063 | Train Loss 0.0083 | Val Accuracy 1.0000\n",
      "Epoch 00424 | Time(s) 0.0063 | Train Loss 0.3984 | Val Accuracy 1.0000\n",
      "Epoch 00425 | Time(s) 0.0063 | Train Loss 0.0013 | Val Accuracy 1.0000\n",
      "Epoch 00426 | Time(s) 0.0063 | Train Loss 0.0014 | Val Accuracy 1.0000\n",
      "Epoch 00427 | Time(s) 0.0063 | Train Loss 0.0034 | Val Accuracy 1.0000\n",
      "Epoch 00428 | Time(s) 0.0063 | Train Loss 0.0053 | Val Accuracy 1.0000\n",
      "Epoch 00429 | Time(s) 0.0062 | Train Loss 0.0014 | Val Accuracy 1.0000\n",
      "Epoch 00430 | Time(s) 0.0062 | Train Loss 0.0004 | Val Accuracy 1.0000\n",
      "Epoch 00431 | Time(s) 0.0062 | Train Loss 0.0052 | Val Accuracy 1.0000\n",
      "Epoch 00432 | Time(s) 0.0062 | Train Loss 0.0004 | Val Accuracy 1.0000\n",
      "Epoch 00433 | Time(s) 0.0062 | Train Loss 0.0005 | Val Accuracy 1.0000\n",
      "Epoch 00434 | Time(s) 0.0062 | Train Loss 0.0025 | Val Accuracy 1.0000\n",
      "Epoch 00435 | Time(s) 0.0062 | Train Loss 0.0013 | Val Accuracy 1.0000\n",
      "Epoch 00436 | Time(s) 0.0062 | Train Loss 0.0144 | Val Accuracy 1.0000\n",
      "Epoch 00437 | Time(s) 0.0062 | Train Loss 0.0000 | Val Accuracy 1.0000\n",
      "Epoch 00438 | Time(s) 0.0062 | Train Loss 0.0043 | Val Accuracy 1.0000\n",
      "Epoch 00439 | Time(s) 0.0062 | Train Loss 0.0006 | Val Accuracy 1.0000\n",
      "Epoch 00440 | Time(s) 0.0062 | Train Loss 0.0008 | Val Accuracy 1.0000\n",
      "Epoch 00441 | Time(s) 0.0062 | Train Loss 0.0000 | Val Accuracy 1.0000\n",
      "Epoch 00442 | Time(s) 0.0062 | Train Loss 0.0002 | Val Accuracy 1.0000\n",
      "Epoch 00443 | Time(s) 0.0062 | Train Loss 0.0006 | Val Accuracy 1.0000\n",
      "Epoch 00444 | Time(s) 0.0062 | Train Loss 0.0010 | Val Accuracy 1.0000\n",
      "Epoch 00445 | Time(s) 0.0062 | Train Loss 0.0000 | Val Accuracy 1.0000\n",
      "Epoch 00446 | Time(s) 0.0062 | Train Loss 0.0000 | Val Accuracy 1.0000\n",
      "Epoch 00447 | Time(s) 0.0062 | Train Loss 0.0012 | Val Accuracy 1.0000\n",
      "Epoch 00448 | Time(s) 0.0062 | Train Loss 0.0007 | Val Accuracy 1.0000\n",
      "Epoch 00449 | Time(s) 0.0062 | Train Loss 0.0002 | Val Accuracy 1.0000\n",
      "Epoch 00450 | Time(s) 0.0062 | Train Loss 0.0007 | Val Accuracy 1.0000\n",
      "Epoch 00451 | Time(s) 0.0062 | Train Loss 0.0016 | Val Accuracy 1.0000\n",
      "Epoch 00452 | Time(s) 0.0062 | Train Loss 0.0002 | Val Accuracy 1.0000\n",
      "Epoch 00453 | Time(s) 0.0062 | Train Loss 0.0002 | Val Accuracy 1.0000\n",
      "Epoch 00454 | Time(s) 0.0062 | Train Loss 0.0001 | Val Accuracy 1.0000\n",
      "Epoch 00455 | Time(s) 0.0062 | Train Loss 0.0052 | Val Accuracy 1.0000\n",
      "Epoch 00456 | Time(s) 0.0062 | Train Loss 0.0015 | Val Accuracy 1.0000\n",
      "Epoch 00457 | Time(s) 0.0062 | Train Loss 0.0007 | Val Accuracy 1.0000\n",
      "Epoch 00458 | Time(s) 0.0062 | Train Loss 0.0000 | Val Accuracy 1.0000\n",
      "Epoch 00459 | Time(s) 0.0062 | Train Loss 0.0008 | Val Accuracy 1.0000\n",
      "Epoch 00460 | Time(s) 0.0062 | Train Loss 0.0004 | Val Accuracy 1.0000\n",
      "Epoch 00461 | Time(s) 0.0062 | Train Loss 0.0031 | Val Accuracy 1.0000\n",
      "Epoch 00462 | Time(s) 0.0062 | Train Loss 0.0043 | Val Accuracy 1.0000\n",
      "Epoch 00463 | Time(s) 0.0062 | Train Loss 0.0001 | Val Accuracy 1.0000\n",
      "Epoch 00464 | Time(s) 0.0062 | Train Loss 0.0006 | Val Accuracy 1.0000\n",
      "Epoch 00465 | Time(s) 0.0062 | Train Loss 0.0001 | Val Accuracy 1.0000\n",
      "Epoch 00466 | Time(s) 0.0062 | Train Loss 0.0027 | Val Accuracy 1.0000\n",
      "Epoch 00467 | Time(s) 0.0062 | Train Loss 0.0004 | Val Accuracy 1.0000\n",
      "Epoch 00468 | Time(s) 0.0062 | Train Loss 0.0000 | Val Accuracy 1.0000\n",
      "Epoch 00469 | Time(s) 0.0062 | Train Loss 0.0001 | Val Accuracy 1.0000\n",
      "Epoch 00470 | Time(s) 0.0062 | Train Loss 0.0002 | Val Accuracy 1.0000\n",
      "Epoch 00471 | Time(s) 0.0061 | Train Loss 0.0001 | Val Accuracy 1.0000\n",
      "Epoch 00472 | Time(s) 0.0061 | Train Loss 0.0000 | Val Accuracy 1.0000\n",
      "Epoch 00473 | Time(s) 0.0061 | Train Loss 0.0000 | Val Accuracy 1.0000\n",
      "Epoch 00474 | Time(s) 0.0061 | Train Loss 0.0083 | Val Accuracy 1.0000\n",
      "Epoch 00475 | Time(s) 0.0062 | Train Loss 0.0004 | Val Accuracy 1.0000\n",
      "Epoch 00476 | Time(s) 0.0062 | Train Loss 0.0176 | Val Accuracy 1.0000\n",
      "Epoch 00477 | Time(s) 0.0062 | Train Loss 0.0027 | Val Accuracy 1.0000\n",
      "Epoch 00478 | Time(s) 0.0062 | Train Loss 0.0000 | Val Accuracy 1.0000\n",
      "Epoch 00479 | Time(s) 0.0062 | Train Loss 0.0002 | Val Accuracy 1.0000\n",
      "Epoch 00480 | Time(s) 0.0061 | Train Loss 0.0081 | Val Accuracy 1.0000\n",
      "Epoch 00481 | Time(s) 0.0061 | Train Loss 0.0001 | Val Accuracy 1.0000\n",
      "Epoch 00482 | Time(s) 0.0061 | Train Loss 0.0000 | Val Accuracy 1.0000\n",
      "Epoch 00483 | Time(s) 0.0061 | Train Loss 0.0041 | Val Accuracy 1.0000\n",
      "Epoch 00484 | Time(s) 0.0061 | Train Loss 0.0000 | Val Accuracy 1.0000\n",
      "Epoch 00485 | Time(s) 0.0061 | Train Loss 0.0013 | Val Accuracy 1.0000\n",
      "Epoch 00486 | Time(s) 0.0061 | Train Loss 0.0000 | Val Accuracy 1.0000\n",
      "Epoch 00487 | Time(s) 0.0061 | Train Loss 0.0000 | Val Accuracy 1.0000\n",
      "Epoch 00488 | Time(s) 0.0061 | Train Loss 0.0001 | Val Accuracy 1.0000\n",
      "Epoch 00489 | Time(s) 0.0061 | Train Loss 0.0001 | Val Accuracy 1.0000\n",
      "Epoch 00490 | Time(s) 0.0061 | Train Loss 0.0011 | Val Accuracy 1.0000\n",
      "Epoch 00491 | Time(s) 0.0061 | Train Loss 0.0000 | Val Accuracy 1.0000\n",
      "Epoch 00492 | Time(s) 0.0061 | Train Loss 0.0000 | Val Accuracy 1.0000\n",
      "Epoch 00493 | Time(s) 0.0061 | Train Loss 0.1126 | Val Accuracy 1.0000\n",
      "Epoch 00494 | Time(s) 0.0061 | Train Loss 0.0050 | Val Accuracy 1.0000\n",
      "Epoch 00495 | Time(s) 0.0061 | Train Loss 0.0061 | Val Accuracy 1.0000\n",
      "Epoch 00496 | Time(s) 0.0061 | Train Loss 0.0000 | Val Accuracy 1.0000\n",
      "Epoch 00497 | Time(s) 0.0061 | Train Loss 0.0002 | Val Accuracy 1.0000\n"
     ]
    },
    {
     "name": "stdout",
     "output_type": "stream",
     "text": [
      "Epoch 00498 | Time(s) 0.0061 | Train Loss 0.0004 | Val Accuracy 1.0000\n",
      "Epoch 00499 | Time(s) 0.0061 | Train Loss 0.0001 | Val Accuracy 1.0000\n",
      "\n",
      "Test Accuracy 1.0000\n"
     ]
    }
   ],
   "source": [
    "graph = DGLGraph(graph)\n",
    "model = LaplacianPolynomial(in_feats, n_classes, pol_order, p_dropout)\n",
    "\n",
    "loss_fcn = torch.nn.CrossEntropyLoss()\n",
    "optimizer = torch.optim.Adam(model.parameters(),\n",
    "                             lr=lr,\n",
    "                             weight_decay=weight_decay)\n",
    "\n",
    "dur = []\n",
    "for epoch in range(n_epochs):\n",
    "    if epoch >= 3:\n",
    "        t0 = time.time()\n",
    "    loss = train(model, graph, features, labels, loss_fcn, train_mask, optimizer)\n",
    "\n",
    "    if epoch >= 3:\n",
    "        dur.append(time.time() - t0)\n",
    "\n",
    "    acc = evaluate(model, graph, features, labels, val_mask)\n",
    "    print(\"Epoch {:05d} | Time(s) {:.4f} | Train Loss {:.4f} | Val Accuracy {:.4f}\". format(\n",
    "            epoch, np.mean(dur), loss.item(), acc))\n",
    "\n",
    "print()\n",
    "acc = evaluate(model, graph, features, labels, test_mask)\n",
    "print(\"Test Accuracy {:.4f}\".format(acc))"
   ]
  },
  {
   "cell_type": "code",
   "execution_count": 144,
   "metadata": {},
   "outputs": [
    {
     "name": "stdout",
     "output_type": "stream",
     "text": [
      "[-4.71316    3.9751382  0.871704  -1.0368031]\n"
     ]
    }
   ],
   "source": [
    "coeff_gcn =  model.pol_weights.detach().numpy()\n",
    "print(coeff_gcn)"
   ]
  },
  {
   "cell_type": "code",
   "execution_count": 134,
   "metadata": {},
   "outputs": [],
   "source": [
    "def polynomial_graph_filter_response(coeff: np.array, lam: np.ndarray):\n",
    "    \"\"\" Return an array of the same shape as lam.\n",
    "        response[i] is the spectral response at frequency lam[i]. \"\"\"\n",
    "    # Your code here\n",
    "    res = np.zeros((len(coeff),len(lam)))\n",
    "    for i in range(len(coeff)):\n",
    "        res[i] = coeff[i] * (lam**i)\n",
    "    res = np.sum(res,axis =0)\n",
    "    return res"
   ]
  },
  {
   "cell_type": "code",
   "execution_count": 145,
   "metadata": {},
   "outputs": [
    {
     "data": {
      "text/plain": [
       "Text(0, 0.5, 'Spectral response (db)')"
      ]
     },
     "execution_count": 145,
     "metadata": {},
     "output_type": "execute_result"
    },
    {
     "data": {
      "image/png": "[encoded data removed]",
      "text/plain": [
       "<Figure size 432x288 with 1 Axes>"
      ]
     },
     "metadata": {
      "needs_background": "light"
     },
     "output_type": "display_data"
    }
   ],
   "source": [
    "plt.semilogy(lamb_for, np.abs(polynomial_graph_filter_response(coeff_gcn, lamb_for)))\n",
    "plt.xlabel('$\\lambda$')\n",
    "plt.ylabel('Spectral response (db)') # ------------"
   ]
  },
  {
   "cell_type": "code",
   "execution_count": 136,
   "metadata": {},
   "outputs": [],
   "source": [
    "def polynomial_graph_filter(coeff: np.array, laplacian: np.ndarray):\n",
    "    \"\"\" Return the laplacian polynomial with coefficients 'coeff'. \"\"\"\n",
    "    # Your code here\n",
    "    res = np.zeros_like(laplacian)\n",
    "    for i in range (len(coeff)):\n",
    "        res += coeff[i] * np.linalg.matrix_power(laplacian, i)\n",
    "    return res"
   ]
  },
  {
   "cell_type": "code",
   "execution_count": 137,
   "metadata": {},
   "outputs": [],
   "source": [
    "graph_gcn_filter = polynomial_graph_filter(coeff_gcn, laplacian_for)"
   ]
  },
  {
   "cell_type": "code",
   "execution_count": 138,
   "metadata": {},
   "outputs": [
    {
     "data": {
      "text/plain": [
       "437"
      ]
     },
     "execution_count": 138,
     "metadata": {},
     "output_type": "execute_result"
    }
   ],
   "source": [
    "len(graph_gcn_filter)"
   ]
  },
  {
   "cell_type": "code",
   "execution_count": 146,
   "metadata": {},
   "outputs": [],
   "source": [
    "features_gcn = graph_gcn_filter @ features.numpy()\n",
    "\n",
    "train_mask = torch.BoolTensor(train_mask) \n",
    "val_mask = torch.BoolTensor(val_mask)  \n",
    "test_mask = torch.BoolTensor(test_mask)\n",
    "\n",
    "train_features_gcn = features_gcn[train_mask,:]\n",
    "train_labels = labels[train_mask]\n",
    "val_features_gcn = features_gcn[val_mask,:]\n",
    "val_labels = labels[val_mask]\n",
    "test_features_gcn = features_gcn[test_mask,:]\n",
    "test_labels = labels[test_mask]"
   ]
  },
  {
   "cell_type": "code",
   "execution_count": 140,
   "metadata": {},
   "outputs": [
    {
     "data": {
      "text/plain": [
       "LogisticRegression(C=1000, class_weight=None, dual=False, fit_intercept=True,\n",
       "                   intercept_scaling=1, l1_ratio=None, max_iter=2000,\n",
       "                   multi_class='auto', n_jobs=None, penalty='l2',\n",
       "                   random_state=None, solver='liblinear', tol=0.0001, verbose=0,\n",
       "                   warm_start=False)"
      ]
     },
     "execution_count": 140,
     "metadata": {},
     "output_type": "execute_result"
    }
   ],
   "source": [
    "model3 =  LogisticRegression(C=1000,penalty = 'l2',solver='liblinear', multi_class='auto',max_iter = 2000)\n",
    "model3.fit(train_features_gcn, train_labels)"
   ]
  },
  {
   "cell_type": "code",
   "execution_count": 165,
   "metadata": {},
   "outputs": [
    {
     "name": "stdout",
     "output_type": "stream",
     "text": [
      "Train accuracy 0.6863 | Validation accuracy 0.7955 | Test accuracy 0.7907\n"
     ]
    }
   ],
   "source": [
    "train_acc = model3.score(train_features_gcn,train_labels)\n",
    "val_acc =  model3.score(val_features_gcn,val_labels)\n",
    "test_acc =  model3.score(test_features_gcn,test_labels)  \n",
    "\n",
    "print('Train accuracy {:.4f} | Validation accuracy {:.4f} | Test accuracy {:.4f}'.format(train_acc, val_acc, test_acc))"
   ]
  },
  {
   "cell_type": "code",
   "execution_count": null,
   "metadata": {},
   "outputs": [],
   "source": []
  },
  {
   "cell_type": "code",
   "execution_count": null,
   "metadata": {},
   "outputs": [],
   "source": []
  },
  {
   "cell_type": "code",
   "execution_count": null,
   "metadata": {},
   "outputs": [],
   "source": []
  }
 ],
 "metadata": {
  "kernelspec": {
   "display_name": "Python 3",
   "language": "python",
   "name": "python3"
  },
  "language_info": {
   "codemirror_mode": {
    "name": "ipython",
    "version": 3
   },
   "file_extension": ".py",
   "mimetype": "text/x-python",
   "name": "python",
   "nbconvert_exporter": "python",
   "pygments_lexer": "ipython3",
   "version": "3.7.3"
  }
 },
 "nbformat": 4,
 "nbformat_minor": 2
}
