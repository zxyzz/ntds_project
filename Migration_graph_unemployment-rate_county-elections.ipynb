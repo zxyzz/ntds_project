{
 "cells": [
  {
   "cell_type": "code",
   "execution_count": 1,
   "metadata": {},
   "outputs": [],
   "source": [
    "import numpy as np\n",
    "import sys\n",
    "from scipy import sparse\n",
    "from scipy.spatial.distance import pdist, squareform\n",
    "import matplotlib.pyplot as plt\n",
    "from mpl_toolkits.mplot3d import Axes3D\n",
    "import pandas as pd\n",
    "import networkx as nx\n",
    "from sklearn.preprocessing import StandardScaler"
   ]
  },
  {
   "cell_type": "code",
   "execution_count": null,
   "metadata": {},
   "outputs": [],
   "source": []
  },
  {
   "cell_type": "code",
   "execution_count": 30,
   "metadata": {},
   "outputs": [
    {
     "name": "stdout",
     "output_type": "stream",
     "text": [
      "          n1      n2  combined_fips-destination  Unemployment rate\n",
      "10     17914   41255                       1001           0.302760\n",
      "31     69838  151110                       1003           0.316083\n",
      "81      7505   16675                       1005           0.310380\n",
      "98      6227   14522                       1007           0.300111\n",
      "115    17196   41386                       1009           0.293537\n",
      "...      ...     ...                        ...                ...\n",
      "86255  16060   36990                      56037           0.302733\n",
      "86278  10773   21886                      56039           0.329863\n",
      "86294   7195   17699                      56041           0.289025\n",
      "86310   3041    6772                      56043           0.309895\n",
      "86322   2614    5608                      56045           0.317928\n",
      "\n",
      "[3141 rows x 4 columns]\n"
     ]
    }
   ],
   "source": [
    "df_migrations = pd.read_csv(\"Data project_ntds/countyinflow1516.csv\" )\n",
    "\n",
    "\n",
    "# create the combined fips county number of destination\n",
    "df_migrations['statefips_str'] = df_migrations['y2_statefips'].apply(lambda x : str(x).zfill(2))\n",
    "df_migrations['countyfips_str'] = df_migrations['y2_countyfips'].apply(lambda x : str(x).zfill(3))\n",
    "df_migrations['combined_fips-destination'] = df_migrations['statefips_str'].apply(lambda x: x.lstrip('0')) + df_migrations['countyfips_str']\n",
    "\n",
    "# create the combined fips county number of source\n",
    "df_migrations['statefips_str1'] = df_migrations['y1_statefips'].apply(lambda x : str(x).zfill(2))\n",
    "df_migrations['countyfips_str1'] = df_migrations['y1_countyfips'].apply(lambda x : str(x).zfill(3))\n",
    "df_migrations['combined_fips-source'] = df_migrations['statefips_str1'].apply(lambda x: x.lstrip('0')) + df_migrations['countyfips_str1']\n",
    "\n",
    "# Experimenting with parametres(not important)\n",
    "#new_df = df[(df['WindSpeed']>4) & (df['Temperature']>30)]\n",
    "#df_migrations2 = df_migrations[df_migrations['y1_countyname'].str.contains(\"County Total Migration-US and Foreign\")]\n",
    "#df_migrations3 = df_migrations[(df_migrations['y1_statefips']== 96) & (df_migrations['y2_countyfips']!= 0)]\n",
    "\n",
    "#Cleaning the data to have only source and origin counties and unemployment rate as a new column\n",
    "df_migrations = df_migrations[df_migrations['y1_statefips']<=56]\n",
    "df_migrations[\"Unemployment rate\"] = df_migrations[\"n1\"]/(df_migrations[\"n2\"] +df_migrations[\"n1\"] )\n",
    "df_migrations1 = df_migrations[df_migrations['combined_fips-destination'] ==df_migrations['combined_fips-source']]  # keeping Unemployment rate of non migrants\n",
    "  \n",
    "\n",
    "\n",
    " #drop useless information \n",
    "df_migrations = df_migrations.drop(columns=[\"y1_countyname\",\"y2_statefips\", \"y2_countyfips\", \"y1_statefips\", \"y1_countyfips\", \"y1_state\", \"statefips_str\", \"countyfips_str\",\"statefips_str1\", \"countyfips_str1\"])\n",
    "df_migrations1 = df_migrations1.drop(columns=[\"y1_countyname\",\"y2_statefips\", \"y2_countyfips\", \"y1_statefips\", \"y1_countyfips\", \"y1_state\", \"statefips_str\", \"countyfips_str\",\"statefips_str1\", \"countyfips_str1\"])\n",
    "df_migrations1 =df_migrations1.drop(columns=[\"agi\",\"combined_fips-source\"])\n",
    "\n",
    "\n",
    "\n",
    "# remove nodes where data is undefined undefined data by zero\n",
    "df_migrations = df_migrations[df_migrations['n1'] != -1]\n",
    "df_migrations1 = df_migrations1[df_migrations1['n1'] != -1]\n",
    "df_migrations3 = df_migrations3[df_migrations3['n1'] != -1]\n",
    "\n",
    "# convert combined fips to int64\n",
    "df_migrations['combined_fips-destination'] = df_migrations['combined_fips-destination'].astype('int64')\n",
    "df_migrations['combined_fips-source'] = df_migrations['combined_fips-source'].astype('int64')\n",
    "df_migrations1['combined_fips-destination'] = df_migrations1['combined_fips-destination'].astype('int64')\n",
    "\n",
    "print(df_migrations1)\n",
    "df_migrations1= df_migrations1.drop(columns=[\"n1\",\"n2\",\"combined_fips-destination\"])\n",
    "\n",
    "#extracting the combined fips destination and combined fips source for graph in form of numpy arrays\n",
    "df_graph= df_migrations.drop(columns=[\"n1\",\"n2\",\"agi\",\"Unemployment rate\"])\n",
    "\n",
    "arr = df_graph.to_numpy()\n",
    "\n"
   ]
  },
  {
   "cell_type": "code",
   "execution_count": 12,
   "metadata": {},
   "outputs": [
    {
     "name": "stdout",
     "output_type": "stream",
     "text": [
      "       per_dem   per_gop  combined_fips  Winner\n",
      "29    0.239569  0.734358           1001       1\n",
      "30    0.195653  0.773515           1003       1\n",
      "31    0.466603  0.522714           1005       1\n",
      "32    0.214220  0.769662           1007       1\n",
      "33    0.084699  0.898519           1009       1\n",
      "...        ...       ...            ...     ...\n",
      "3136  0.194046  0.729428          56037       1\n",
      "3137  0.600608  0.321945          56039      -1\n",
      "3138  0.149261  0.764187          56041       1\n",
      "3139  0.143203  0.783580          56043       1\n",
      "3140  0.088182  0.869226          56045       1\n",
      "\n",
      "[3141 rows x 4 columns]\n"
     ]
    }
   ],
   "source": [
    "df_presidential_result = pd.read_csv(\"Data project_ntds/2016_US_County_Level_Presidential_Results.csv\" )\n",
    "df_presidential_result = df_presidential_result.drop(columns=[\"Unnamed: 0\",\"votes_dem\", \"votes_gop\", \"total_votes\", \"diff\", \"per_point_diff\", \"state_abbr\", \"county_name\"])\n",
    "\n",
    "#Sorting according to the fips code to be consistent with the migration data by IRS\n",
    "df_presidential_result = df_presidential_result.sort_values(by=['combined_fips'])\n",
    "\n",
    "#Adding a new column of the winners with -1 corresponding to democrat and 1 to republican\n",
    "\n",
    "df_presidential_result[\"Winner\"] =  np.where((df_presidential_result['per_dem'] > df_presidential_result['per_gop'])\n",
    "                     , -1, 1)\n",
    "\n",
    "print(df_presidential_result)\n",
    "df_presidential_result = df_presidential_result.drop(columns=[\"per_dem\",\"per_gop\",\"combined_fips\"])\n"
   ]
  },
  {
   "cell_type": "code",
   "execution_count": 10,
   "metadata": {},
   "outputs": [
    {
     "name": "stdout",
     "output_type": "stream",
     "text": [
      "[ 1001  1003  1005 ... 56041 56043 56045]\n"
     ]
    }
   ],
   "source": [
    "possible_nodes = np.unique(arr)\n",
    "print(possible_nodes)\n",
    "A_migr = np.zeros((len(possible_nodes), len(possible_nodes))) \n",
    "\n",
    "for dest, source in arr : \n",
    "     \n",
    "    i = np.where(possible_nodes == dest)\n",
    "    #print(i)\n",
    "    j = np.where(possible_nodes == source)\n",
    "    #print(j)\n",
    "    A_migr[j[0], i[0]] = 1\n",
    " \n",
    "\n",
    "#Creating a dictionary of attribute of Unemployment rate\n",
    "z = df_migrations1.to_numpy()\n",
    "d = dict(enumerate(z.flatten(), 0))\n",
    "\n",
    "\n",
    "#Creating a dictionary of attribute of county election result\n",
    "z2 = df_presidential_result.to_numpy()\n",
    "d2 = dict(enumerate(z.flatten(), 0))\n"
   ]
  },
  {
   "cell_type": "code",
   "execution_count": 9,
   "metadata": {},
   "outputs": [
    {
     "name": "stdout",
     "output_type": "stream",
     "text": [
      "Number of nodes: 3141, Number of edges: 50030\n",
      "The average clustering coefficient is: 0.47991882266324526\n"
     ]
    }
   ],
   "source": [
    "G_migr = nx.from_numpy_matrix(A_migr,create_using = nx.DiGraph())\n",
    "\n",
    "nx.set_node_attributes(G_migr,d,\"Unemployment rate\")\n",
    "nx.set_node_attributes(G_migr,d2,\"Winner\")\n",
    "print('Number of nodes: {}, Number of edges: {}'. format(G_migr.number_of_nodes(), G_migr.number_of_edges()))\n",
    "\n",
    "#print(' Number of connected components: {}'. format( nx.number_connected_components(G_migr)))\n",
    "nx.write_gexf(G_migr, \"county_graph.gexf\")\n",
    "\n",
    "print(f\"The average clustering coefficient is: {nx.average_clustering(G_migr)}\")\n",
    " \n",
    "#for i in range(3140):\n",
    " #   print (G_migr.nodes[i])\n",
    "#G_migr.nodes[2001]"
   ]
  },
  {
   "cell_type": "code",
   "execution_count": null,
   "metadata": {},
   "outputs": [],
   "source": []
  },
  {
   "cell_type": "code",
   "execution_count": 6,
   "metadata": {},
   "outputs": [
    {
     "data": {
      "image/png": "[encoded data removed]",
      "text/plain": [
       "<Figure size 432x288 with 1 Axes>"
      ]
     },
     "metadata": {
      "needs_background": "light"
     },
     "output_type": "display_data"
    }
   ],
   "source": [
    "migr_citation = A_migr.sum(1)\n",
    "migr_hist_normalization = np.ones(migr_citation.shape[0]) / migr_citation.shape[0]\n",
    "plt.hist(migr_citation,bins = 10);\n",
    "plt.gca().set(title='Degree distribution of migration graph', xlabel='Degree');"
   ]
  },
  {
   "cell_type": "code",
   "execution_count": null,
   "metadata": {},
   "outputs": [],
   "source": []
  },
  {
   "cell_type": "code",
   "execution_count": null,
   "metadata": {},
   "outputs": [],
   "source": []
  }
 ],
 "metadata": {
  "kernelspec": {
   "display_name": "Python 3",
   "language": "python",
   "name": "python3"
  },
  "language_info": {
   "codemirror_mode": {
    "name": "ipython",
    "version": 3
   },
   "file_extension": ".py",
   "mimetype": "text/x-python",
   "name": "python",
   "nbconvert_exporter": "python",
   "pygments_lexer": "ipython3",
   "version": "3.6.9"
  }
 },
 "nbformat": 4,
 "nbformat_minor": 4
}
