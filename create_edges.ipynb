{
 "cells": [
  {
   "cell_type": "code",
   "execution_count": 5,
   "metadata": {},
   "outputs": [],
   "source": [
    "import pandas as pd\n",
    "import numpy as np"
   ]
  },
  {
   "cell_type": "markdown",
   "metadata": {},
   "source": [
    "# I. Load the data, clean it and extract usefull information"
   ]
  },
  {
   "cell_type": "code",
   "execution_count": 21,
   "metadata": {},
   "outputs": [],
   "source": [
    "nodes = pd.read_csv(\"./NTDS_Data/census_and_vote_data.csv\" )\n",
    "migflow2015_county_nodeid_dist = pd.read_csv(\"./NTDS_Data/migflow2015_county_nodeid_dist.csv\")"
   ]
  },
  {
   "cell_type": "code",
   "execution_count": 44,
   "metadata": {},
   "outputs": [],
   "source": [
    "# drop useless columns : ori_county and des_county use FSPE code as indexes, we are using a inhouse indexing\n",
    "mig_flow = migflow2015_county_nodeid_dist.drop(columns=[\"ori_county\", \"des_county\", \"dist_km\"])"
   ]
  },
  {
   "cell_type": "code",
   "execution_count": 50,
   "metadata": {},
   "outputs": [
    {
     "name": "stdout",
     "output_type": "stream",
     "text": [
      "42409\n"
     ]
    }
   ],
   "source": [
    "num_nodes = nodes.values.shape[0]\n",
    "num_flows = mig_flow.shape[0]\n",
    "print(num_flows)"
   ]
  },
  {
   "cell_type": "markdown",
   "metadata": {},
   "source": [
    "# II. Create the Adjency matrix"
   ]
  },
  {
   "cell_type": "code",
   "execution_count": 49,
   "metadata": {},
   "outputs": [],
   "source": [
    "A_total = np.zeros((num_nodes, num_nodes))\n",
    "A_returns = np.zeros((num_nodes, num_nodes))\n",
    "A_exemptions = np.zeros((num_nodes, num_nodes))\n",
    "for i in range (0, num_flows) : \n",
    "    A_total[mig_flow[\"ori_id\"] - 1, mig_flow[\"des_id\"] -1] = mig_flow[\"returns\"] + mig_flow[\"exemptions\"]\n",
    "    A_returns[mig_flow[\"ori_id\"] - 1, mig_flow[\"des_id\"] -1] = mig_flow[\"returns\"]\n",
    "    A_exemptions[mig_flow[\"ori_id\"] - 1, mig_flow[\"des_id\"] -1] = mig_flow[\"exemptions\"]"
   ]
  },
  {
   "cell_type": "code",
   "execution_count": null,
   "metadata": {},
   "outputs": [],
   "source": []
  }
 ],
 "metadata": {
  "kernelspec": {
   "display_name": "Python 3",
   "language": "python",
   "name": "python3"
  },
  "language_info": {
   "codemirror_mode": {
    "name": "ipython",
    "version": 3
   },
   "file_extension": ".py",
   "mimetype": "text/x-python",
   "name": "python",
   "nbconvert_exporter": "python",
   "pygments_lexer": "ipython3",
   "version": "3.7.1"
  }
 },
 "nbformat": 4,
 "nbformat_minor": 2
}
