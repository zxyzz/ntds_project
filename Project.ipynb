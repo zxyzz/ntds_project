{
 "cells": [
  {
   "cell_type": "code",
   "execution_count": 43,
   "metadata": {},
   "outputs": [],
   "source": [
    "import numpy as np\n",
    "import sys\n",
    "from scipy import sparse\n",
    "from scipy.spatial.distance import pdist, squareform\n",
    "import matplotlib.pyplot as plt\n",
    "from mpl_toolkits.mplot3d import Axes3D\n",
    "import pandas as pd\n",
    "import networkx as nx\n",
    "from sklearn.preprocessing import StandardScaler\n",
    "%matplotlib inline"
   ]
  },
  {
   "cell_type": "markdown",
   "metadata": {},
   "source": [
    "# I. First try with Harvard Dataset\n",
    "The data at hand was found on Harvard Dataverse, and is ordered in county orders. Only migrations between county who represented a large threshold were kept. As a result, not all of the 3005 counties in the US are represented. \n",
    "## I.0 Load the data"
   ]
  },
  {
   "cell_type": "markdown",
   "metadata": {},
   "source": [
    "We will import the data and extract useful information such as the number of county, the number of migartion we have at hand. "
   ]
  },
  {
   "cell_type": "code",
   "execution_count": 44,
   "metadata": {},
   "outputs": [],
   "source": [
    "nodes = pd.read_csv(\"./NTDS_Data/census_and_vote_data.csv\" )\n",
    "migflow2015_county_nodeid_dist = pd.read_csv(\"./NTDS_Data/migflow2015_county_nodeid_dist.csv\")"
   ]
  },
  {
   "cell_type": "code",
   "execution_count": 45,
   "metadata": {},
   "outputs": [],
   "source": [
    "# drop useless columns : ori_county and des_county use FSPE code as indexes, we are using a inhouse indexing\n",
    "mig_flow = migflow2015_county_nodeid_dist.drop(columns=[\"ori_county\", \"des_county\", \"dist_km\"])"
   ]
  },
  {
   "cell_type": "code",
   "execution_count": 46,
   "metadata": {},
   "outputs": [],
   "source": [
    "num_nodes = nodes.values.shape[0]\n",
    "num_flows = mig_flow.shape[0]"
   ]
  },
  {
   "cell_type": "markdown",
   "metadata": {},
   "source": [
    "## I.1. Basic properties of the data\n"
   ]
  },
  {
   "cell_type": "markdown",
   "metadata": {},
   "source": [
    "In this section we will explore the data at hand. First we will anaylyse what are the different type of possible migration. \n",
    "The migration data is defined by 3 main features : \n",
    "1. the number of persons migrating and paying taxes (refered as $returns$)\n",
    "2. the number of persons migrating and that are not paying taxes (refered as $exempt$)\n",
    "3. the average salary of people who are migrating (refered as $avg$)  \n",
    "\n",
    "We will start by plotting the histogram of each variables : "
   ]
  },
  {
   "cell_type": "code",
   "execution_count": 47,
   "metadata": {},
   "outputs": [],
   "source": [
    "node_pct = np.zeros((migflow2015_county_nodeid_dist.shape[0], 2))\n",
    "for i in range (0, num_flows) : \n",
    "    total = total = mig_flow[\"returns\"][i] + mig_flow[\"exemptions\"][i]\n",
    "    node_pct[i,0] = mig_flow[\"returns\"][i]/total\n",
    "    node_pct[i,1] = mig_flow[\"exemptions\"][i]/total\n",
    "\n",
    "df_node_pct = pd.DataFrame(node_pct, columns=[\"pct_return\", \"pct_exempt\"])"
   ]
  },
  {
   "cell_type": "code",
   "execution_count": 48,
   "metadata": {},
   "outputs": [
    {
     "name": "stderr",
     "output_type": "stream",
     "text": [
      "/anaconda3/lib/python3.7/site-packages/matplotlib/axes/_axes.py:6521: MatplotlibDeprecationWarning: \n",
      "The 'normed' kwarg was deprecated in Matplotlib 2.1 and will be removed in 3.1. Use 'density' instead.\n",
      "  alternative=\"'density'\", removal=\"3.1\")\n"
     ]
    },
    {
     "data": {
      "image/png": "[encoded data removed]",
      "text/plain": [
       "<Figure size 432x288 with 1 Axes>"
      ]
     },
     "metadata": {
      "needs_background": "light"
     },
     "output_type": "display_data"
    }
   ],
   "source": [
    "plt.hist(df_node_pct[\"pct_return\"].values, normed=False, bins=30)\n",
    "plt.title('Distribution of the proportion of migration where people are paying taxes')\n",
    "plt.ylabel('Number of migration');\n",
    "plt.xlabel('Pct. of people paying tax and migrating');"
   ]
  },
  {
   "cell_type": "code",
   "execution_count": 49,
   "metadata": {},
   "outputs": [
    {
     "data": {
      "image/png": "[encoded data removed]",
      "text/plain": [
       "<Figure size 432x288 with 1 Axes>"
      ]
     },
     "metadata": {
      "needs_background": "light"
     },
     "output_type": "display_data"
    }
   ],
   "source": [
    "plt.hist(df_node_pct[\"pct_exempt\"].values, normed=False, bins=30)\n",
    "plt.title('Distribution of the proportion of migration where people are not paying taxes')\n",
    "plt.ylabel('Number of migration');\n",
    "plt.xlabel('Pct. of people not paying tax and migrating');"
   ]
  },
  {
   "cell_type": "markdown",
   "metadata": {},
   "source": [
    "The first observation that can be made is that the distributuon of the proportion of people paying tax / people not paying taxes is Gausian. On average 65% people who migrate are exempted to pay taxes and 35% pay taxes.   \n",
    "A migration flow is characterized by at most  50% people paying taxes : no migration flow has more people paying taxes then people not paying taxes. This observation will reveal to be usefill when we will build our first connection graph.   \n",
    "Let's study the the distribution of salary :"
   ]
  },
  {
   "cell_type": "code",
   "execution_count": 50,
   "metadata": {},
   "outputs": [],
   "source": [
    "# TO DO : Distribution of the salary to study"
   ]
  },
  {
   "cell_type": "markdown",
   "metadata": {},
   "source": [
    "## I.2 Build our first graphs"
   ]
  },
  {
   "cell_type": "markdown",
   "metadata": {},
   "source": [
    "The data at hand is interesting because we can build simple graph witout having to use a similarity kernel : one can see the county as the node of our graph and the edges are the migrations between each county. Each edge is weighted by either one of the following feature : `returns`, `exemptions` and `agi`. \n",
    "To make the graph meaningful, we stich to each node a label : Democrat (if the Democrat won the county during the last presidential election) and Republican (if the Repubican won the county).  \n",
    "The adjacency matrix is then build by thresholding each weights. More precisely, we keep only migration that have more than 70% of people not paying taxes, or we keep flows where more than 35% of people are paying taxes. These values were choser to represent the last quartile of each proportion distribution discussed earlier. \n",
    "The graph is then saved into a $gexf$ file and studied with the application $Gephi$. "
   ]
  },
  {
   "cell_type": "code",
   "execution_count": 51,
   "metadata": {},
   "outputs": [],
   "source": [
    "A_total = np.zeros((num_nodes, num_nodes))\n",
    "A_returns = np.zeros((num_nodes, num_nodes))\n",
    "A_exemptions = np.zeros((num_nodes, num_nodes))\n",
    "for i in range (0, num_flows) : \n",
    "    total = mig_flow[\"returns\"][i] + mig_flow[\"exemptions\"][i]\n",
    "    A_total[mig_flow[\"ori_id\"][i] - 1, mig_flow[\"des_id\"][i] -1] = mig_flow[\"returns\"][i] + mig_flow[\"exemptions\"][i]\n",
    "    A_returns[mig_flow[\"ori_id\"][i] - 1, mig_flow[\"des_id\"][i] -1] = mig_flow[\"returns\"][i]/total\n",
    "    A_exemptions[mig_flow[\"ori_id\"][i] - 1, mig_flow[\"des_id\"][i] -1] = mig_flow[\"exemptions\"][i]/total"
   ]
  },
  {
   "cell_type": "markdown",
   "metadata": {},
   "source": [
    "With these two graphs will try to verify the flowing hypothesis : \n",
    "1. **Hypothesis 1** : a migration flow with a more than 35% people paying taxes will have as destination a republican county\n",
    "2. **Hypothesis 2** : a migration flow with a more than 70% people not paying taxes will have as destination a democrat county"
   ]
  },
  {
   "cell_type": "code",
   "execution_count": 52,
   "metadata": {},
   "outputs": [],
   "source": [
    "# create adjacency matrix for flows with more then 45% returns \n",
    "plot_adj_returns = False \n",
    "threshold_returns = 0.45\n",
    "adjacency_nonRGB_returns = A_returns.copy()\n",
    "adjacency_nonRGB_returns[adjacency_nonRGB_returns >= threshold_returns] = 1\n",
    "adjacency_nonRGB_returns[adjacency_nonRGB_returns < threshold_returns] = 0\n",
    "\n",
    "if plot_adj_returns : \n",
    "    plt.spy(adjacency_nonRGB_returns)\n",
    "    plt.show()"
   ]
  },
  {
   "cell_type": "code",
   "execution_count": 53,
   "metadata": {},
   "outputs": [],
   "source": [
    "# create adjacency matrix for flows with more then 70% returns \n",
    "plot_adj_returns = False \n",
    "thershold_exempt = 0.72\n",
    "adjacency_nonRGB_exempt = A_exemptions.copy()\n",
    "adjacency_nonRGB_exempt[adjacency_nonRGB_exempt >= thershold_exempt] = 1\n",
    "adjacency_nonRGB_exempt[adjacency_nonRGB_exempt < thershold_exempt] = 0\n",
    "if plot_adj_returns : \n",
    "    plt.spy(adjacency_nonRGB_exempt)\n",
    "    plt.show()"
   ]
  },
  {
   "cell_type": "code",
   "execution_count": 54,
   "metadata": {},
   "outputs": [],
   "source": [
    "# construct graph for flows with more then 45% returns \n",
    "graph_nonRGB_returns = nx.from_numpy_array(adjacency_nonRGB_returns)\n",
    "n = nodes[\"gop_pct_2016\"].values\n",
    "n[n >= 0.5] = 1\n",
    "n[n < 0.5] = 0\n",
    "n_id = nodes[\"node_id\"].values\n",
    "n_new = np.concatenate(([n_id], [n]),axis=0 )\n",
    "\n",
    "node = pd.DataFrame(n_new.T, columns=[\"id\", \"result\"])\n",
    "node_props = node.to_dict()\n",
    "for key in node_props:\n",
    "    nx.set_node_attributes(graph_nonRGB_returns, node_props[key], key)\n",
    "\n",
    "nx.write_gexf(graph_nonRGB_returns, 'graph_nonRGB_returns.gexf')"
   ]
  },
  {
   "cell_type": "code",
   "execution_count": 55,
   "metadata": {},
   "outputs": [],
   "source": [
    "# construct graph for flows with more then 780% exemptions \n",
    "graph_nonRGB_exempt = nx.from_numpy_array(adjacency_nonRGB_exempt)\n",
    "n = nodes[\"gop_pct_2016\"].values\n",
    "n[n >= 0.5] = 1\n",
    "n[n < 0.5] = 0\n",
    "n_id = nodes[\"node_id\"].values\n",
    "n_new = np.concatenate(([n_id], [n]),axis=0 )\n",
    "\n",
    "node = pd.DataFrame(n_new.T, columns=[\"id\", \"result\"])\n",
    "node_props = node.to_dict()\n",
    "for key in node_props:\n",
    "    nx.set_node_attributes(graph_nonRGB_exempt, node_props[key], key)\n",
    "\n",
    "nx.write_gexf(graph_nonRGB_exempt, 'graph_nonRGB_exempt.gexf')"
   ]
  },
  {
   "cell_type": "markdown",
   "metadata": {},
   "source": [
    "When we plot the graphs and study them with $Gephi$ we can make the following observations : \n",
    "1. **Observation 1** : migration flow with a high proportion of `returns` are mainly between Democrat county. There is hardly any high `returns` migration that are coming from Republican county\n",
    "2. **Observation 2** : migration flow with a high proportion of `exemption` do not have a particular structure. They are especially not going from Republican state to Democrat state.\n",
    "\n",
    "As a conclusion, the two hypothethis stated before do not hold.   \n",
    "It appears that migration flow caracterized by a high proportion of `exemption` has no particular structure : they can be between Republican to Democrat county or vice versa, with no particual preference.   \n",
    "However, the migration flow of high `returns` exhibit a pattern : migration flows with a high proportion of people paying taxes are between Democratic county and there is hardly no high `returns` migration between Republican county. \n",
    "\n",
    "So it appears that people who are living in a Republican county and that pay taxes do not move a lot. On the other hand, people who are paying taxes and are living in a Democrat state are more likely to move, and they will certainly move to a Democrat State"
   ]
  },
  {
   "cell_type": "markdown",
   "metadata": {},
   "source": [
    "# I.3 Build a similarity graph"
   ]
  },
  {
   "cell_type": "code",
   "execution_count": 56,
   "metadata": {},
   "outputs": [],
   "source": [
    "X = nodes.copy()\n",
    "X = X.drop(columns=[\"node_id\", \"fips_code\", \"state_code\", \"state\", \"pop_09\", \"pop_12\", \"median_age_09\", \"median_age_12\", \"median_income_09\", \"median_income_12\", \"white_nonhisp_pct_10\", \"white_nonhisp_pct_12\", \"bach_pct_09\", \"bach_pct_12\", \"unemp_pct_09\", \"unemp_pct_12\", \"median_hou_09\", \"median_hou_12\", \"pop_00\", \"median_income_00\", \"white_nonhisp_pct_00\", \"median_age_00\", \"bach_pct_00\", \"median_hou_00\", \"unemp_pct_00\", \"gop_pct_2016\", \"gop_pct_2012\", \"gop_pct_2008\", \"gop_pct_2004\"])\n",
    "X_std = StandardScaler().fit_transform(X)"
   ]
  },
  {
   "cell_type": "code",
   "execution_count": 57,
   "metadata": {},
   "outputs": [],
   "source": [
    "def epsilon_similarity_graph(X: np.ndarray, sigma=1, epsilon=0):\n",
    "    \"\"\" X (n x d): coordinates of the n data points in R^d.\n",
    "        sigma (float): width of the kernel\n",
    "        epsilon (float): threshold\n",
    "        Return:\n",
    "        adjacency (n x n ndarray): adjacency matrix of the graph.\n",
    "    \"\"\"  \n",
    "    distance=squareform(pdist(X, 'euclidean'))\n",
    "    print(np.mean(distance))\n",
    "    weights=np.exp(-distance**2/(2*sigma*sigma))\n",
    "    np.fill_diagonal(weights,0)\n",
    "    plt.hist(weights.reshape(weights.shape[0]**2 ,1),bins=100)\n",
    "    plt.title(\"distance treshold\")\n",
    "    plt.show()\n",
    "    adjacency=weights\n",
    "    adjacency[adjacency<epsilon]=0\n",
    "    a=np.ones_like(adjacency)\n",
    "    return adjacency"
   ]
  },
  {
   "cell_type": "code",
   "execution_count": 58,
   "metadata": {},
   "outputs": [
    {
     "name": "stdout",
     "output_type": "stream",
     "text": [
      "3.2667882642292287\n"
     ]
    },
    {
     "data": {
      "image/png": "[encoded data removed]",
      "text/plain": [
       "<Figure size 432x288 with 1 Axes>"
      ]
     },
     "metadata": {
      "needs_background": "light"
     },
     "output_type": "display_data"
    },
    {
     "data": {
      "image/png": "[encoded data removed]",
      "text/plain": [
       "<Figure size 432x288 with 1 Axes>"
      ]
     },
     "metadata": {
      "needs_background": "light"
     },
     "output_type": "display_data"
    },
    {
     "name": "stdout",
     "output_type": "stream",
     "text": [
      "(1838, 1838)\n"
     ]
    }
   ],
   "source": [
    "adjacency_RGB = epsilon_similarity_graph(X_std, sigma=3.2667882642292287*0.25, epsilon=0.5)\n",
    "plt.spy(adjacency_RGB)\n",
    "plt.show()\n",
    "print(adjacency_RGB.shape)"
   ]
  },
  {
   "cell_type": "code",
   "execution_count": 59,
   "metadata": {},
   "outputs": [],
   "source": [
    "graph_RGB = nx.from_numpy_array(adjacency_RGB)\n",
    "n = nodes[\"gop_pct_2016\"].values\n",
    "n[n >= 0.5] = 1\n",
    "n[n < 0.5] = 0\n",
    "n_id = nodes[\"node_id\"].values\n",
    "n_new = np.concatenate(([n_id], [n]),axis=0 )\n",
    "\n",
    "node = pd.DataFrame(n_new.T, columns=[\"id\", \"result\"])\n",
    "node_props = node.to_dict()\n",
    "for key in node_props:\n",
    "    nx.set_node_attributes(graph_nonRGB_exempt, node_props[key], key)\n",
    "\n",
    "nx.write_gexf(graph_nonRGB_exempt, 'graph_RGB.gexf')"
   ]
  },
  {
   "cell_type": "code",
   "execution_count": 60,
   "metadata": {},
   "outputs": [],
   "source": [
    "from sklearn.decomposition import PCA\n",
    "from sklearn.manifold import TSNE, Isomap\n",
    "\n",
    "y_std = n\n",
    "classes = [0, 1]\n",
    "\n",
    "# This cell can take a few minutes to run\n",
    "run_this_cell = False\n",
    "\n",
    "if run_this_cell:\n",
    "    # In 2d\n",
    "    embeddings = [PCA(n_components=2, copy=True, whiten=True, tol=1e-5),\n",
    "                  Isomap(n_components=2, n_neighbors=5),\n",
    "                  TSNE(n_components=2)]\n",
    "\n",
    "    for embedding in embeddings:\n",
    "        X_embedded = embedding.fit_transform(X_std)\n",
    "        fig = plt.figure()\n",
    "        for i in classes:\n",
    "            mask = y_std == i\n",
    "            plt.scatter(X_std[mask, 0], X_std[mask, 1], label=i)\n",
    "        plt.legend()\n",
    "        plt.title('Embedding method: '+ type(embedding).__name__)\n",
    "        plt.show()\n",
    "\n",
    "    # In 3d\n",
    "    embeddings = [PCA(n_components=3, copy=True, whiten=True, tol=1e-5),\n",
    "                  Isomap(n_components=3, n_neighbors=5),\n",
    "                  TSNE(n_components=3)]\n",
    "\n",
    "    for embedding in embeddings:\n",
    "        X_embedded = embedding.fit_transform(X_std)\n",
    "        fig = plt.figure()\n",
    "        ax = Axes3D(fig)\n",
    "        for i in classes:\n",
    "            mask = y_std == i\n",
    "            ax.scatter(X_std[mask, 0], X_std[mask, 1], X_std[mask, 2], label=i)\n",
    "        ax.legend()\n",
    "        ax.title.set_text('Embedding method: '+ type(embedding).__name__)\n",
    "        plt.show()"
   ]
  },
  {
   "cell_type": "markdown",
   "metadata": {},
   "source": [
    "### As a conclusion one can see that our the given graph has no similarity structure. We change dataset and try with another one"
   ]
  },
  {
   "cell_type": "markdown",
   "metadata": {},
   "source": [
    "# II. Second try with IRS dataset"
   ]
  },
  {
   "cell_type": "markdown",
   "metadata": {},
   "source": [
    "The IRS (i.e Internal Revenue Service) website contains a dataset of all the migrations between county. We can access data about the migration inflow or the migration outflaw of each county. \n",
    "We are more interested by the inflow migration dataset which describes what kind of immigration a county was subject to.\n",
    "The IRS allow us to have access to 3 different type of migration inflow for each county : \n",
    "1. People who migrated and that are US citizen \n",
    "2. People who migrated and that are not US citizen \n",
    "3. The total number of people who migrated\n",
    "\n",
    "Each of this flow is caracterized by 3 variables : \n",
    "1. `returns`: the number of people who moved and payed taxes\n",
    "2. `exemption`: the number of people who moved and did not pay taxes\n",
    "3. `agi`: the average salary of the people who moved \n",
    "\n",
    "To complete this dataset, we found a dataset that compiles the results of the 2016 Presidential Election by counties. The dataset comes from The Guardian (a British Newspaper). \n",
    "\n",
    "## II.1 Extract, clean the data \n",
    "First, load the county migration dataset and clean it. "
   ]
  },
  {
   "cell_type": "code",
   "execution_count": 76,
   "metadata": {},
   "outputs": [],
   "source": [
    "# load the data\n",
    "df_migrations = pd.read_csv(\"./NTDS_Data/countyinflow1516.csv\" )"
   ]
  },
  {
   "cell_type": "code",
   "execution_count": 77,
   "metadata": {},
   "outputs": [],
   "source": [
    "# load the data\n",
    "df_migrations = pd.read_csv(\"./NTDS_Data/countyinflow1516.csv\" )\n",
    "\n",
    "# keep only summury information of each county\n",
    "df_migrations = df_migrations[df_migrations['y1_countyname'].str.contains(\"County Total Migration\")]\n",
    "\n",
    "# create the combined fips county number \n",
    "df_migrations['statefips_str'] = df_migrations['y2_statefips'].apply(lambda x : str(x).zfill(2))\n",
    "df_migrations['countyfips_str'] = df_migrations['y2_countyfips'].apply(lambda x : str(x).zfill(3))\n",
    "df_migrations['combined_fips'] = df_migrations['statefips_str'].apply(lambda x: x.lstrip('0')) + df_migrations['countyfips_str']\n",
    "\n",
    "# drop useless information \n",
    "df_migrations = df_migrations.drop(columns=[\"y2_statefips\", \"y2_countyfips\", \"y1_statefips\", \"y1_countyfips\", \"y1_state\", \"statefips_str\", \"countyfips_str\"])\n",
    "\n",
    "# seperate each possible migration into three dataframe \n",
    "df_migration_total = df_migrations[df_migrations['y1_countyname'].str.contains(\"County Total Migration-US and Foreign\")]\n",
    "df_migrations['y1_countyname'] = df_migrations['y1_countyname'].apply(lambda x : x if x.find(\"County Total Migration-US and Foreign\") == -1 else \"County Total Migration Both\")\n",
    "df_migration_us = df_migrations[df_migrations['y1_countyname'].str.contains(\"County Total Migration-US\")]\n",
    "df_migration_for = df_migrations[df_migrations['y1_countyname'].str.contains(\"County Total Migration-Foreign\")]\n",
    "\n",
    "# drop the name of the column \n",
    "df_migration_total = df_migration_total.drop(columns=[\"y1_countyname\"])\n",
    "df_migration_us = df_migration_us.drop(columns=[\"y1_countyname\"])\n",
    "df_migration_for = df_migration_for.drop(columns=[\"y1_countyname\"])\n",
    "\n",
    "# remove nodes where data is undefined undefined data by zero\n",
    "df_migration_total = df_migration_total[df_migration_total['n1'] != -1]\n",
    "df_migration_us = df_migration_us[df_migration_us['n1'] != -1]\n",
    "df_migration_for = df_migration_for[df_migration_for['n1'] != -1]\n",
    "\n",
    "# convert combined fips to int64\n",
    "df_migration_total['combined_fips'] = df_migration_total['combined_fips'].astype('int64')\n",
    "df_migration_us['combined_fips'] = df_migration_us['combined_fips'].astype('int64')\n",
    "df_migration_for['combined_fips'] = df_migration_for['combined_fips'].astype('int64')"
   ]
  },
  {
   "cell_type": "markdown",
   "metadata": {},
   "source": [
    "Second load the 2016 Presidential Election by counties dataset and clean it "
   ]
  },
  {
   "cell_type": "code",
   "execution_count": 78,
   "metadata": {},
   "outputs": [],
   "source": [
    "df_presidential_result = pd.read_csv(\"./NTDS_Data/2016_US_County_Level_Presidential_Results.csv\" )\n",
    "df_presidential_result = df_presidential_result.drop(columns=[\"Unnamed: 0\",\"votes_dem\", \"votes_gop\", \"total_votes\", \"diff\", \"per_point_diff\", \"state_abbr\", \"county_name\"])"
   ]
  },
  {
   "cell_type": "markdown",
   "metadata": {},
   "source": [
    "Third we merge the two dataset and add a new colmumn called `winner` that is defined as follow : if the Republican had a majority in the county, then `winner` equals 1. Otherwise, the Democrat won a majority in the county and `winner` equals 0."
   ]
  },
  {
   "cell_type": "code",
   "execution_count": 79,
   "metadata": {},
   "outputs": [],
   "source": [
    "# merge the two dataset and drop useless column, add a new column winner \n",
    "df_merged_total = pd.merge(df_migration_total, df_presidential_result, on=\"combined_fips\", how='inner')\n",
    "df_merged_us = pd.merge(df_migration_us, df_presidential_result, on=\"combined_fips\", how='inner')\n",
    "df_merged_for = pd.merge(df_migration_for, df_presidential_result, on=\"combined_fips\", how='inner')\n",
    "df_merged_total['difference'] = df_merged_total['per_dem'] - df_merged_total['per_gop']\n",
    "df_merged_us['difference'] = df_merged_us['per_dem'] - df_merged_total['per_gop']\n",
    "df_merged_for['difference'] = df_merged_for['per_dem'] - df_merged_total['per_gop']\n",
    "df_merged_total['winner'] = df_merged_total['difference'].apply(lambda x : 0 if x > 0 else 1)\n",
    "df_merged_us['winner'] = df_merged_us['difference'].apply(lambda x : 0 if x > 0 else 1)\n",
    "df_merged_for['winner'] = df_merged_for['difference'].apply(lambda x : 0 if x > 0 else 1)\n",
    "df_merged_total = df_merged_total.drop(columns=['difference'])\n",
    "df_merged_us = df_merged_us.drop(columns=['difference'])\n",
    "df_merged_for = df_merged_for.drop(columns=['difference'])"
   ]
  },
  {
   "cell_type": "markdown",
   "metadata": {},
   "source": [
    "Finally, we upload data about the number of people living in a county. "
   ]
  },
  {
   "cell_type": "code",
   "execution_count": 80,
   "metadata": {},
   "outputs": [],
   "source": [
    "df_pop = pd.read_csv(\"./NTDS_Data/PopulationEstimates.csv\")\n",
    "df_pop = df_pop[[\"FIPS\", \"POP_ESTIMATE_2016\"]]\n",
    "df_pop.columns = [\"combined_fips\", \"POP_ESTIMATE_2016\"]\n",
    "df_merged_for = pd.merge(df_merged_for, df_pop, on=\"combined_fips\", how='inner')\n",
    "df_merged_for[\"n3\"] = df_merged_for[\"n1\"] + df_merged_for[\"n2\"]\n",
    "df_merged_for[\"POP_ESTIMATE_2016\"] = df_merged_for[\"POP_ESTIMATE_2016\"].apply(lambda x : int(x.replace(',', '')))\n",
    "#df_merged_for = df_merged_for.to_numeric(axis=[\"POP_ESTIMATE_2016\"])\n",
    "\n",
    "df_merged_for[\"n3\"] = df_merged_for[\"n3\"].divide(df_merged_for[\"POP_ESTIMATE_2016\"].astype(int))"
   ]
  },
  {
   "cell_type": "markdown",
   "metadata": {},
   "source": [
    "## II.2 Build the graph"
   ]
  },
  {
   "cell_type": "markdown",
   "metadata": {},
   "source": [
    "**The similarity graph for total migration**"
   ]
  },
  {
   "cell_type": "code",
   "execution_count": 86,
   "metadata": {
    "scrolled": false
   },
   "outputs": [
    {
     "name": "stdout",
     "output_type": "stream",
     "text": [
      "0.5284353963018223\n"
     ]
    },
    {
     "data": {
      "image/png": "[encoded data removed]",
      "text/plain": [
       "<Figure size 432x288 with 1 Axes>"
      ]
     },
     "metadata": {
      "needs_background": "light"
     },
     "output_type": "display_data"
    },
    {
     "data": {
      "image/png": "[encoded data removed]",
      "text/plain": [
       "<Figure size 432x288 with 1 Axes>"
      ]
     },
     "metadata": {
      "needs_background": "light"
     },
     "output_type": "display_data"
    }
   ],
   "source": [
    "X_total = df_merged_total.drop(columns=['combined_fips', 'per_dem', 'per_gop', 'winner'])\n",
    "nodes_total = df_merged_total.drop(columns=['n1', 'n2', 'agi', 'per_dem', 'per_gop']).values\n",
    "X_total['agi'] = (X_total['agi'] - X_total['agi'].mean()) / X_total['agi'].std()\n",
    "X_total['prop_ret/exempt'] = X_total['n1'] / X_total['n2']\n",
    "X_total = X_total.drop(columns=['n1', 'n2'])\n",
    "adjacency_RGB_total = epsilon_similarity_graph(X_total, sigma=0.976934499862608*0.1, epsilon=0.2)\n",
    "plt.spy(adjacency_RGB_total)\n",
    "plt.show()"
   ]
  },
  {
   "cell_type": "code",
   "execution_count": null,
   "metadata": {},
   "outputs": [],
   "source": []
  },
  {
   "cell_type": "code",
   "execution_count": null,
   "metadata": {},
   "outputs": [],
   "source": [
    "X_total = df_merged_total.drop(columns=['combined_fips', 'per_dem', 'per_gop', 'winner'])\n",
    "nodes_total = df_merged_total.drop(columns=['n1', 'n2', 'agi', 'per_dem', 'per_gop']).values\n",
    "X_total['agi'] = (X_total['agi'] - X_total['agi'].mean()) / X_total['agi'].std()\n",
    "X_total['prop_ret/exempt'] = X_total['n1'] / X_total['n2']\n",
    "X_total = X_total.drop(columns=['n1', 'n2'])\n",
    "adjacency_RGB_total = epsilon_similarity_graph(X_total, sigma=0.976934499862608*0.1, epsilon=0.2)\n",
    "plt.spy(adjacency_RGB_total)\n",
    "plt.show()"
   ]
  },
  {
   "cell_type": "code",
   "execution_count": null,
   "metadata": {},
   "outputs": [],
   "source": []
  },
  {
   "cell_type": "code",
   "execution_count": 25,
   "metadata": {},
   "outputs": [],
   "source": [
    "n = df_merged_total['winner'].values"
   ]
  },
  {
   "cell_type": "code",
   "execution_count": null,
   "metadata": {},
   "outputs": [],
   "source": []
  },
  {
   "cell_type": "code",
   "execution_count": null,
   "metadata": {},
   "outputs": [],
   "source": []
  },
  {
   "cell_type": "code",
   "execution_count": null,
   "metadata": {},
   "outputs": [],
   "source": [
    "X_us = df_merged_us.drop(columns=['combined_fips', 'per_dem', 'per_gop', 'winner']).values\n",
    "nodes_us = df_merged_us.drop(columns=['n1', 'n2', 'agi', 'per_dem', 'per_gop']).values\n",
    "X_us_std = StandardScaler().fit_transform(X_us)\n",
    "adjacency_RGB_us = epsilon_similarity_graph(X_us_std, sigma=0.976934499862608*0.1, epsilon=0.2)\n",
    "plt.spy(adjacency_RGB_us)\n",
    "plt.show()\n",
    "print(adjacency_RGB_us.shape)"
   ]
  },
  {
   "cell_type": "code",
   "execution_count": null,
   "metadata": {},
   "outputs": [],
   "source": [
    "X_for = df_merged_for.drop(columns=['combined_fips', 'per_dem', 'per_gop', 'winner']).values\n",
    "nodes_for = df_merged_for.drop(columns=['n1', 'n2', 'agi', 'per_dem', 'per_gop']).values\n",
    "X_for_std = StandardScaler().fit_transform(X_for)\n",
    "X_for_std.shape\n",
    "adjacency_RGB_for = epsilon_similarity_graph(X_for_std, sigma=0.7946351372390517*0.25m, epsilon=0.4)\n",
    "plt.spy(adjacency_RGB_for)\n",
    "plt.show()\n",
    "print(adjacency_RGB_for.shape)"
   ]
  },
  {
   "cell_type": "code",
   "execution_count": null,
   "metadata": {},
   "outputs": [],
   "source": [
    "graph_RGB_total = nx.from_numpy_array(adjacency_RGB_for)\n",
    "node = pd.DataFrame(nodes_total, columns=[\"id\", \"result\"])\n",
    "node_props = node.to_dict()\n",
    "for key in node_props:\n",
    "    nx.set_node_attributes(graph_RGB_total, node_props[key], key)\n",
    "\n",
    "nx.write_gexf(graph_RGB_total, 'graph_RGB_total.gexf')"
   ]
  },
  {
   "cell_type": "code",
   "execution_count": null,
   "metadata": {},
   "outputs": [],
   "source": [
    "graph_RGB_us = nx.from_numpy_array(adjacency_RGB_us)\n",
    "node = pd.DataFrame(nodes_us, columns=[\"id\", \"result\"])\n",
    "node_props = node.to_dict()\n",
    "for key in node_props:\n",
    "    nx.set_node_attributes(graph_RGB_us, node_props[key], key)\n",
    "\n",
    "nx.write_gexf(graph_RGB_us, 'graph_RGB_us.gexf')"
   ]
  },
  {
   "cell_type": "code",
   "execution_count": null,
   "metadata": {},
   "outputs": [],
   "source": [
    "graph_RGB_for = nx.from_numpy_array(adjacency_RGB_for)\n",
    "node = pd.DataFrame(nodes_for, columns=[\"id\", \"result\"])\n",
    "node_props = node.to_dict()\n",
    "for key in node_props:\n",
    "    nx.set_node_attributes(graph_RGB_for, node_props[key], key)\n",
    "\n",
    "nx.write_gexf(graph_RGB_for, 'graph_RGB_for.gexf')"
   ]
  },
  {
   "cell_type": "code",
   "execution_count": null,
   "metadata": {},
   "outputs": [],
   "source": []
  },
  {
   "cell_type": "code",
   "execution_count": null,
   "metadata": {},
   "outputs": [],
   "source": []
  },
  {
   "cell_type": "code",
   "execution_count": null,
   "metadata": {},
   "outputs": [],
   "source": []
  },
  {
   "cell_type": "code",
   "execution_count": null,
   "metadata": {},
   "outputs": [],
   "source": []
  },
  {
   "cell_type": "markdown",
   "metadata": {},
   "source": [
    "# III. Xiaoyan's Mess"
   ]
  },
  {
   "cell_type": "code",
   "execution_count": 221,
   "metadata": {},
   "outputs": [],
   "source": [
    "A_total = np.zeros((num_nodes, num_nodes))\n",
    "A_returns = np.zeros((num_nodes, num_nodes))\n",
    "A_exemptions = np.zeros((num_nodes, num_nodes))\n",
    "for i in range (0, num_flows) : \n",
    "    total = mig_flow[\"returns\"][i] + mig_flow[\"exemptions\"][i]\n",
    "    A_total[mig_flow[\"ori_id\"][i] - 1, mig_flow[\"des_id\"][i] -1] = mig_flow[\"returns\"][i] + mig_flow[\"exemptions\"][i]\n",
    "    A_returns[mig_flow[\"ori_id\"][i] - 1, mig_flow[\"des_id\"][i] -1] = mig_flow[\"returns\"][i]/total\n",
    "    A_exemptions[mig_flow[\"ori_id\"][i] - 1, mig_flow[\"des_id\"][i] -1] = mig_flow[\"exemptions\"][i]/total"
   ]
  },
  {
   "cell_type": "code",
   "execution_count": 178,
   "metadata": {},
   "outputs": [],
   "source": [
    "def epsilon_similarity_graph(X: np.ndarray, sigma=1, epsilon=0):\n",
    "    \"\"\" X (n x d): coordinates of the n data points in R^d.\n",
    "        sigma (float): width of the kernel\n",
    "        epsilon (float): threshold\n",
    "        Return:\n",
    "        adjacency (n x n ndarray): adjacency matrix of the graph.\n",
    "    \"\"\"  \n",
    "    distance=squareform(pdist(X, 'euclidean'))\n",
    "    print(np.mean(distance))\n",
    "    weights=np.exp(-distance**2/(2*sigma*sigma))\n",
    "    np.fill_diagonal(weights,0)\n",
    "    plt.hist(weights.reshape(weights.shape[0]**2 ,1),bins=100)\n",
    "    plt.title(\"distance treshold\")\n",
    "    plt.show()\n",
    "    adjacency=weights\n",
    "    adjacency[adjacency<epsilon]=0\n",
    "    a=np.ones_like(adjacency)\n",
    "    return adjacency"
   ]
  },
  {
   "cell_type": "markdown",
   "metadata": {},
   "source": [
    "## Build graph for returns"
   ]
  },
  {
   "cell_type": "code",
   "execution_count": 218,
   "metadata": {},
   "outputs": [
    {
     "name": "stdout",
     "output_type": "stream",
     "text": [
      "2.05213148790842\n"
     ]
    },
    {
     "data": {
      "image/png": "[encoded data removed]",
      "text/plain": [
       "<Figure size 432x288 with 1 Axes>"
      ]
     },
     "metadata": {
      "needs_background": "light"
     },
     "output_type": "display_data"
    },
    {
     "data": {
      "image/png": "[encoded data removed]",
      "text/plain": [
       "<Figure size 432x288 with 1 Axes>"
      ]
     },
     "metadata": {
      "needs_background": "light"
     },
     "output_type": "display_data"
    },
    {
     "name": "stdout",
     "output_type": "stream",
     "text": [
      "(1838, 1838)\n"
     ]
    }
   ],
   "source": [
    "adjacency = epsilon_similarity_graph(A_returns, sigma=2.05*0.25, epsilon=0.2)\n",
    "plt.spy(adjacency)\n",
    "plt.show()\n",
    "print(adjacency.shape)"
   ]
  },
  {
   "cell_type": "code",
   "execution_count": 219,
   "metadata": {},
   "outputs": [],
   "source": [
    "graph = nx.from_numpy_array(adjacency)\n",
    "n = nodes[\"gop_pct_2016\"].values\n",
    "n[n >= 0.5] = 1\n",
    "n[n < 0.5] = 0\n",
    "n_id = nodes[\"node_id\"].values\n",
    "n_new = np.concatenate(([n_id], [n]),axis=0 )\n",
    "\n",
    "node = pd.DataFrame(n_new.T, columns=[\"id\", \"result\"])\n",
    "node_props = node.to_dict()\n",
    "for key in node_props:\n",
    "    # print(key, node_props[key])\n",
    "    nx.set_node_attributes(graph, node_props[key], key)\n",
    "\n",
    "nx.write_gexf(graph, 'test2.gexf')"
   ]
  },
  {
   "cell_type": "code",
   "execution_count": 220,
   "metadata": {},
   "outputs": [],
   "source": [
    "#nx.draw_spectral(graph, with_labels=True)\n",
    "nx.write_gexf(graph, 'test2.gexf')"
   ]
  },
  {
   "cell_type": "code",
   "execution_count": 46,
   "metadata": {},
   "outputs": [],
   "source": [
    "list0 = node[node[\"result\"]==0]\n",
    "list1 = node[node[\"result\"]==1]"
   ]
  },
  {
   "cell_type": "code",
   "execution_count": null,
   "metadata": {
    "scrolled": true
   },
   "outputs": [],
   "source": []
  },
  {
   "cell_type": "code",
   "execution_count": 38,
   "metadata": {},
   "outputs": [
    {
     "data": {
      "text/plain": [
       "1.0"
      ]
     },
     "execution_count": 38,
     "metadata": {},
     "output_type": "execute_result"
    }
   ],
   "source": [
    "node_props[\"id\"][0]"
   ]
  },
  {
   "cell_type": "code",
   "execution_count": 48,
   "metadata": {},
   "outputs": [
    {
     "data": {
      "image/png": "[encoded data removed]",
      "text/plain": [
       "<Figure size 432x288 with 1 Axes>"
      ]
     },
     "metadata": {},
     "output_type": "display_data"
    }
   ],
   "source": [
    "color_map = []\n",
    "for node in graph:\n",
    "    if node in list0:\n",
    "        #print(node)\n",
    "        color_map.append('blue') # <0.5\n",
    "    else: \n",
    "        print(\"red :\",node)\n",
    "        color_map.append('red')  # >=0.5    \n",
    "nx.draw(graph,node_color = color_map,with_labels = True)\n",
    "plt.show()"
   ]
  },
  {
   "cell_type": "code",
   "execution_count": 29,
   "metadata": {},
   "outputs": [
    {
     "name": "stderr",
     "output_type": "stream",
     "text": [
      "/home/xzou/anaconda3/lib/python3.7/site-packages/networkx/drawing/nx_pylab.py:563: MatplotlibDeprecationWarning: \n",
      "The iterable function was deprecated in Matplotlib 3.1 and will be removed in 3.3. Use np.iterable instead.\n",
      "  if not cb.iterable(width):\n",
      "/home/xzou/anaconda3/lib/python3.7/site-packages/networkx/drawing/nx_pylab.py:611: MatplotlibDeprecationWarning: \n",
      "The is_numlike function was deprecated in Matplotlib 3.0 and will be removed in 3.2. Use isinstance(..., numbers.Number) instead.\n",
      "  if cb.is_numlike(alpha):\n"
     ]
    },
    {
     "data": {
      "text/plain": [
       "<matplotlib.collections.LineCollection at 0x7f16ff0ab4e0>"
      ]
     },
     "execution_count": 29,
     "metadata": {},
     "output_type": "execute_result"
    },
    {
     "data": {
      "image/png": "[encoded data removed]",
      "text/plain": [
       "<Figure size 432x288 with 1 Axes>"
      ]
     },
     "metadata": {
      "needs_background": "light"
     },
     "output_type": "display_data"
    }
   ],
   "source": [
    "pos=nx.spring_layout(graph)\n",
    "nx.draw_networkx_edges(graph,pos,with_labels=True,\n",
    "                       nodelist=list0,\n",
    "                       node_color='r')\n",
    "nx.draw_networkx_edges(graph,pos,with_labels=True,\n",
    "                       nodelist=list1,\n",
    "                       node_color='b')"
   ]
  },
  {
   "cell_type": "code",
   "execution_count": null,
   "metadata": {},
   "outputs": [],
   "source": [
    "#draw_networkx_edges"
   ]
  },
  {
   "cell_type": "markdown",
   "metadata": {},
   "source": [
    "## Build graph for exemptions"
   ]
  },
  {
   "cell_type": "code",
   "execution_count": 200,
   "metadata": {},
   "outputs": [
    {
     "name": "stdout",
     "output_type": "stream",
     "text": [
      "3.7416357141025385\n"
     ]
    },
    {
     "data": {
      "image/png": "[encoded data removed]",
      "text/plain": [
       "<Figure size 432x288 with 1 Axes>"
      ]
     },
     "metadata": {
      "needs_background": "light"
     },
     "output_type": "display_data"
    },
    {
     "data": {
      "image/png": "[encoded data removed]",
      "text/plain": [
       "<Figure size 432x288 with 1 Axes>"
      ]
     },
     "metadata": {
      "needs_background": "light"
     },
     "output_type": "display_data"
    },
    {
     "name": "stdout",
     "output_type": "stream",
     "text": [
      "(1838, 1838)\n"
     ]
    }
   ],
   "source": [
    "adjacency_exempt = epsilon_similarity_graph(A_exemptions, sigma=3.74*0.3, epsilon=0.4)\n",
    "plt.spy(adjacency_exempt)\n",
    "plt.show()\n",
    "print(adjacency_exempt.shape)"
   ]
  },
  {
   "cell_type": "code",
   "execution_count": 201,
   "metadata": {},
   "outputs": [],
   "source": [
    "graph_exempt = nx.from_numpy_array(adjacency_exempt)\n",
    "n = nodes[\"gop_pct_2016\"].values\n",
    "n[n >= 0.5] = 1\n",
    "n[n < 0.5] = 0\n",
    "n_id = nodes[\"node_id\"].values\n",
    "n_new = np.concatenate(([n_id], [n]),axis=0 )\n",
    "\n",
    "node = pd.DataFrame(n_new.T, columns=[\"id\", \"result\"])\n",
    "node_props = node.to_dict()\n",
    "for key in node_props:\n",
    "    # print(key, node_props[key])\n",
    "    nx.set_node_attributes(graph_exempt, node_props[key], key)"
   ]
  },
  {
   "cell_type": "code",
   "execution_count": 202,
   "metadata": {},
   "outputs": [],
   "source": [
    "nx.write_gexf(graph_exempt, 'result_exempt.gexf')"
   ]
  },
  {
   "cell_type": "code",
   "execution_count": 207,
   "metadata": {},
   "outputs": [
    {
     "data": {
      "text/plain": [
       "0.7377584330794341"
      ]
     },
     "execution_count": 207,
     "metadata": {},
     "output_type": "execute_result"
    }
   ],
   "source": [
    "np.count_nonzero(n)/n.shape[0]"
   ]
  },
  {
   "cell_type": "markdown",
   "metadata": {},
   "source": [
    "# Graph without RGB kernel"
   ]
  },
  {
   "cell_type": "code",
   "execution_count": 279,
   "metadata": {},
   "outputs": [
    {
     "data": {
      "image/png": "[encoded data removed]",
      "text/plain": [
       "<Figure size 432x288 with 1 Axes>"
      ]
     },
     "metadata": {
      "needs_background": "light"
     },
     "output_type": "display_data"
    }
   ],
   "source": [
    "threshold_returns = 0.45\n",
    "adjacency_nonRGB_returns = A_returns.copy()\n",
    "adjacency_nonRGB_returns[adjacency_nonRGB_returns >= threshold_returns] = 1\n",
    "adjacency_nonRGB_returns[adjacency_nonRGB_returns < threshold_returns] = 0\n",
    "plt.spy(adjacency_nonRGB_returns)\n",
    "plt.show()"
   ]
  },
  {
   "cell_type": "code",
   "execution_count": 284,
   "metadata": {},
   "outputs": [
    {
     "data": {
      "image/png": "[encoded data removed]",
      "text/plain": [
       "<Figure size 432x288 with 1 Axes>"
      ]
     },
     "metadata": {
      "needs_background": "light"
     },
     "output_type": "display_data"
    }
   ],
   "source": [
    "thershold_exempt = 0.72\n",
    "adjacency_nonRGB_exempt = A_exemptions.copy()\n",
    "adjacency_nonRGB_exempt[adjacency_nonRGB_exempt >= thershold_exempt] = 1\n",
    "adjacency_nonRGB_exempt[adjacency_nonRGB_exempt < thershold_exempt] = 0\n",
    "plt.spy(adjacency_nonRGB_exempt)\n",
    "plt.show()"
   ]
  },
  {
   "cell_type": "code",
   "execution_count": 281,
   "metadata": {},
   "outputs": [],
   "source": [
    "graph_nonRGB_returns = nx.from_numpy_array(adjacency_nonRGB_returns)\n",
    "n = nodes[\"gop_pct_2016\"].values\n",
    "n[n >= 0.5] = 1\n",
    "n[n < 0.5] = 0\n",
    "n_id = nodes[\"node_id\"].values\n",
    "n_new = np.concatenate(([n_id], [n]),axis=0 )\n",
    "\n",
    "node = pd.DataFrame(n_new.T, columns=[\"id\", \"result\"])\n",
    "node_props = node.to_dict()\n",
    "for key in node_props:\n",
    "    nx.set_node_attributes(graph_nonRGB_returns, node_props[key], key)\n",
    "\n",
    "nx.write_gexf(graph_nonRGB_returns, 'graph_nonRGB_returns.gexf')"
   ]
  },
  {
   "cell_type": "code",
   "execution_count": 285,
   "metadata": {},
   "outputs": [],
   "source": [
    "graph_nonRGB_exempt = nx.from_numpy_array(adjacency_nonRGB_exempt)\n",
    "n = nodes[\"gop_pct_2016\"].values\n",
    "n[n >= 0.5] = 1\n",
    "n[n < 0.5] = 0\n",
    "n_id = nodes[\"node_id\"].values\n",
    "n_new = np.concatenate(([n_id], [n]),axis=0 )\n",
    "\n",
    "node = pd.DataFrame(n_new.T, columns=[\"id\", \"result\"])\n",
    "node_props = node.to_dict()\n",
    "for key in node_props:\n",
    "    nx.set_node_attributes(graph_nonRGB_exempt, node_props[key], key)\n",
    "\n",
    "nx.write_gexf(graph_nonRGB_exempt, 'graph_nonRGB_exempt.gexf')"
   ]
  },
  {
   "cell_type": "code",
   "execution_count": null,
   "metadata": {},
   "outputs": [],
   "source": []
  },
  {
   "cell_type": "code",
   "execution_count": null,
   "metadata": {},
   "outputs": [],
   "source": []
  }
 ],
 "metadata": {
  "kernelspec": {
   "display_name": "Python 3",
   "language": "python",
   "name": "python3"
  },
  "language_info": {
   "codemirror_mode": {
    "name": "ipython",
    "version": 3
   },
   "file_extension": ".py",
   "mimetype": "text/x-python",
   "name": "python",
   "nbconvert_exporter": "python",
   "pygments_lexer": "ipython3",
   "version": "3.7.1"
  }
 },
 "nbformat": 4,
 "nbformat_minor": 2
}
