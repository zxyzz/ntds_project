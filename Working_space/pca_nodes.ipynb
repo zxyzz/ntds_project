{
 "cells": [
  {
   "cell_type": "code",
   "execution_count": 1,
   "metadata": {},
   "outputs": [],
   "source": [
    "import pandas as pd\n",
    "import numpy as np\n",
    "import sklearn as sk\n",
    "from sklearn.decomposition import PCA\n",
    "from sklearn.preprocessing import Normalizer\n",
    "from sklearn.preprocessing import StandardScaler\n",
    "import matplotlib.pyplot as plt\n",
    "import seaborn as sns"
   ]
  },
  {
   "cell_type": "markdown",
   "metadata": {},
   "source": [
    "#### The objective of this notebook is to prepare the nodes of our graph. To do so, we will clean the data at hand and reduce its dimension using methods seen in course"
   ]
  },
  {
   "cell_type": "markdown",
   "metadata": {},
   "source": [
    "# I. Data-cleaning : drop features that bring no information"
   ]
  },
  {
   "cell_type": "code",
   "execution_count": 5,
   "metadata": {},
   "outputs": [],
   "source": [
    "nodes = pd.read_csv(\"./NTDS_Data/census_and_vote_data.csv\" )\n",
    "\n",
    "# fips code is the county code, it is unique to the county. Hence the node ID is already an identificator of the county\n",
    "nodes = nodes.drop(columns=[\"fips_code\"])\n",
    "# state is the name of the state in which the county is located. It repeats information comprised in state_code\n",
    "nodes = nodes.drop(columns=[\"state\"])\n",
    "# pop_09 and pop_12 are dropped because we will keep the most recent data : 2016 data\n",
    "nodes = nodes.drop(columns=[\"pop_09\", \"pop_12\"])\n",
    "# median_age_09 and median_age_12 are dropped because we are keeping most recent information \n",
    "nodes = nodes.drop(columns=)"
   ]
  },
  {
   "cell_type": "markdown",
   "metadata": {},
   "source": [
    "# II. Feature reduction "
   ]
  },
  {
   "cell_type": "markdown",
   "metadata": {},
   "source": [
    "## 1. PCA analysis"
   ]
  },
  {
   "cell_type": "code",
   "execution_count": null,
   "metadata": {},
   "outputs": [],
   "source": []
  },
  {
   "cell_type": "markdown",
   "metadata": {},
   "source": [
    "## 2. Isomap decomposition "
   ]
  },
  {
   "cell_type": "code",
   "execution_count": null,
   "metadata": {},
   "outputs": [],
   "source": []
  }
 ],
 "metadata": {
  "kernelspec": {
   "display_name": "Python 3",
   "language": "python",
   "name": "python3"
  },
  "language_info": {
   "codemirror_mode": {
    "name": "ipython",
    "version": 3
   },
   "file_extension": ".py",
   "mimetype": "text/x-python",
   "name": "python",
   "nbconvert_exporter": "python",
   "pygments_lexer": "ipython3",
   "version": "3.7.1"
  }
 },
 "nbformat": 4,
 "nbformat_minor": 2
}
