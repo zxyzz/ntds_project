{
 "cells": [
  {
   "cell_type": "code",
   "execution_count": 1,
   "metadata": {},
   "outputs": [],
   "source": [
    "import numpy as np\n",
    "import sys\n",
    "from scipy import sparse\n",
    "from scipy.spatial.distance import pdist, squareform\n",
    "import matplotlib.pyplot as plt\n",
    "from mpl_toolkits.mplot3d import Axes3D\n",
    "import pandas as pd\n",
    "import networkx as nx\n",
    "from sklearn.preprocessing import StandardScaler"
   ]
  },
  {
   "cell_type": "code",
   "execution_count": null,
   "metadata": {},
   "outputs": [],
   "source": []
  },
  {
   "cell_type": "code",
   "execution_count": 3,
   "metadata": {},
   "outputs": [
    {
     "name": "stdout",
     "output_type": "stream",
     "text": [
      "       Unemployment rate\n",
      "10              0.302760\n",
      "31              0.316083\n",
      "81              0.310380\n",
      "98              0.300111\n",
      "115             0.293537\n",
      "...                  ...\n",
      "86255           0.302733\n",
      "86278           0.329863\n",
      "86294           0.289025\n",
      "86310           0.309895\n",
      "86322           0.317928\n",
      "\n",
      "[3141 rows x 1 columns]\n"
     ]
    }
   ],
   "source": [
    "df_migrations = pd.read_csv(\"./NTDS_Data/countyinflow1516.csv\" )\n",
    "\n",
    "\n",
    "# create the combined fips county number of destination\n",
    "df_migrations['statefips_str'] = df_migrations['y2_statefips'].apply(lambda x : str(x).zfill(2))\n",
    "df_migrations['countyfips_str'] = df_migrations['y2_countyfips'].apply(lambda x : str(x).zfill(3))\n",
    "df_migrations['combined_fips-destination'] = df_migrations['statefips_str'].apply(lambda x: x.lstrip('0')) + df_migrations['countyfips_str']\n",
    "\n",
    "# create the combined fips county number of source\n",
    "df_migrations['statefips_str1'] = df_migrations['y1_statefips'].apply(lambda x : str(x).zfill(2))\n",
    "df_migrations['countyfips_str1'] = df_migrations['y1_countyfips'].apply(lambda x : str(x).zfill(3))\n",
    "df_migrations['combined_fips-source'] = df_migrations['statefips_str1'].apply(lambda x: x.lstrip('0')) + df_migrations['countyfips_str1']\n",
    "\n",
    "\n",
    "#Cleaning the data to have only source and origin counties and unemployment rate as a new column\n",
    "df_migrations = df_migrations[df_migrations['y1_statefips']<=56]\n",
    "df_migrations[\"Unemployment rate\"] = df_migrations[\"n1\"]/(df_migrations[\"n2\"] +df_migrations[\"n1\"] )\n",
    "df_migrations1 = df_migrations[df_migrations['combined_fips-destination'] ==df_migrations['combined_fips-source']]  # keeping Unemployment rate of non migrants\n",
    "\n",
    "\n",
    " #drop useless information \n",
    "df_migrations = df_migrations.drop(columns=[\"y1_countyname\",\"y2_statefips\", \"y2_countyfips\", \"y1_statefips\", \"y1_countyfips\", \"y1_state\", \"statefips_str\", \"countyfips_str\",\"statefips_str1\", \"countyfips_str1\"])\n",
    "df_migrations1 = df_migrations1.drop(columns=[\"y1_countyname\",\"y2_statefips\", \"y2_countyfips\", \"y1_statefips\", \"y1_countyfips\", \"y1_state\", \"statefips_str\", \"countyfips_str\",\"statefips_str1\", \"countyfips_str1\"])\n",
    "df_migrations1 =df_migrations1.drop(columns=[\"agi\",\"combined_fips-source\"])\n",
    "\n",
    "\n",
    "\n",
    "# remove nodes where data is undefined undefined data by zero\n",
    "df_migrations = df_migrations[df_migrations['n1'] != -1]\n",
    "df_migrations1 = df_migrations1[df_migrations1['n1'] != -1]\n",
    "\n",
    "# convert combined fips to int64\n",
    "df_migrations['combined_fips-destination'] = df_migrations['combined_fips-destination'].astype('int64')\n",
    "df_migrations['combined_fips-source'] = df_migrations['combined_fips-source'].astype('int64')\n",
    "df_migrations1['combined_fips-destination'] = df_migrations1['combined_fips-destination'].astype('int64')\n",
    "\n",
    "df_migrations1= df_migrations1.drop(columns=[\"n1\",\"n2\",\"combined_fips-destination\"])\n",
    "\n",
    "#extracting the combined fips destination and combined fips source for graph in form of numpy arrays\n",
    "df_graph= df_migrations.drop(columns=[\"n1\",\"n2\",\"agi\",\"Unemployment rate\"])\n",
    "\n",
    "arr = df_graph.to_numpy()\n",
    "print(df_migrations1)\n"
   ]
  },
  {
   "cell_type": "code",
   "execution_count": 4,
   "metadata": {},
   "outputs": [
    {
     "name": "stdout",
     "output_type": "stream",
     "text": [
      "[ 1001  1003  1005 ... 56041 56043 56045]\n"
     ]
    }
   ],
   "source": [
    "possible_nodes = np.unique(arr)\n",
    "print(possible_nodes)\n",
    "A_migr = np.zeros((len(possible_nodes), len(possible_nodes))) \n",
    "\n",
    "for dest, source in arr : \n",
    "     \n",
    "    i = np.where(possible_nodes == dest)\n",
    "    #print(i)\n",
    "    j = np.where(possible_nodes == source)\n",
    "    #print(j)\n",
    "    A_migr[j[0], i[0]] = 1\n",
    "      \n",
    "np.fill_diagonal(A_migr, 0)\n",
    "z = df_migrations1.to_numpy()\n",
    "d = dict(enumerate(z.flatten(), 0))\n",
    "\n"
   ]
  },
  {
   "cell_type": "code",
   "execution_count": 5,
   "metadata": {},
   "outputs": [
    {
     "name": "stdout",
     "output_type": "stream",
     "text": [
      "Number of nodes: 3141, Number of edges: 46889\n"
     ]
    }
   ],
   "source": [
    "G_migr = nx.from_numpy_matrix(A_migr,create_using = nx.DiGraph())\n",
    "\n",
    "nx.set_node_attributes(G_migr,d,\"Unemployment rate\")\n",
    "print('Number of nodes: {}, Number of edges: {}'. format(G_migr.number_of_nodes(), G_migr.number_of_edges()))\n",
    "#print(' Number of connected components: {}'. format( nx.number_connected_components(G_migr)))\n",
    "nx.write_gexf(G_migr, \"test.gexf\")\n",
    "#print(signal[key])\n",
    "#for i in range(3140):\n",
    "#    print (G_migr.nodes[i])\n",
    "#G_migr.nodes[2001]"
   ]
  },
  {
   "cell_type": "code",
   "execution_count": null,
   "metadata": {},
   "outputs": [],
   "source": []
  },
  {
   "cell_type": "code",
   "execution_count": 6,
   "metadata": {},
   "outputs": [
    {
     "data": {
      "image/png": "[encoded data removed]",
      "text/plain": [
       "<Figure size 432x288 with 1 Axes>"
      ]
     },
     "metadata": {
      "needs_background": "light"
     },
     "output_type": "display_data"
    }
   ],
   "source": [
    "migr_citation = A_migr.sum(1)\n",
    "migr_hist_normalization = np.ones(migr_citation.shape[0]) / migr_citation.shape[0]\n",
    "plt.hist(migr_citation,bins = 10);\n",
    "plt.gca().set(title='Degree ditribution of migration graph', xlabel='Degree');"
   ]
  },
  {
   "cell_type": "code",
   "execution_count": null,
   "metadata": {},
   "outputs": [],
   "source": []
  },
  {
   "cell_type": "code",
   "execution_count": null,
   "metadata": {},
   "outputs": [],
   "source": []
  }
 ],
 "metadata": {
  "kernelspec": {
   "display_name": "Python 3",
   "language": "python",
   "name": "python3"
  },
  "language_info": {
   "codemirror_mode": {
    "name": "ipython",
    "version": 3
   },
   "file_extension": ".py",
   "mimetype": "text/x-python",
   "name": "python",
   "nbconvert_exporter": "python",
   "pygments_lexer": "ipython3",
   "version": "3.7.3"
  }
 },
 "nbformat": 4,
 "nbformat_minor": 4
}
