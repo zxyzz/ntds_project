{
 "cells": [
  {
   "cell_type": "code",
   "execution_count": 21,
   "metadata": {},
   "outputs": [],
   "source": [
    "# cell used to import important library of the notebook\n",
    "import numpy as np\n",
    "import sys\n",
    "from scipy import sparse\n",
    "from scipy.spatial.distance import pdist, squareform\n",
    "import matplotlib.pyplot as plt\n",
    "from mpl_toolkits.mplot3d import Axes3D\n",
    "import pandas as pd\n",
    "import networkx as nx\n",
    "from sklearn.preprocessing import StandardScaler\n",
    "from utils import * # contains all helper functions used in the project"
   ]
  },
  {
   "cell_type": "markdown",
   "metadata": {},
   "source": [
    "# I. Load, clean, study and prepare the data for graph creation\n",
    "## I.1 Data cleaning & preperation\n",
    "**Preparing IRS data**"
   ]
  },
  {
   "cell_type": "code",
   "execution_count": 22,
   "metadata": {},
   "outputs": [],
   "source": [
    "#load the data\n",
    "df_migrations = pd.read_csv(\"./NTDS_Data/countyinflow1516.csv\" )\n",
    "# create the combined fips county number of destination\n",
    "df_migrations['statefips_str'] = df_migrations['y2_statefips'].apply(lambda x : str(x).zfill(2))\n",
    "df_migrations['countyfips_str'] = df_migrations['y2_countyfips'].apply(lambda x : str(x).zfill(3))\n",
    "df_migrations['combined_fips-destination'] = df_migrations['statefips_str'].apply(lambda x: x.lstrip('0')) + df_migrations['countyfips_str']\n",
    "\n",
    "# create the combined fips county number of source\n",
    "df_migrations['statefips_str1'] = df_migrations['y1_statefips'].apply(lambda x : str(x).zfill(2))\n",
    "df_migrations['countyfips_str1'] = df_migrations['y1_countyfips'].apply(lambda x : str(x).zfill(3))\n",
    "df_migrations['combined_fips-source'] = df_migrations['statefips_str1'].apply(lambda x: x.lstrip('0')) + df_migrations['countyfips_str1']\n",
    "\n",
    "\n",
    "# Cleaning the data to have only source and origin counties and unemployment rate as a new column\n",
    "df_migrations = df_migrations[df_migrations['y1_statefips']<=56]\n",
    "df_migrations[\"Unemployment rate\"] = df_migrations[\"n1\"]/(df_migrations[\"n2\"] +df_migrations[\"n1\"] )\n",
    "\n",
    "# drop useless information \n",
    "df_migrations = df_migrations.drop(columns=[\"y1_countyname\",\"y2_statefips\", \"y2_countyfips\", \"y1_statefips\", \"y1_countyfips\", \"y1_state\", \"statefips_str\", \"countyfips_str\",\"statefips_str1\", \"countyfips_str1\"])\n",
    "\n",
    "# remove nodes where data is undefined undefined data by zero\n",
    "df_migrations = df_migrations[df_migrations['n1'] != -1]\n",
    "\n",
    "# convert combined fips to int64\n",
    "df_migrations['combined_fips-destination'] = df_migrations['combined_fips-destination'].astype('int64')\n",
    "df_migrations['combined_fips-source'] = df_migrations['combined_fips-source'].astype('int64')\n",
    "\n",
    "#extracting the combined fips destination and combined fips source for graph in form of numpy arrays\n",
    "df_graph= df_migrations.drop(columns=[\"n1\",\"n2\",\"agi\",\"Unemployment rate\"])\n",
    "\n",
    "# extracting all the combinations that have happened in the US between county\n",
    "dest_source = df_graph.to_numpy()\n",
    "\n",
    "# reset index starting from 0 (because rows were dropped)\n",
    "df_migrations = df_migrations.reset_index()\n",
    "df_migrations = df_migrations.drop(columns=['index'])"
   ]
  },
  {
   "cell_type": "markdown",
   "metadata": {},
   "source": [
    "**From the IRS dataset create adjency matrix**  \n",
    "In this adjency matrix, the nodes are the counties and the edges are :\n",
    "- `A_total[i, j]` := total number of people who migrated from county i to county j\n",
    "- `A_returns[i, j]` := number of people who migrated from i to j and payed taxes \n",
    "- `A_exempt[i, j]` := number of people who migrated from county i to county j and did not payed taxes\n"
   ]
  },
  {
   "cell_type": "code",
   "execution_count": 23,
   "metadata": {},
   "outputs": [],
   "source": [
    "nodes_index = np.unique(dest_source)\n",
    "num_nodes = nodes_index.shape[0]\n",
    "A_total = np.zeros((num_nodes, num_nodes))\n",
    "A_returns = np.zeros((num_nodes, num_nodes))\n",
    "A_exemptions = np.zeros((num_nodes, num_nodes))\n",
    "count = 0\n",
    "for dest, source in dest_source : \n",
    "    i = np.where(nodes_index == dest)\n",
    "    j = np.where(nodes_index == source)\n",
    "    total = df_migrations[\"n1\"][count] + df_migrations[\"n2\"][count]\n",
    "    \n",
    "    A_total[j[0], i[0]] = df_migrations[\"n1\"][count] + df_migrations[\"n2\"][count]\n",
    "    A_returns[j[0], i[0]] = df_migrations[\"n1\"][count]/total\n",
    "    A_exemptions[j[0], i[0]] = df_migrations[\"n2\"][count]/total\n",
    "    count += 1"
   ]
  },
  {
   "cell_type": "markdown",
   "metadata": {},
   "source": [
    "**Preparing the presidential result by county dataset**   \n",
    "The main idea in this cell is to prepare the presidential result by county dataset. To each county a label is given : $+1$ if the county has a majority of Republican and $-1$ if the county has a majority of Democrat"
   ]
  },
  {
   "cell_type": "code",
   "execution_count": 24,
   "metadata": {},
   "outputs": [],
   "source": [
    "df_presidential_result = pd.read_csv(\"./NTDS_Data/2016_US_County_Level_Presidential_Results.csv\" )\n",
    "df_presidential_result = df_presidential_result.drop(columns=[\"Unnamed: 0\",\"votes_dem\", \"votes_gop\", \"total_votes\", \"diff\", \"per_point_diff\", \"state_abbr\", \"county_name\"])\n",
    "\n",
    "#Sorting according to the fips code to be consistent with the migration data by IRS\n",
    "df_presidential_result = df_presidential_result.sort_values(by=['combined_fips'])\n",
    "\n",
    "#Adding a new column of the winners with -1 corresponding to democrat and 1 to republican\n",
    "\n",
    "df_presidential_result[\"Winner\"] =  np.where((df_presidential_result['per_dem'] > df_presidential_result['per_gop']), -1, 1)\n",
    "\n",
    "df_presidential_result = df_presidential_result.drop(columns=[\"per_dem\",\"per_gop\"])\n",
    "\n",
    "# Redindex some FIPS due to difference between FIPS\n",
    "test = nodes_index - df_presidential_result[\"combined_fips\"].values\n",
    "df_presidential_result[\"combined_fips\"] = df_presidential_result[\"combined_fips\"] + test"
   ]
  },
  {
   "cell_type": "markdown",
   "metadata": {},
   "source": [
    "## I.2 Study the datasets at hand \n",
    "First we study the proportion of people paying taxes and not paying taxes for each migration flow. An histogram of these migration is plotted.  \n",
    "As one can see, on average, $35$% of the people in a migration flow are paying taxes (and conversly $65$% are exempt from paying taxes).   \n",
    "At most, $50$% of the people in a migration flow will pay taxes. Hence, it is intersting to note that most people who migrate are not exempt from paying taxes. \n",
    "In subsequent part of this notebook, we will try to see if we can use these proportions to predict if a county is either voting Republican or Democrat. "
   ]
  },
  {
   "cell_type": "code",
   "execution_count": 25,
   "metadata": {},
   "outputs": [],
   "source": [
    "# <returns, exempt>\n",
    "node_pct = np.zeros((df_migrations.shape[0], 2))\n",
    "for i in range (0, df_migrations.shape[0]) : \n",
    "    total = df_migrations['n1'][i] + df_migrations['n2'][i]\n",
    "    node_pct[i, 0] = df_migrations['n1'][i] / total\n",
    "    node_pct[i, 1] = df_migrations['n2'][i] / total\n",
    "df_node_pct = pd.DataFrame(node_pct, columns=[\"pct_return\", \"pct_exempt\"])"
   ]
  },
  {
   "cell_type": "code",
   "execution_count": 26,
   "metadata": {},
   "outputs": [
    {
     "name": "stderr",
     "output_type": "stream",
     "text": [
      "/home/xzou/anaconda3/envs/ntds_2019/lib/python3.7/site-packages/ipykernel_launcher.py:1: MatplotlibDeprecationWarning: \n",
      "The 'normed' kwarg was deprecated in Matplotlib 2.1 and will be removed in 3.1. Use 'density' instead.\n",
      "  \"\"\"Entry point for launching an IPython kernel.\n"
     ]
    },
    {
     "data": {
      "image/png": "[encoded data removed]",
      "text/plain": [
       "<Figure size 432x288 with 1 Axes>"
      ]
     },
     "metadata": {
      "needs_background": "light"
     },
     "output_type": "display_data"
    }
   ],
   "source": [
    "plt.hist(df_node_pct[\"pct_return\"].values, normed=False, bins=30)\n",
    "plt.title('Distribution of the proportion of migration where people are paying taxes')\n",
    "plt.ylabel('Number of migration');\n",
    "plt.xlabel('Pct. of people paying tax and migrating');"
   ]
  },
  {
   "cell_type": "code",
   "execution_count": 27,
   "metadata": {},
   "outputs": [
    {
     "name": "stderr",
     "output_type": "stream",
     "text": [
      "/home/xzou/anaconda3/envs/ntds_2019/lib/python3.7/site-packages/ipykernel_launcher.py:1: MatplotlibDeprecationWarning: \n",
      "The 'normed' kwarg was deprecated in Matplotlib 2.1 and will be removed in 3.1. Use 'density' instead.\n",
      "  \"\"\"Entry point for launching an IPython kernel.\n"
     ]
    },
    {
     "data": {
      "image/png": "[encoded data removed]",
      "text/plain": [
       "<Figure size 432x288 with 1 Axes>"
      ]
     },
     "metadata": {
      "needs_background": "light"
     },
     "output_type": "display_data"
    }
   ],
   "source": [
    "plt.hist(df_node_pct[\"pct_exempt\"].values, normed=False, bins=30)\n",
    "plt.title('Distribution of the proportion of migration where people are not paying taxes')\n",
    "plt.ylabel('Number of migration');\n",
    "plt.xlabel('Pct. of people not paying tax and migrating');"
   ]
  },
  {
   "cell_type": "markdown",
   "metadata": {},
   "source": [
    "One wants to also consider the proportion of Republican and Democrat counties in the US. Before doing the actual computation, a bit of historic background on the US electoral system is required. \n",
    "Historically, most of the states in the US are Republican. Hence, if one draws a simple geographic map of the US, he would color most states in red (the color of the Rebublican). However, if then one scales the size each state with the number of inhabitants in each county, then the proportion of blue and red on the map would be more or less equal, with coastal states (states that are on the Atlantic or Pacific coast) in blue, and the inner states red (Republican). \n",
    "Our computations verify this historical proportions : more than $84$% of the counties are Republican. "
   ]
  },
  {
   "cell_type": "code",
   "execution_count": 28,
   "metadata": {},
   "outputs": [
    {
     "name": "stdout",
     "output_type": "stream",
     "text": [
      "Pct. of counties Republican :  0.8449538363578478  // Pct. of counties Democrat :  0.15504616364215218\n"
     ]
    }
   ],
   "source": [
    "pct_republican = df_presidential_result[df_presidential_result['Winner'] == 1].shape[0] / df_presidential_result.shape[0]\n",
    "pct_democrat = df_presidential_result[df_presidential_result['Winner'] == -1].shape[0] / df_presidential_result.shape[0]\n",
    "print(\"Pct. of counties Republican : \", pct_republican, \" // Pct. of counties Democrat : \", pct_democrat)"
   ]
  },
  {
   "cell_type": "markdown",
   "metadata": {},
   "source": [
    "# II. Creation of simple graph following structure of migration & first attempt to predict county type\n",
    "## II.1 Creation of simple graph\n",
    "The first graphs that will be studied in this notebook are simple to understand as they follow the structure of a migration : if there is a migration between county i and j, then an edge is set between these to counties. \n",
    "Before moving on, it is intersting to note that in this section, we are creating graph that are suppose to show a correlation between a type of migration and a voting pattern in a county. \n",
    "When we refer to \"type of migration\", we mean what kind of proportion is there between people paying taxes and not paying taxes in a specific migration flow. For exemple, we say that a migration flow has a high proportion of people paying taxes if more then $40$% of the people in the migration flow are paying taxes. The idea is to correlate this migration to a specific voting pattern in the destination county. \n",
    "To achieve this task we will be creating 2 types of graph : \n",
    "- `graph_nonRGB_returns` : in these graph there is a migration between two counties if (1) there is an actual migration between county i and j and (2) if the migration flow as a proportion of people paying taxes greater then a **specified threshold**. \n",
    "- `graph_nonRGB_exempt`: same type of graph as before, but now we are studying the proportions of exempted people in a migration flow\n",
    "\n",
    "In subsequent cells, we code mainly two methods : one for creating `graph_nonRGB_return` graphs and one for creating `graph_nonRGB_exempt` \n",
    "\n",
    "Note : we refer to graph created in this section as \"nonRGB\" as in later section we will be using RGB graphs. One can read this notation as being a raw graph built on migration without any kind of similarity extrapolation. "
   ]
  },
  {
   "cell_type": "code",
   "execution_count": 29,
   "metadata": {},
   "outputs": [],
   "source": [
    "def create_adjency_nonRGB_returns(threshold_returns, plot_adj_returns=False) : \n",
    "    \"\"\"\n",
    "    Create the adjency matrix for a graph where there is an edge between two county if migration flow \n",
    "    between two county has a proportion of people paying taxes greater than threshold_returns\n",
    "    \"\"\"\n",
    "    adjacency_nonRGB_returns = A_returns.copy()\n",
    "    adjacency_nonRGB_returns[adjacency_nonRGB_returns >= threshold_returns] = 1\n",
    "    adjacency_nonRGB_returns[adjacency_nonRGB_returns < threshold_returns] = 0\n",
    "\n",
    "    if plot_adj_returns : \n",
    "        plt.spy(adjacency_nonRGB_returns)\n",
    "        plt.show()\n",
    "        \n",
    "    return adjacency_nonRGB_returns\n",
    "\n",
    "def create_graph_nonRGB_returns(threshold_returns, plot_adj_returns=False) :\n",
    "    \"\"\"\n",
    "    Create a graph where there is an edge between two county if migration flow \n",
    "    between two county has a proportion of people paying taxes greater than threshold_returns\n",
    "    The attribute plot_adj_returns can is a boolean used if one wants to plot the adjency matrix of the graph\n",
    "    \"\"\"\n",
    "    i = np.where(nodes_index == dest)\n",
    "    graph_nonRGB_returns = nx.from_numpy_array(create_adjency_nonRGB_returns(threshold_returns, plot_adj_returns))\n",
    "    nodes = np.zeros((nodes_index.shape[0], 2))\n",
    "    for fips, result in df_presidential_result.values :\n",
    "        i = np.where(nodes_index == fips)\n",
    "        index = i[0][0]\n",
    "        nodes[index, 0] = index\n",
    "        nodes[index, 1] = result\n",
    "   \n",
    "    node = pd.DataFrame(nodes, columns=[\"id\", \"result\"])\n",
    "    node_props = node.to_dict()\n",
    "    for key in node_props:\n",
    "        nx.set_node_attributes(graph_nonRGB_returns, node_props[key], key)\n",
    "\n",
    "    nx.write_gexf(graph_nonRGB_returns, 'graph_nonRGB_returns_35.gexf')\n",
    "    return graph_nonRGB_returns\n",
    "\n",
    "def create_graph_nonRGB_returns_features(threshold_returns, plot_adj_returns=False): \n",
    "    i = np.where(nodes_index == dest)\n",
    "    graph_nonRGB_returns = nx.from_numpy_array(create_adjency_nonRGB_returns(threshold_returns, plot_adj_returns))\n",
    "    nodes = np.zeros((nodes_index.shape[0], 4))\n",
    "    for fips, result in df_presidential_result.values :\n",
    "        i = np.where(nodes_index == fips)\n",
    "        index = i[0][0]\n",
    "        nodes[index, 0] = index\n",
    "        nodes[index, 1] = result\n",
    "   \n",
    "    for j in range (0, df_migrations.shape[0]): \n",
    "        fips = df_migrations['combined_fips-destination'][j]\n",
    "        i = np.where(nodes_index == fips)\n",
    "        index = i[0][0]\n",
    "        nodes[index, 2] = df_migrations['agi'][j]\n",
    "        nodes[index, 3] = df_migrations['Unemployment rate'][j]\n",
    "    \n",
    "    node = pd.DataFrame(nodes, columns=[\"id\", \"result\", \"agi\", \"unemployment_rate\"])\n",
    "    node_props = node.to_dict()\n",
    "    for key in node_props:\n",
    "        nx.set_node_attributes(graph_nonRGB_returns, node_props[key], key)\n",
    "\n",
    "    nx.write_gexf(graph_nonRGB_returns, 'graph_nonRGB_returns_35.gexf')\n",
    "    return graph_nonRGB_returns, node"
   ]
  },
  {
   "cell_type": "code",
   "execution_count": 40,
   "metadata": {},
   "outputs": [],
   "source": [
    "# test if the function create_graph_nonRGB_returns is working\n",
    "_, features1 = create_graph_nonRGB_returns_features(0.38)"
   ]
  },
  {
   "cell_type": "code",
   "execution_count": 34,
   "metadata": {},
   "outputs": [],
   "source": [
    "adjacency_nonRGB_returns = create_adjency_nonRGB_returns(0.38, plot_adj_returns=False)"
   ]
  },
  {
   "cell_type": "code",
   "execution_count": 35,
   "metadata": {},
   "outputs": [
    {
     "data": {
      "text/plain": [
       "array([[0., 0., 0., ..., 0., 0., 0.],\n",
       "       [0., 0., 0., ..., 0., 0., 0.],\n",
       "       [0., 0., 0., ..., 0., 0., 0.],\n",
       "       ...,\n",
       "       [0., 0., 0., ..., 0., 0., 0.],\n",
       "       [0., 0., 0., ..., 0., 0., 0.],\n",
       "       [0., 0., 0., ..., 0., 0., 0.]])"
      ]
     },
     "execution_count": 35,
     "metadata": {},
     "output_type": "execute_result"
    }
   ],
   "source": []
  },
  {
   "cell_type": "code",
   "execution_count": 43,
   "metadata": {},
   "outputs": [
    {
     "name": "stdout",
     "output_type": "stream",
     "text": [
      "3141\n"
     ]
    }
   ],
   "source": [
    "# prepare A and x(signal)\n",
    "A_migration = adjacency_nonRGB_returns.copy()\n",
    "# define two different targets for migration adjacency matrix\n",
    "#y_unemployment_rate = df_migrations1[\"Unemployment rate\"].copy()\n",
    "y_presidential_result = features1[\"result\"].copy()\n",
    "# compute lamb and U\n",
    "laplacian_migration = compute_laplacian(A_migration, normalize=True)\n",
    "lamb_migration, U_migration = spectral_decomposition(laplacian_migration)"
   ]
  },
  {
   "cell_type": "code",
   "execution_count": 44,
   "metadata": {},
   "outputs": [
    {
     "name": "stdout",
     "output_type": "stream",
     "text": [
      "3141\n"
     ]
    }
   ],
   "source": [
    "# prepare filter\n",
    "ideal_lp_migration = np.ones((A_migration.shape[0],)) \n",
    "ideal_lp_migration[lamb_migration >= 0.1] = 0   # to tune\n",
    "# apply filter\n",
    "x_lp_migration = ideal_graph_filter(y_presidential_result.copy(),ideal_lp_migration,U_migration)"
   ]
  },
  {
   "cell_type": "code",
   "execution_count": 48,
   "metadata": {},
   "outputs": [],
   "source": [
    "iters = 10\n",
    "n = int(len(y_presidential_result)*0.2)"
   ]
  },
  {
   "cell_type": "code",
   "execution_count": 49,
   "metadata": {},
   "outputs": [
    {
     "name": "stdout",
     "output_type": "stream",
     "text": [
      "The mean is  0.8783787613383739\n",
      "The variance is  0.012052096120726927\n"
     ]
    }
   ],
   "source": [
    "accuracy_mean_migration, accuracy_var_migration = pred_iteration(A_migration,iters, y_presidential_result, n, x_lp_migration)"
   ]
  },
  {
   "cell_type": "code",
   "execution_count": 52,
   "metadata": {},
   "outputs": [],
   "source": [
    "X_migration = features1.drop(columns=['id', 'result']).values"
   ]
  },
  {
   "cell_type": "code",
   "execution_count": 54,
   "metadata": {},
   "outputs": [
    {
     "name": "stdout",
     "output_type": "stream",
     "text": [
      "Computing\n",
      "10 %\n",
      "20 %\n",
      "30 %\n",
      "40 %\n",
      "50 %\n",
      "60 %\n",
      "70 %\n",
      "80 %\n",
      "90 %\n",
      "100 %\n",
      "The mean of f1 score is  0.9179262282947448\n",
      "The variance of f1 score is  0.008141397388559221\n"
     ]
    }
   ],
   "source": [
    "mean_unemployment_rate,var_unemployment_rate = apply_gcn(iters,X_migration,y_presidential_result,A_migration,laplacian_migration,lamb_migration,U_migration)"
   ]
  },
  {
   "cell_type": "code",
   "execution_count": 41,
   "metadata": {},
   "outputs": [
    {
     "data": {
      "text/html": [
       "<div>\n",
       "<style scoped>\n",
       "    .dataframe tbody tr th:only-of-type {\n",
       "        vertical-align: middle;\n",
       "    }\n",
       "\n",
       "    .dataframe tbody tr th {\n",
       "        vertical-align: top;\n",
       "    }\n",
       "\n",
       "    .dataframe thead th {\n",
       "        text-align: right;\n",
       "    }\n",
       "</style>\n",
       "<table border=\"1\" class=\"dataframe\">\n",
       "  <thead>\n",
       "    <tr style=\"text-align: right;\">\n",
       "      <th></th>\n",
       "      <th>id</th>\n",
       "      <th>result</th>\n",
       "      <th>agi</th>\n",
       "      <th>unemployment_rate</th>\n",
       "    </tr>\n",
       "  </thead>\n",
       "  <tbody>\n",
       "    <tr>\n",
       "      <td>0</td>\n",
       "      <td>0.0</td>\n",
       "      <td>1.0</td>\n",
       "      <td>761.0</td>\n",
       "      <td>0.363636</td>\n",
       "    </tr>\n",
       "    <tr>\n",
       "      <td>1</td>\n",
       "      <td>1.0</td>\n",
       "      <td>1.0</td>\n",
       "      <td>1848.0</td>\n",
       "      <td>0.307692</td>\n",
       "    </tr>\n",
       "    <tr>\n",
       "      <td>2</td>\n",
       "      <td>2.0</td>\n",
       "      <td>1.0</td>\n",
       "      <td>757.0</td>\n",
       "      <td>0.294118</td>\n",
       "    </tr>\n",
       "    <tr>\n",
       "      <td>3</td>\n",
       "      <td>3.0</td>\n",
       "      <td>1.0</td>\n",
       "      <td>865.0</td>\n",
       "      <td>0.290323</td>\n",
       "    </tr>\n",
       "    <tr>\n",
       "      <td>4</td>\n",
       "      <td>4.0</td>\n",
       "      <td>1.0</td>\n",
       "      <td>1270.0</td>\n",
       "      <td>0.326316</td>\n",
       "    </tr>\n",
       "    <tr>\n",
       "      <td>...</td>\n",
       "      <td>...</td>\n",
       "      <td>...</td>\n",
       "      <td>...</td>\n",
       "      <td>...</td>\n",
       "    </tr>\n",
       "    <tr>\n",
       "      <td>3136</td>\n",
       "      <td>3136.0</td>\n",
       "      <td>1.0</td>\n",
       "      <td>883.0</td>\n",
       "      <td>0.289855</td>\n",
       "    </tr>\n",
       "    <tr>\n",
       "      <td>3137</td>\n",
       "      <td>3137.0</td>\n",
       "      <td>-1.0</td>\n",
       "      <td>1561.0</td>\n",
       "      <td>0.425532</td>\n",
       "    </tr>\n",
       "    <tr>\n",
       "      <td>3138</td>\n",
       "      <td>3138.0</td>\n",
       "      <td>1.0</td>\n",
       "      <td>968.0</td>\n",
       "      <td>0.304348</td>\n",
       "    </tr>\n",
       "    <tr>\n",
       "      <td>3139</td>\n",
       "      <td>3139.0</td>\n",
       "      <td>1.0</td>\n",
       "      <td>220127.0</td>\n",
       "      <td>0.309895</td>\n",
       "    </tr>\n",
       "    <tr>\n",
       "      <td>3140</td>\n",
       "      <td>3140.0</td>\n",
       "      <td>1.0</td>\n",
       "      <td>1634.0</td>\n",
       "      <td>0.381579</td>\n",
       "    </tr>\n",
       "  </tbody>\n",
       "</table>\n",
       "<p>3141 rows × 4 columns</p>\n",
       "</div>"
      ],
      "text/plain": [
       "          id  result       agi  unemployment_rate\n",
       "0        0.0     1.0     761.0           0.363636\n",
       "1        1.0     1.0    1848.0           0.307692\n",
       "2        2.0     1.0     757.0           0.294118\n",
       "3        3.0     1.0     865.0           0.290323\n",
       "4        4.0     1.0    1270.0           0.326316\n",
       "...      ...     ...       ...                ...\n",
       "3136  3136.0     1.0     883.0           0.289855\n",
       "3137  3137.0    -1.0    1561.0           0.425532\n",
       "3138  3138.0     1.0     968.0           0.304348\n",
       "3139  3139.0     1.0  220127.0           0.309895\n",
       "3140  3140.0     1.0    1634.0           0.381579\n",
       "\n",
       "[3141 rows x 4 columns]"
      ]
     },
     "execution_count": 41,
     "metadata": {},
     "output_type": "execute_result"
    }
   ],
   "source": [
    "features1"
   ]
  },
  {
   "cell_type": "code",
   "execution_count": null,
   "metadata": {},
   "outputs": [],
   "source": []
  },
  {
   "cell_type": "code",
   "execution_count": null,
   "metadata": {},
   "outputs": [],
   "source": []
  },
  {
   "cell_type": "code",
   "execution_count": null,
   "metadata": {},
   "outputs": [],
   "source": []
  },
  {
   "cell_type": "code",
   "execution_count": 31,
   "metadata": {},
   "outputs": [],
   "source": [
    "# construct graph for flows with more then 45% returns \n",
    "# create adjacency matrix for flows with more then 45% returns \n",
    "def create_adjency_nonRGB_exempt(thershold_exempt, plot_adj_exempt = False ) : \n",
    "    \"\"\"\n",
    "    Create the adjency matrix for a graph where there is an edge between two county if migration flow \n",
    "    between two county has a proportion of people not paying taxes greater than thershold_exempt\n",
    "    \"\"\"\n",
    "    adjacency_nonRGB_exempt = A_exemptions.copy()\n",
    "    adjacency_nonRGB_exempt[adjacency_nonRGB_exempt >= thershold_exempt] = 1\n",
    "    adjacency_nonRGB_exempt[adjacency_nonRGB_exempt < thershold_exempt] = 0\n",
    "    \n",
    "    if plot_adj_exempt : \n",
    "        plt.spy(adjacency_nonRGB_exempt)\n",
    "        plt.show()\n",
    "        \n",
    "    return adjacency_nonRGB_exempt\n",
    "\n",
    "def create_graph_nonRGB_exempt(threshold_exempt, plot_adj_exempt = False) : \n",
    "    \"\"\"\n",
    "    Create a graph where there is an edge between two county if migration flow \n",
    "    between two county has a proportion of people not paying taxes greater than threshold_exempt\n",
    "    The attribute plot_adj_exempt can is a boolean used if one wants to plot the adjency matrix of the graph\n",
    "    \"\"\"\n",
    "    i = np.where(nodes_index == dest)\n",
    "    graph_nonRGB_exempt = nx.from_numpy_array(create_adjency_nonRGB_exempt(threshold_exempt, plot_adj_exempt))\n",
    "    nodes = np.zeros((nodes_index.shape[0], 2))\n",
    "    for fips, result in df_presidential_result.values :\n",
    "        i = np.where(nodes_index == fips)\n",
    "        index = i[0][0]\n",
    "        nodes[index, 0] = index\n",
    "        nodes[index, 1] = result\n",
    "        \n",
    "    node = pd.DataFrame(nodes, columns=[\"id\", \"result\"])\n",
    "    node_props = node.to_dict()\n",
    "    for key in node_props:\n",
    "        nx.set_node_attributes(graph_nonRGB_exempt, node_props[key], key)\n",
    "\n",
    "    nx.write_gexf(graph_nonRGB_exempt, 'graph_nonRGB_exempt.gexf')\n",
    "    return graph_nonRGB_exempt\n",
    "\n",
    "def create_graph_nonRGB_exempt_features(threshold_exempt, plot_adj_exempt = False) :  \n",
    "    i = np.where(nodes_index == dest)\n",
    "    graph_nonRGB_exempt = nx.from_numpy_array(create_adjency_nonRGB_exempt(threshold_exempt, plot_adj_exempt))\n",
    "    nodes = np.zeros((nodes_index.shape[0], 4))\n",
    "    for fips, result in df_presidential_result.values :\n",
    "        i = np.where(nodes_index == fips)\n",
    "        index = i[0][0]\n",
    "        nodes[index, 0] = index\n",
    "        nodes[index, 1] = result\n",
    "    \n",
    "    for j in range (0, df_migrations.shape[0]): \n",
    "        fips = df_migrations['combined_fips-destination'][j]\n",
    "        i = np.where(nodes_index == fips)\n",
    "        index = i[0][0]\n",
    "        nodes[index, 2] = df_migrations['agi'][j]\n",
    "        nodes[index, 3] = df_migrations['Unemployment rate'][j]\n",
    "        \n",
    "    node = pd.DataFrame(nodes, columns=[\"id\", \"result\", \"agi\", \"unemployment_rate\"])\n",
    "    node_props = node.to_dict()\n",
    "    for key in node_props:\n",
    "        nx.set_node_attributes(graph_nonRGB_exempt, node_props[key], key)\n",
    "\n",
    "    nx.write_gexf(graph_nonRGB_exempt, 'graph_nonRGB_exempt.gexf')\n",
    "    return graph_nonRGB_exempt, node\n"
   ]
  },
  {
   "cell_type": "code",
   "execution_count": 32,
   "metadata": {},
   "outputs": [],
   "source": [
    "# test if the function create_adjency_nonRGB_exempt is working \n",
    "_, xiaoyan2 = create_graph_nonRGB_exempt_features(0.56)"
   ]
  },
  {
   "cell_type": "markdown",
   "metadata": {},
   "source": [
    "## II.2 First attempt at predicting election results\n",
    "With the graph built in the previous section, we want to see if there is some sort of pattern between a particular structure of the graph and the voting pattern in the county. \n",
    "### III.2.1 First observations using Gephi\n",
    "The first hypothesis that could be stated are the following : \n",
    "1. **Hypothesis 1** : a migration flow with a more than 35% people paying taxes will have as destination a republican county. One could think that people paying taxes would like to move to Republican county were taxes such as the proprety tax are lower. \n",
    "2. **Hypothesis 2** : a migration flow with a more than 70% people not paying taxes will have as destination a democrat county. One could think that people with the lowest income would move to county were charity is more developed (we are not considering helps from the state, which is the same whatever the state).\n",
    "\n",
    "To validate or reject these two hypotethis, we are building two graph. The first one considers only the migration flow between counties were more then $38$% of the migrants are paying taxes. The second graph considers only the migration flow between counties were more then $70$% of the migrants are paying taxes. \n",
    "If hypothesis 1 is correct, then one can consider then there is \n",
    "The adjacency matrix is then build by thresholding each weights. More precisely, we keep only migration that have more than 70% of people not paying taxes, or we keep flows where more than 35% of people are paying taxes. These values were chosen to represent the last quartile of each proportion distribution discussed earlier. \n",
    "The graph is then saved into a $gexf$ file and studied with the application $Gephi$. "
   ]
  },
  {
   "cell_type": "code",
   "execution_count": 13,
   "metadata": {},
   "outputs": [],
   "source": [
    "def get_degree_attribute (G) :\n",
    "    degree_attr = [(G.degree(n), G.nodes[n]['result']) for n in G.nodes()]\n",
    "    return np.array(degree_attr)\n",
    "\n",
    "def get_degree_party (degree_attr) : \n",
    "    democrats = []\n",
    "    republicans = []\n",
    "    for tuple_ in degree_attr : \n",
    "        if tuple_[1] == -1 : \n",
    "            democrats.append(tuple_[0])\n",
    "        else : \n",
    "            republicans.append(tuple_[0])\n",
    "    return democrats, republicans \n",
    "\n",
    "def cross_validation_returns (threshold_range_min, threshold_range_max, step=0.01, print_best=False) : \n",
    "    thresholds = np.arange(start=threshold_range_min, stop=threshold_range_max, step=step)\n",
    "    max_global = 0\n",
    "    best_cut = 0\n",
    "    best_threshold = 0\n",
    "    for threshold in thresholds : \n",
    "        graph_nonRGB_returns = create_graph_nonRGB_returns(threshold)\n",
    "        degree_attr = get_degree_attribute(graph_nonRGB_returns)\n",
    "        d, r = get_degree_party(degree_attr)\n",
    "        d = np.array(d)\n",
    "        r = np.array(r)\n",
    "        \n",
    "        d_qt025 = np.quantile(d, 0.25)\n",
    "        d_qt075 = np.quantile(d, 0.75)\n",
    "        cuts = np.arange(d_qt025, d_qt075, 1)\n",
    "        max_local = 0\n",
    "        cut_local = 0\n",
    "        for cut in cuts : \n",
    "            temp = np.abs(d[d > cut].shape[0]/d.shape[0] - r[r > cut].shape[0]/r.shape[0])\n",
    "            if temp > max_local : \n",
    "                max_local = temp\n",
    "                cut_local = cut\n",
    "        \n",
    "        if max_local > max_global : \n",
    "            max_global = max_local\n",
    "            best_threshold = threshold\n",
    "            best_cut = cut_local\n",
    "        \n",
    "    if print_best : \n",
    "        graph_nonRGB_returns = create_graph_nonRGB_returns(best_threshold)\n",
    "        degree_attr = get_degree_attribute(graph_nonRGB_returns)\n",
    "        d, r = get_degree_party(degree_attr)\n",
    "        d = np.array(d)\n",
    "        r = np.array(r)\n",
    "        print(d[d > best_cut].shape[0]/d.shape[0])\n",
    "        print(r[r > best_cut].shape[0]/r.shape[0])   \n",
    "        plt.hist(d, normed=True, bins= 100)\n",
    "        plt.show()\n",
    "        plt.hist(r, normed=True, bins= 100)\n",
    "        plt.show()\n",
    "    return best_cut, best_threshold"
   ]
  },
  {
   "cell_type": "code",
   "execution_count": 14,
   "metadata": {},
   "outputs": [
    {
     "name": "stdout",
     "output_type": "stream",
     "text": [
      "0.5174537987679672\n",
      "0.08251695553880935\n"
     ]
    },
    {
     "data": {
      "image/png": "[encoded data removed]",
      "text/plain": [
       "<Figure size 432x288 with 1 Axes>"
      ]
     },
     "metadata": {
      "needs_background": "light"
     },
     "output_type": "display_data"
    },
    {
     "data": {
      "image/png": "[encoded data removed]",
      "text/plain": [
       "<Figure size 432x288 with 1 Axes>"
      ]
     },
     "metadata": {
      "needs_background": "light"
     },
     "output_type": "display_data"
    },
    {
     "data": {
      "text/plain": [
       "(6.0, 0.38000000000000006)"
      ]
     },
     "execution_count": 14,
     "metadata": {},
     "output_type": "execute_result"
    }
   ],
   "source": [
    "cross_validation_returns(0.3, 0.6, print_best=True)"
   ]
  },
  {
   "cell_type": "code",
   "execution_count": null,
   "metadata": {},
   "outputs": [],
   "source": []
  },
  {
   "cell_type": "code",
   "execution_count": 15,
   "metadata": {},
   "outputs": [],
   "source": [
    "#a_dict = graph_nonRGB_returns.neighbors\n",
    "def compute_mean (neigh_degree) : \n",
    "    if neigh_degree.shape[0] == 0 : \n",
    "        return 0\n",
    "    else :\n",
    "        return neigh_degree.mean()\n",
    "\n",
    "def mean_degree_neighbors (G) :\n",
    "    degree_attr = get_degree_attribute(G)\n",
    "    mean_degree_neigh = []\n",
    "    dicts = [G.neighbors(n) for n in G.nodes]\n",
    "    for a_dict in dicts : \n",
    "        neigh_degree = []\n",
    "        for key in a_dict:\n",
    "            neigh_degree.append(degree_attr[key][0])        \n",
    "        mean_degree_neigh.append(compute_mean(np.array(neigh_degree)))\n",
    "    return np.concatenate((np.array(mean_degree_neigh).reshape(degree_attr.shape[0], 1), degree_attr[:, 1].reshape(degree_attr.shape[0], 1)), axis=1)\n",
    "\n",
    "def cross_validation_neigh_returns (threshold_range_min, threshold_range_max, step=0.01, print_best=False) : \n",
    "    thresholds = np.arange(start=threshold_range_min, stop=threshold_range_max, step=step)\n",
    "    max_global = 0\n",
    "    best_cut = 0\n",
    "    best_threshold = 0\n",
    "    for threshold in thresholds : \n",
    "        graph_nonRGB_returns = create_graph_nonRGB_returns(threshold)\n",
    "        degree_attr = mean_degree_neighbors(graph_nonRGB_returns)\n",
    "        d, r = get_degree_party(degree_attr)\n",
    "        d = np.array(d)\n",
    "        r = np.array(r)\n",
    "        d_qt025 = np.quantile(d, 0.25)\n",
    "        d_qt075 = np.quantile(d, 0.75)\n",
    "\n",
    "        cuts = np.arange(d_qt025, d_qt075, 1)\n",
    "        max_local = 0\n",
    "        cut_local = 0\n",
    "        for cut in cuts : \n",
    "            temp = np.abs(d[d > cut].shape[0]/d.shape[0] - r[r > cut].shape[0]/r.shape[0])\n",
    "            if temp > max_local : \n",
    "                max_local = temp\n",
    "                cut_local = cut\n",
    "        \n",
    "        if max_local > max_global : \n",
    "            max_global = max_local\n",
    "            best_threshold = threshold\n",
    "            best_cut = cut_local\n",
    "        \n",
    "    if print_best : \n",
    "        graph_nonRGB_returns = create_graph_nonRGB_returns(best_threshold)\n",
    "        degree_attr = mean_degree_neighbors(graph_nonRGB_returns)\n",
    "        d, r = get_degree_party(degree_attr)\n",
    "        d = np.array(d)\n",
    "        r = np.array(r)\n",
    "        print(d[d > best_cut].shape[0]/d.shape[0])\n",
    "        print(r[r > best_cut].shape[0]/r.shape[0])   \n",
    "        plt.hist(d, normed=True, bins= 100)\n",
    "        plt.show()\n",
    "        plt.hist(r, normed=True, bins= 100)\n",
    "        plt.show()\n",
    "    return best_cut, best_threshold"
   ]
  },
  {
   "cell_type": "code",
   "execution_count": 16,
   "metadata": {},
   "outputs": [
    {
     "name": "stdout",
     "output_type": "stream",
     "text": [
      "0.7002053388090349\n",
      "0.2629992464204974\n"
     ]
    },
    {
     "data": {
      "image/png": "[encoded data removed]",
      "text/plain": [
       "<Figure size 432x288 with 1 Axes>"
      ]
     },
     "metadata": {
      "needs_background": "light"
     },
     "output_type": "display_data"
    },
    {
     "data": {
      "image/png": "[encoded data removed]",
      "text/plain": [
       "<Figure size 432x288 with 1 Axes>"
      ]
     },
     "metadata": {
      "needs_background": "light"
     },
     "output_type": "display_data"
    },
    {
     "name": "stdout",
     "output_type": "stream",
     "text": [
      "best cut is :  62.86904761904762  // best thershold us :  0.31\n"
     ]
    }
   ],
   "source": [
    "best_cut, best_thershold = cross_validation_neigh_returns(0.3, 0.6, print_best=True)\n",
    "print(\"best cut is : \", best_cut, \" // best thershold us : \", best_thershold)"
   ]
  },
  {
   "cell_type": "code",
   "execution_count": 17,
   "metadata": {},
   "outputs": [],
   "source": [
    "def cross_validation_neigh_exempt (threshold_range_min, threshold_range_max, step=0.01, print_best=False) : \n",
    "    thresholds = np.arange(start=threshold_range_min, stop=threshold_range_max, step=step)\n",
    "    max_global = 0\n",
    "    best_cut = 0\n",
    "    best_threshold = 0\n",
    "    for threshold in thresholds : \n",
    "        graph_nonRGB_exempt = create_graph_nonRGB_exempt(threshold)\n",
    "        degree_attr = mean_degree_neighbors(graph_nonRGB_exempt)\n",
    "        d, r = get_degree_party(degree_attr)\n",
    "        d = np.array(d)\n",
    "        r = np.array(r)\n",
    "        d_qt025 = np.quantile(d, 0.25)\n",
    "        d_qt075 = np.quantile(d, 0.75)\n",
    "\n",
    "        cuts = np.arange(d_qt025, d_qt075, 1)\n",
    "        max_local = 0\n",
    "        cut_local = 0\n",
    "        for cut in cuts : \n",
    "            temp = np.abs(d[d > cut].shape[0]/d.shape[0] - r[r > cut].shape[0]/r.shape[0])\n",
    "            if temp > max_local : \n",
    "                max_local = temp\n",
    "                cut_local = cut\n",
    "        \n",
    "        if max_local > max_global : \n",
    "            max_global = max_local\n",
    "            best_threshold = threshold\n",
    "            best_cut = cut_local\n",
    "        \n",
    "    if print_best : \n",
    "        graph_nonRGB_exempt = create_graph_nonRGB_exempt(best_threshold)\n",
    "        degree_attr = mean_degree_neighbors(graph_nonRGB_exempt)\n",
    "        d, r = get_degree_party(degree_attr)\n",
    "        d = np.array(d)\n",
    "        r = np.array(r)\n",
    "        print(d[d > best_cut].shape[0]/d.shape[0])\n",
    "        print(r[r > best_cut].shape[0]/r.shape[0])   \n",
    "        plt.hist(d, normed=True, bins= 100)\n",
    "        plt.show()\n",
    "        plt.hist(r, normed=True, bins= 100)\n",
    "        plt.show()\n",
    "    return best_cut, best_threshold"
   ]
  },
  {
   "cell_type": "code",
   "execution_count": 18,
   "metadata": {},
   "outputs": [
    {
     "name": "stdout",
     "output_type": "stream",
     "text": [
      "0.6468172484599589\n",
      "0.2162773172569706\n"
     ]
    },
    {
     "data": {
      "image/png": "[encoded data removed]",
      "text/plain": [
       "<Figure size 432x288 with 1 Axes>"
      ]
     },
     "metadata": {
      "needs_background": "light"
     },
     "output_type": "display_data"
    },
    {
     "data": {
      "image/png": "[encoded data removed]",
      "text/plain": [
       "<Figure size 432x288 with 1 Axes>"
      ]
     },
     "metadata": {
      "needs_background": "light"
     },
     "output_type": "display_data"
    },
    {
     "name": "stdout",
     "output_type": "stream",
     "text": [
      "best cut is :  75.69047619047619  // best thershold us :  0.56\n"
     ]
    }
   ],
   "source": [
    "best_cut, best_thershold = cross_validation_neigh_exempt(0.55, 0.8, print_best=True)\n",
    "print(\"best cut is : \", best_cut, \" // best thershold us : \", best_thershold)"
   ]
  },
  {
   "cell_type": "code",
   "execution_count": null,
   "metadata": {},
   "outputs": [],
   "source": []
  },
  {
   "cell_type": "code",
   "execution_count": null,
   "metadata": {},
   "outputs": [],
   "source": []
  },
  {
   "cell_type": "code",
   "execution_count": null,
   "metadata": {},
   "outputs": [],
   "source": []
  }
 ],
 "metadata": {
  "kernelspec": {
   "display_name": "Python 3",
   "language": "python",
   "name": "python3"
  },
  "language_info": {
   "codemirror_mode": {
    "name": "ipython",
    "version": 3
   },
   "file_extension": ".py",
   "mimetype": "text/x-python",
   "name": "python",
   "nbconvert_exporter": "python",
   "pygments_lexer": "ipython3",
   "version": "3.7.3"
  }
 },
 "nbformat": 4,
 "nbformat_minor": 2
}
